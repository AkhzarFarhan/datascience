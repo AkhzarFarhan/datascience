{
 "cells": [
  {
   "cell_type": "code",
   "execution_count": 1,
   "metadata": {},
   "outputs": [],
   "source": [
    "import pandas as pd\n",
    "import numpy as np"
   ]
  },
  {
   "cell_type": "code",
   "execution_count": 2,
   "metadata": {},
   "outputs": [
    {
     "data": {
      "text/html": [
       "<div>\n",
       "<style scoped>\n",
       "    .dataframe tbody tr th:only-of-type {\n",
       "        vertical-align: middle;\n",
       "    }\n",
       "\n",
       "    .dataframe tbody tr th {\n",
       "        vertical-align: top;\n",
       "    }\n",
       "\n",
       "    .dataframe thead th {\n",
       "        text-align: right;\n",
       "    }\n",
       "</style>\n",
       "<table border=\"1\" class=\"dataframe\">\n",
       "  <thead>\n",
       "    <tr style=\"text-align: right;\">\n",
       "      <th></th>\n",
       "      <th>NDB_No</th>\n",
       "      <th>Shrt_Desc</th>\n",
       "      <th>Water_(g)</th>\n",
       "      <th>Energ_Kcal</th>\n",
       "      <th>Protein_(g)</th>\n",
       "      <th>Lipid_Tot_(g)</th>\n",
       "      <th>Ash_(g)</th>\n",
       "      <th>Carbohydrt_(g)</th>\n",
       "      <th>Fiber_TD_(g)</th>\n",
       "      <th>Sugar_Tot_(g)</th>\n",
       "      <th>...</th>\n",
       "      <th>Vit_D_IU</th>\n",
       "      <th>Vit_K_(mg)</th>\n",
       "      <th>FA_Sat_(g)</th>\n",
       "      <th>FA_Mono_(g)</th>\n",
       "      <th>FA_Poly_(g)</th>\n",
       "      <th>Cholestrl_(mg)</th>\n",
       "      <th>GmWt_1</th>\n",
       "      <th>GmWt_Desc1</th>\n",
       "      <th>GmWt_2</th>\n",
       "      <th>GmWt_Desc2</th>\n",
       "    </tr>\n",
       "  </thead>\n",
       "  <tbody>\n",
       "    <tr>\n",
       "      <th>0</th>\n",
       "      <td>1001</td>\n",
       "      <td>BUTTER,WITH SALT</td>\n",
       "      <td>15.87</td>\n",
       "      <td>717</td>\n",
       "      <td>0.85</td>\n",
       "      <td>81.11</td>\n",
       "      <td>2.11</td>\n",
       "      <td>0.06</td>\n",
       "      <td>0.0</td>\n",
       "      <td>0.06</td>\n",
       "      <td>...</td>\n",
       "      <td>0.0</td>\n",
       "      <td>7.0</td>\n",
       "      <td>51.368</td>\n",
       "      <td>21.021</td>\n",
       "      <td>3.043</td>\n",
       "      <td>215.0</td>\n",
       "      <td>5.00</td>\n",
       "      <td>1 pat,  (1\" sq, 1/3\" high)</td>\n",
       "      <td>14.2</td>\n",
       "      <td>1 tbsp</td>\n",
       "    </tr>\n",
       "    <tr>\n",
       "      <th>1</th>\n",
       "      <td>1002</td>\n",
       "      <td>BUTTER,WHIPPED,W/ SALT</td>\n",
       "      <td>16.72</td>\n",
       "      <td>718</td>\n",
       "      <td>0.49</td>\n",
       "      <td>78.30</td>\n",
       "      <td>1.62</td>\n",
       "      <td>2.87</td>\n",
       "      <td>0.0</td>\n",
       "      <td>0.06</td>\n",
       "      <td>...</td>\n",
       "      <td>0.0</td>\n",
       "      <td>4.6</td>\n",
       "      <td>45.390</td>\n",
       "      <td>19.874</td>\n",
       "      <td>3.331</td>\n",
       "      <td>225.0</td>\n",
       "      <td>3.80</td>\n",
       "      <td>1 pat,  (1\" sq, 1/3\" high)</td>\n",
       "      <td>9.4</td>\n",
       "      <td>1 tbsp</td>\n",
       "    </tr>\n",
       "    <tr>\n",
       "      <th>2</th>\n",
       "      <td>1003</td>\n",
       "      <td>BUTTER OIL,ANHYDROUS</td>\n",
       "      <td>0.24</td>\n",
       "      <td>876</td>\n",
       "      <td>0.28</td>\n",
       "      <td>99.48</td>\n",
       "      <td>0.00</td>\n",
       "      <td>0.00</td>\n",
       "      <td>0.0</td>\n",
       "      <td>0.00</td>\n",
       "      <td>...</td>\n",
       "      <td>0.0</td>\n",
       "      <td>8.6</td>\n",
       "      <td>61.924</td>\n",
       "      <td>28.732</td>\n",
       "      <td>3.694</td>\n",
       "      <td>256.0</td>\n",
       "      <td>12.80</td>\n",
       "      <td>1 tbsp</td>\n",
       "      <td>205.0</td>\n",
       "      <td>1 cup</td>\n",
       "    </tr>\n",
       "    <tr>\n",
       "      <th>3</th>\n",
       "      <td>1004</td>\n",
       "      <td>CHEESE,BLUE</td>\n",
       "      <td>42.41</td>\n",
       "      <td>353</td>\n",
       "      <td>21.40</td>\n",
       "      <td>28.74</td>\n",
       "      <td>5.11</td>\n",
       "      <td>2.34</td>\n",
       "      <td>0.0</td>\n",
       "      <td>0.50</td>\n",
       "      <td>...</td>\n",
       "      <td>21.0</td>\n",
       "      <td>2.4</td>\n",
       "      <td>18.669</td>\n",
       "      <td>7.778</td>\n",
       "      <td>0.800</td>\n",
       "      <td>75.0</td>\n",
       "      <td>28.35</td>\n",
       "      <td>1 oz</td>\n",
       "      <td>17.0</td>\n",
       "      <td>1 cubic inch</td>\n",
       "    </tr>\n",
       "    <tr>\n",
       "      <th>4</th>\n",
       "      <td>1005</td>\n",
       "      <td>CHEESE,BRICK</td>\n",
       "      <td>41.11</td>\n",
       "      <td>371</td>\n",
       "      <td>23.24</td>\n",
       "      <td>29.68</td>\n",
       "      <td>3.18</td>\n",
       "      <td>2.79</td>\n",
       "      <td>0.0</td>\n",
       "      <td>0.51</td>\n",
       "      <td>...</td>\n",
       "      <td>22.0</td>\n",
       "      <td>2.5</td>\n",
       "      <td>18.764</td>\n",
       "      <td>8.598</td>\n",
       "      <td>0.784</td>\n",
       "      <td>94.0</td>\n",
       "      <td>132.00</td>\n",
       "      <td>1 cup, diced</td>\n",
       "      <td>113.0</td>\n",
       "      <td>1 cup, shredded</td>\n",
       "    </tr>\n",
       "  </tbody>\n",
       "</table>\n",
       "<p>5 rows × 52 columns</p>\n",
       "</div>"
      ],
      "text/plain": [
       "   NDB_No               Shrt_Desc  Water_(g)  Energ_Kcal  Protein_(g)  \\\n",
       "0    1001        BUTTER,WITH SALT      15.87         717         0.85   \n",
       "1    1002  BUTTER,WHIPPED,W/ SALT      16.72         718         0.49   \n",
       "2    1003    BUTTER OIL,ANHYDROUS       0.24         876         0.28   \n",
       "3    1004             CHEESE,BLUE      42.41         353        21.40   \n",
       "4    1005            CHEESE,BRICK      41.11         371        23.24   \n",
       "\n",
       "   Lipid_Tot_(g)  Ash_(g)  Carbohydrt_(g)  Fiber_TD_(g)  Sugar_Tot_(g)  \\\n",
       "0          81.11     2.11            0.06           0.0           0.06   \n",
       "1          78.30     1.62            2.87           0.0           0.06   \n",
       "2          99.48     0.00            0.00           0.0           0.00   \n",
       "3          28.74     5.11            2.34           0.0           0.50   \n",
       "4          29.68     3.18            2.79           0.0           0.51   \n",
       "\n",
       "        ...         Vit_D_IU  Vit_K_(mg)  FA_Sat_(g)  FA_Mono_(g)  \\\n",
       "0       ...              0.0         7.0      51.368       21.021   \n",
       "1       ...              0.0         4.6      45.390       19.874   \n",
       "2       ...              0.0         8.6      61.924       28.732   \n",
       "3       ...             21.0         2.4      18.669        7.778   \n",
       "4       ...             22.0         2.5      18.764        8.598   \n",
       "\n",
       "   FA_Poly_(g)  Cholestrl_(mg)  GmWt_1                  GmWt_Desc1  GmWt_2  \\\n",
       "0        3.043           215.0    5.00  1 pat,  (1\" sq, 1/3\" high)    14.2   \n",
       "1        3.331           225.0    3.80  1 pat,  (1\" sq, 1/3\" high)     9.4   \n",
       "2        3.694           256.0   12.80                      1 tbsp   205.0   \n",
       "3        0.800            75.0   28.35                        1 oz    17.0   \n",
       "4        0.784            94.0  132.00                1 cup, diced   113.0   \n",
       "\n",
       "        GmWt_Desc2  \n",
       "0           1 tbsp  \n",
       "1           1 tbsp  \n",
       "2            1 cup  \n",
       "3     1 cubic inch  \n",
       "4  1 cup, shredded  \n",
       "\n",
       "[5 rows x 52 columns]"
      ]
     },
     "execution_count": 2,
     "metadata": {},
     "output_type": "execute_result"
    }
   ],
   "source": [
    "df = pd.read_csv('Nutritions_US.csv')\n",
    "df.head()"
   ]
  },
  {
   "cell_type": "code",
   "execution_count": 3,
   "metadata": {},
   "outputs": [
    {
     "data": {
      "text/plain": [
       "(8790, 52)"
      ]
     },
     "execution_count": 3,
     "metadata": {},
     "output_type": "execute_result"
    }
   ],
   "source": [
    "df.shape"
   ]
  },
  {
   "cell_type": "code",
   "execution_count": 23,
   "metadata": {},
   "outputs": [
    {
     "data": {
      "text/html": [
       "<script type=\"text/javascript\">window.PlotlyConfig = {MathJaxConfig: 'local'};</script><script type=\"text/javascript\">if (window.MathJax) {MathJax.Hub.Config({SVG: {font: \"STIX-Web\"}});}</script><script>requirejs.config({paths: { 'plotly': ['https://cdn.plot.ly/plotly-latest.min']},});if(!window._Plotly) {require(['plotly'],function(plotly) {window._Plotly=plotly;});}</script>"
      ],
      "text/vnd.plotly.v1+html": [
       "<script type=\"text/javascript\">window.PlotlyConfig = {MathJaxConfig: 'local'};</script><script type=\"text/javascript\">if (window.MathJax) {MathJax.Hub.Config({SVG: {font: \"STIX-Web\"}});}</script><script>requirejs.config({paths: { 'plotly': ['https://cdn.plot.ly/plotly-latest.min']},});if(!window._Plotly) {require(['plotly'],function(plotly) {window._Plotly=plotly;});}</script>"
      ]
     },
     "metadata": {},
     "output_type": "display_data"
    },
    {
     "data": {
      "application/vnd.plotly.v1+json": {
       "config": {
        "linkText": "Export to plot.ly",
        "plotlyServerURL": "https://plot.ly",
        "showLink": false
       },
       "data": [
        {
         "type": "scatter",
         "uid": "f53f70a0-3d58-4c6f-b9e5-5f99601b6c51",
         "x": [
          1001,
          1002,
          1003,
          1004,
          1005,
          1006,
          1007,
          1008,
          1009,
          1010,
          1011,
          1012,
          1013,
          1014,
          1015,
          1016,
          1017,
          1018,
          1019,
          1020
         ],
         "y": [
          15.87,
          16.72,
          0.24,
          42.41,
          41.11,
          48.42,
          51.8,
          39.28,
          37.02,
          37.65,
          38.2,
          79.79,
          79.64,
          81.01,
          81.24,
          82.48,
          52.62,
          41.56,
          55.22,
          37.92
         ]
        }
       ],
       "layout": {}
      },
      "text/html": [
       "<div id=\"13ed2d20-fb3e-4fcc-925f-c80eb0b58529\" style=\"height: 525px; width: 100%;\" class=\"plotly-graph-div\"></div><script type=\"text/javascript\">require([\"plotly\"], function(Plotly) { window.PLOTLYENV=window.PLOTLYENV || {};window.PLOTLYENV.BASE_URL=\"https://plot.ly\";\n",
       "if (document.getElementById(\"13ed2d20-fb3e-4fcc-925f-c80eb0b58529\")) {\n",
       "    Plotly.newPlot(\"13ed2d20-fb3e-4fcc-925f-c80eb0b58529\", [{\"x\": [1001, 1002, 1003, 1004, 1005, 1006, 1007, 1008, 1009, 1010, 1011, 1012, 1013, 1014, 1015, 1016, 1017, 1018, 1019, 1020], \"y\": [15.87, 16.72, 0.24, 42.41, 41.11, 48.42, 51.8, 39.28, 37.02, 37.65, 38.2, 79.79, 79.64, 81.01, 81.24, 82.48, 52.62, 41.56, 55.22, 37.92], \"type\": \"scatter\", \"uid\": \"652e7b2b-a356-49a8-b79e-abaf15bc34aa\"}], {}, {\"showLink\": false, \"linkText\": \"Export to plot.ly\", \"plotlyServerURL\": \"https://plot.ly\"}); \n",
       "}\n",
       "});</script><script type=\"text/javascript\">window.addEventListener(\"resize\", function(){if (document.getElementById(\"13ed2d20-fb3e-4fcc-925f-c80eb0b58529\")) {window._Plotly.Plots.resize(document.getElementById(\"13ed2d20-fb3e-4fcc-925f-c80eb0b58529\"));};})</script>"
      ],
      "text/vnd.plotly.v1+html": [
       "<div id=\"13ed2d20-fb3e-4fcc-925f-c80eb0b58529\" style=\"height: 525px; width: 100%;\" class=\"plotly-graph-div\"></div><script type=\"text/javascript\">require([\"plotly\"], function(Plotly) { window.PLOTLYENV=window.PLOTLYENV || {};window.PLOTLYENV.BASE_URL=\"https://plot.ly\";\n",
       "if (document.getElementById(\"13ed2d20-fb3e-4fcc-925f-c80eb0b58529\")) {\n",
       "    Plotly.newPlot(\"13ed2d20-fb3e-4fcc-925f-c80eb0b58529\", [{\"x\": [1001, 1002, 1003, 1004, 1005, 1006, 1007, 1008, 1009, 1010, 1011, 1012, 1013, 1014, 1015, 1016, 1017, 1018, 1019, 1020], \"y\": [15.87, 16.72, 0.24, 42.41, 41.11, 48.42, 51.8, 39.28, 37.02, 37.65, 38.2, 79.79, 79.64, 81.01, 81.24, 82.48, 52.62, 41.56, 55.22, 37.92], \"type\": \"scatter\", \"uid\": \"652e7b2b-a356-49a8-b79e-abaf15bc34aa\"}], {}, {\"showLink\": false, \"linkText\": \"Export to plot.ly\", \"plotlyServerURL\": \"https://plot.ly\"}); \n",
       "}\n",
       "});</script><script type=\"text/javascript\">window.addEventListener(\"resize\", function(){if (document.getElementById(\"13ed2d20-fb3e-4fcc-925f-c80eb0b58529\")) {window._Plotly.Plots.resize(document.getElementById(\"13ed2d20-fb3e-4fcc-925f-c80eb0b58529\"));};})</script>"
      ]
     },
     "metadata": {},
     "output_type": "display_data"
    }
   ],
   "source": [
    "import plotly\n",
    "import plotly.graph_objs as go\n",
    "\n",
    "plotly.offline.init_notebook_mode(connected=True)\n",
    "\n",
    "plotly.offline.iplot({\n",
    "    \"data\": [go.Scatter(x=df.iloc[:20, 0], y=df.iloc[:20, 2])]\n",
    "})"
   ]
  },
  {
   "cell_type": "code",
   "execution_count": 24,
   "metadata": {},
   "outputs": [
    {
     "data": {
      "text/html": [
       "<script type=\"text/javascript\">window.PlotlyConfig = {MathJaxConfig: 'local'};</script><script type=\"text/javascript\">if (window.MathJax) {MathJax.Hub.Config({SVG: {font: \"STIX-Web\"}});}</script><script>requirejs.config({paths: { 'plotly': ['https://cdn.plot.ly/plotly-latest.min']},});if(!window._Plotly) {require(['plotly'],function(plotly) {window._Plotly=plotly;});}</script>"
      ],
      "text/vnd.plotly.v1+html": [
       "<script type=\"text/javascript\">window.PlotlyConfig = {MathJaxConfig: 'local'};</script><script type=\"text/javascript\">if (window.MathJax) {MathJax.Hub.Config({SVG: {font: \"STIX-Web\"}});}</script><script>requirejs.config({paths: { 'plotly': ['https://cdn.plot.ly/plotly-latest.min']},});if(!window._Plotly) {require(['plotly'],function(plotly) {window._Plotly=plotly;});}</script>"
      ]
     },
     "metadata": {},
     "output_type": "display_data"
    },
    {
     "data": {
      "application/vnd.plotly.v1+json": {
       "config": {
        "linkText": "Export to plot.ly",
        "plotlyServerURL": "https://plot.ly",
        "showLink": false
       },
       "data": [
        {
         "type": "scatter",
         "uid": "3530fd24-e57f-4853-a733-a03a8cbd37f5",
         "x": [
          1001,
          1002,
          1003,
          1004,
          1005,
          1006,
          1007,
          1008,
          1009,
          1010,
          1011,
          1012,
          1013,
          1014,
          1015,
          1016,
          1017,
          1018,
          1019,
          1020
         ],
         "y": [
          717,
          718,
          876,
          353,
          371,
          334,
          300,
          376,
          404,
          387,
          394,
          98,
          97,
          72,
          81,
          72,
          350,
          357,
          264,
          389
         ]
        }
       ],
       "layout": {}
      },
      "text/html": [
       "<div id=\"9b361e19-3786-4827-ac4b-5095d4cbe0b8\" style=\"height: 525px; width: 100%;\" class=\"plotly-graph-div\"></div><script type=\"text/javascript\">require([\"plotly\"], function(Plotly) { window.PLOTLYENV=window.PLOTLYENV || {};window.PLOTLYENV.BASE_URL=\"https://plot.ly\";\n",
       "if (document.getElementById(\"9b361e19-3786-4827-ac4b-5095d4cbe0b8\")) {\n",
       "    Plotly.newPlot(\"9b361e19-3786-4827-ac4b-5095d4cbe0b8\", [{\"x\": [1001, 1002, 1003, 1004, 1005, 1006, 1007, 1008, 1009, 1010, 1011, 1012, 1013, 1014, 1015, 1016, 1017, 1018, 1019, 1020], \"y\": [717, 718, 876, 353, 371, 334, 300, 376, 404, 387, 394, 98, 97, 72, 81, 72, 350, 357, 264, 389], \"type\": \"scatter\", \"uid\": \"c704b7b3-4ace-4359-84c6-4571333b4d63\"}], {}, {\"showLink\": false, \"linkText\": \"Export to plot.ly\", \"plotlyServerURL\": \"https://plot.ly\"}); \n",
       "}\n",
       "});</script><script type=\"text/javascript\">window.addEventListener(\"resize\", function(){if (document.getElementById(\"9b361e19-3786-4827-ac4b-5095d4cbe0b8\")) {window._Plotly.Plots.resize(document.getElementById(\"9b361e19-3786-4827-ac4b-5095d4cbe0b8\"));};})</script>"
      ],
      "text/vnd.plotly.v1+html": [
       "<div id=\"9b361e19-3786-4827-ac4b-5095d4cbe0b8\" style=\"height: 525px; width: 100%;\" class=\"plotly-graph-div\"></div><script type=\"text/javascript\">require([\"plotly\"], function(Plotly) { window.PLOTLYENV=window.PLOTLYENV || {};window.PLOTLYENV.BASE_URL=\"https://plot.ly\";\n",
       "if (document.getElementById(\"9b361e19-3786-4827-ac4b-5095d4cbe0b8\")) {\n",
       "    Plotly.newPlot(\"9b361e19-3786-4827-ac4b-5095d4cbe0b8\", [{\"x\": [1001, 1002, 1003, 1004, 1005, 1006, 1007, 1008, 1009, 1010, 1011, 1012, 1013, 1014, 1015, 1016, 1017, 1018, 1019, 1020], \"y\": [717, 718, 876, 353, 371, 334, 300, 376, 404, 387, 394, 98, 97, 72, 81, 72, 350, 357, 264, 389], \"type\": \"scatter\", \"uid\": \"c704b7b3-4ace-4359-84c6-4571333b4d63\"}], {}, {\"showLink\": false, \"linkText\": \"Export to plot.ly\", \"plotlyServerURL\": \"https://plot.ly\"}); \n",
       "}\n",
       "});</script><script type=\"text/javascript\">window.addEventListener(\"resize\", function(){if (document.getElementById(\"9b361e19-3786-4827-ac4b-5095d4cbe0b8\")) {window._Plotly.Plots.resize(document.getElementById(\"9b361e19-3786-4827-ac4b-5095d4cbe0b8\"));};})</script>"
      ]
     },
     "metadata": {},
     "output_type": "display_data"
    }
   ],
   "source": [
    "import plotly\n",
    "import plotly.graph_objs as go\n",
    "\n",
    "plotly.offline.init_notebook_mode(connected=True)\n",
    "\n",
    "plotly.offline.iplot({\n",
    "    \"data\": [go.Scatter(x=df.iloc[:20, 0], y=df.iloc[:20, 3])]\n",
    "})"
   ]
  },
  {
   "cell_type": "code",
   "execution_count": 34,
   "metadata": {},
   "outputs": [
    {
     "data": {
      "text/html": [
       "<script type=\"text/javascript\">window.PlotlyConfig = {MathJaxConfig: 'local'};</script><script type=\"text/javascript\">if (window.MathJax) {MathJax.Hub.Config({SVG: {font: \"STIX-Web\"}});}</script><script>requirejs.config({paths: { 'plotly': ['https://cdn.plot.ly/plotly-latest.min']},});if(!window._Plotly) {require(['plotly'],function(plotly) {window._Plotly=plotly;});}</script>"
      ],
      "text/vnd.plotly.v1+html": [
       "<script type=\"text/javascript\">window.PlotlyConfig = {MathJaxConfig: 'local'};</script><script type=\"text/javascript\">if (window.MathJax) {MathJax.Hub.Config({SVG: {font: \"STIX-Web\"}});}</script><script>requirejs.config({paths: { 'plotly': ['https://cdn.plot.ly/plotly-latest.min']},});if(!window._Plotly) {require(['plotly'],function(plotly) {window._Plotly=plotly;});}</script>"
      ]
     },
     "metadata": {},
     "output_type": "display_data"
    },
    {
     "data": {
      "application/vnd.plotly.v1+json": {
       "config": {
        "linkText": "Export to plot.ly",
        "plotlyServerURL": "https://plot.ly",
        "showLink": false
       },
       "data": [
        {
         "type": "scatter",
         "uid": "62ae4e44-56a2-4270-8725-4432e75d0dfa",
         "x": [
          1001,
          1002,
          1003,
          1004,
          1005,
          1006,
          1007,
          1008,
          1009,
          1010,
          1011,
          1012,
          1013,
          1014,
          1015,
          1016,
          1017,
          1018,
          1019,
          1020
         ],
         "y": [
          15.87,
          16.72,
          0.24,
          42.41,
          41.11,
          48.42,
          51.8,
          39.28,
          37.02,
          37.65,
          38.2,
          79.79,
          79.64,
          81.01,
          81.24,
          82.48,
          52.62,
          41.56,
          55.22,
          37.92
         ]
        }
       ],
       "layout": {}
      },
      "text/html": [
       "<div id=\"d1a6c16d-2030-4df4-a394-48b9713e5549\" style=\"height: 525px; width: 100%;\" class=\"plotly-graph-div\"></div><script type=\"text/javascript\">require([\"plotly\"], function(Plotly) { window.PLOTLYENV=window.PLOTLYENV || {};window.PLOTLYENV.BASE_URL=\"https://plot.ly\";\n",
       "if (document.getElementById(\"d1a6c16d-2030-4df4-a394-48b9713e5549\")) {\n",
       "    Plotly.newPlot(\"d1a6c16d-2030-4df4-a394-48b9713e5549\", [{\"x\": [1001, 1002, 1003, 1004, 1005, 1006, 1007, 1008, 1009, 1010, 1011, 1012, 1013, 1014, 1015, 1016, 1017, 1018, 1019, 1020], \"y\": [15.87, 16.72, 0.24, 42.41, 41.11, 48.42, 51.8, 39.28, 37.02, 37.65, 38.2, 79.79, 79.64, 81.01, 81.24, 82.48, 52.62, 41.56, 55.22, 37.92], \"type\": \"scatter\", \"uid\": \"5ed28fc6-7840-478b-8df7-ebf028b6475d\"}], {}, {\"showLink\": false, \"linkText\": \"Export to plot.ly\", \"plotlyServerURL\": \"https://plot.ly\"}); \n",
       "}\n",
       "});</script><script type=\"text/javascript\">window.addEventListener(\"resize\", function(){if (document.getElementById(\"d1a6c16d-2030-4df4-a394-48b9713e5549\")) {window._Plotly.Plots.resize(document.getElementById(\"d1a6c16d-2030-4df4-a394-48b9713e5549\"));};})</script>"
      ],
      "text/vnd.plotly.v1+html": [
       "<div id=\"d1a6c16d-2030-4df4-a394-48b9713e5549\" style=\"height: 525px; width: 100%;\" class=\"plotly-graph-div\"></div><script type=\"text/javascript\">require([\"plotly\"], function(Plotly) { window.PLOTLYENV=window.PLOTLYENV || {};window.PLOTLYENV.BASE_URL=\"https://plot.ly\";\n",
       "if (document.getElementById(\"d1a6c16d-2030-4df4-a394-48b9713e5549\")) {\n",
       "    Plotly.newPlot(\"d1a6c16d-2030-4df4-a394-48b9713e5549\", [{\"x\": [1001, 1002, 1003, 1004, 1005, 1006, 1007, 1008, 1009, 1010, 1011, 1012, 1013, 1014, 1015, 1016, 1017, 1018, 1019, 1020], \"y\": [15.87, 16.72, 0.24, 42.41, 41.11, 48.42, 51.8, 39.28, 37.02, 37.65, 38.2, 79.79, 79.64, 81.01, 81.24, 82.48, 52.62, 41.56, 55.22, 37.92], \"type\": \"scatter\", \"uid\": \"5ed28fc6-7840-478b-8df7-ebf028b6475d\"}], {}, {\"showLink\": false, \"linkText\": \"Export to plot.ly\", \"plotlyServerURL\": \"https://plot.ly\"}); \n",
       "}\n",
       "});</script><script type=\"text/javascript\">window.addEventListener(\"resize\", function(){if (document.getElementById(\"d1a6c16d-2030-4df4-a394-48b9713e5549\")) {window._Plotly.Plots.resize(document.getElementById(\"d1a6c16d-2030-4df4-a394-48b9713e5549\"));};})</script>"
      ]
     },
     "metadata": {},
     "output_type": "display_data"
    }
   ],
   "source": [
    "import plotly\n",
    "import plotly.graph_objs as go\n",
    "\n",
    "plotly.offline.init_notebook_mode(connected=True)\n",
    "\n",
    "plotly.offline.iplot({\n",
    "    \"data\": [go.Scatter(x=df.iloc[:20, 0], y=df.iloc[:20, 2])]\n",
    "})"
   ]
  },
  {
   "cell_type": "code",
   "execution_count": 26,
   "metadata": {},
   "outputs": [
    {
     "data": {
      "text/html": [
       "<script type=\"text/javascript\">window.PlotlyConfig = {MathJaxConfig: 'local'};</script><script type=\"text/javascript\">if (window.MathJax) {MathJax.Hub.Config({SVG: {font: \"STIX-Web\"}});}</script><script>requirejs.config({paths: { 'plotly': ['https://cdn.plot.ly/plotly-latest.min']},});if(!window._Plotly) {require(['plotly'],function(plotly) {window._Plotly=plotly;});}</script>"
      ],
      "text/vnd.plotly.v1+html": [
       "<script type=\"text/javascript\">window.PlotlyConfig = {MathJaxConfig: 'local'};</script><script type=\"text/javascript\">if (window.MathJax) {MathJax.Hub.Config({SVG: {font: \"STIX-Web\"}});}</script><script>requirejs.config({paths: { 'plotly': ['https://cdn.plot.ly/plotly-latest.min']},});if(!window._Plotly) {require(['plotly'],function(plotly) {window._Plotly=plotly;});}</script>"
      ]
     },
     "metadata": {},
     "output_type": "display_data"
    },
    {
     "data": {
      "application/vnd.plotly.v1+json": {
       "config": {
        "linkText": "Export to plot.ly",
        "plotlyServerURL": "https://plot.ly",
        "showLink": false
       },
       "data": [
        {
         "type": "scatter",
         "uid": "80d43f4b-3bb3-4b10-84f8-77a7a2570b6c",
         "x": [
          1001,
          1002,
          1003,
          1004,
          1005,
          1006,
          1007,
          1008,
          1009,
          1010,
          1011,
          1012,
          1013,
          1014,
          1015,
          1016,
          1017,
          1018,
          1019,
          1020
         ],
         "y": [
          81.11,
          78.3,
          99.48,
          28.74,
          29.68,
          27.68,
          24.26,
          29.2,
          33.31,
          30.6,
          32.11,
          4.3,
          3.85,
          0.29,
          2.27,
          1.02,
          34.44,
          27.8,
          21.28,
          31.14
         ]
        }
       ],
       "layout": {}
      },
      "text/html": [
       "<div id=\"fb6f0c65-831c-4176-98f8-5b8ce933d808\" style=\"height: 525px; width: 100%;\" class=\"plotly-graph-div\"></div><script type=\"text/javascript\">require([\"plotly\"], function(Plotly) { window.PLOTLYENV=window.PLOTLYENV || {};window.PLOTLYENV.BASE_URL=\"https://plot.ly\";\n",
       "if (document.getElementById(\"fb6f0c65-831c-4176-98f8-5b8ce933d808\")) {\n",
       "    Plotly.newPlot(\"fb6f0c65-831c-4176-98f8-5b8ce933d808\", [{\"x\": [1001, 1002, 1003, 1004, 1005, 1006, 1007, 1008, 1009, 1010, 1011, 1012, 1013, 1014, 1015, 1016, 1017, 1018, 1019, 1020], \"y\": [81.11, 78.3, 99.48, 28.74, 29.68, 27.68, 24.26, 29.2, 33.31, 30.6, 32.11, 4.3, 3.85, 0.29, 2.27, 1.02, 34.44, 27.8, 21.28, 31.14], \"type\": \"scatter\", \"uid\": \"3fda2c22-4e9f-446a-9ebb-65c3049e54e7\"}], {}, {\"showLink\": false, \"linkText\": \"Export to plot.ly\", \"plotlyServerURL\": \"https://plot.ly\"}); \n",
       "}\n",
       "});</script><script type=\"text/javascript\">window.addEventListener(\"resize\", function(){if (document.getElementById(\"fb6f0c65-831c-4176-98f8-5b8ce933d808\")) {window._Plotly.Plots.resize(document.getElementById(\"fb6f0c65-831c-4176-98f8-5b8ce933d808\"));};})</script>"
      ],
      "text/vnd.plotly.v1+html": [
       "<div id=\"fb6f0c65-831c-4176-98f8-5b8ce933d808\" style=\"height: 525px; width: 100%;\" class=\"plotly-graph-div\"></div><script type=\"text/javascript\">require([\"plotly\"], function(Plotly) { window.PLOTLYENV=window.PLOTLYENV || {};window.PLOTLYENV.BASE_URL=\"https://plot.ly\";\n",
       "if (document.getElementById(\"fb6f0c65-831c-4176-98f8-5b8ce933d808\")) {\n",
       "    Plotly.newPlot(\"fb6f0c65-831c-4176-98f8-5b8ce933d808\", [{\"x\": [1001, 1002, 1003, 1004, 1005, 1006, 1007, 1008, 1009, 1010, 1011, 1012, 1013, 1014, 1015, 1016, 1017, 1018, 1019, 1020], \"y\": [81.11, 78.3, 99.48, 28.74, 29.68, 27.68, 24.26, 29.2, 33.31, 30.6, 32.11, 4.3, 3.85, 0.29, 2.27, 1.02, 34.44, 27.8, 21.28, 31.14], \"type\": \"scatter\", \"uid\": \"3fda2c22-4e9f-446a-9ebb-65c3049e54e7\"}], {}, {\"showLink\": false, \"linkText\": \"Export to plot.ly\", \"plotlyServerURL\": \"https://plot.ly\"}); \n",
       "}\n",
       "});</script><script type=\"text/javascript\">window.addEventListener(\"resize\", function(){if (document.getElementById(\"fb6f0c65-831c-4176-98f8-5b8ce933d808\")) {window._Plotly.Plots.resize(document.getElementById(\"fb6f0c65-831c-4176-98f8-5b8ce933d808\"));};})</script>"
      ]
     },
     "metadata": {},
     "output_type": "display_data"
    }
   ],
   "source": [
    "import plotly\n",
    "import plotly.graph_objs as go\n",
    "\n",
    "plotly.offline.init_notebook_mode(connected=True)\n",
    "\n",
    "plotly.offline.iplot({\n",
    "    \"data\": [go.Scatter(x=df.iloc[:20, 0], y=df.iloc[:20, 5])]\n",
    "})"
   ]
  },
  {
   "cell_type": "code",
   "execution_count": 55,
   "metadata": {},
   "outputs": [
    {
     "data": {
      "text/html": [
       "<script type=\"text/javascript\">window.PlotlyConfig = {MathJaxConfig: 'local'};</script><script type=\"text/javascript\">if (window.MathJax) {MathJax.Hub.Config({SVG: {font: \"STIX-Web\"}});}</script><script>requirejs.config({paths: { 'plotly': ['https://cdn.plot.ly/plotly-latest.min']},});if(!window._Plotly) {require(['plotly'],function(plotly) {window._Plotly=plotly;});}</script>"
      ],
      "text/vnd.plotly.v1+html": [
       "<script type=\"text/javascript\">window.PlotlyConfig = {MathJaxConfig: 'local'};</script><script type=\"text/javascript\">if (window.MathJax) {MathJax.Hub.Config({SVG: {font: \"STIX-Web\"}});}</script><script>requirejs.config({paths: { 'plotly': ['https://cdn.plot.ly/plotly-latest.min']},});if(!window._Plotly) {require(['plotly'],function(plotly) {window._Plotly=plotly;});}</script>"
      ]
     },
     "metadata": {},
     "output_type": "display_data"
    },
    {
     "ename": "NameError",
     "evalue": "name 'Energy_Kcal' is not defined",
     "output_type": "error",
     "traceback": [
      "\u001b[0;31m---------------------------------------------------------------------------\u001b[0m",
      "\u001b[0;31mNameError\u001b[0m                                 Traceback (most recent call last)",
      "\u001b[0;32m<ipython-input-55-ca009e7ec01c>\u001b[0m in \u001b[0;36m<module>\u001b[0;34m\u001b[0m\n\u001b[1;32m      5\u001b[0m \u001b[0;34m\u001b[0m\u001b[0m\n\u001b[1;32m      6\u001b[0m plotly.offline.iplot({\n\u001b[0;32m----> 7\u001b[0;31m     \u001b[0;34m\"data\"\u001b[0m\u001b[0;34m:\u001b[0m \u001b[0;34m[\u001b[0m\u001b[0mgo\u001b[0m\u001b[0;34m.\u001b[0m\u001b[0mScatter\u001b[0m\u001b[0;34m(\u001b[0m\u001b[0mx\u001b[0m\u001b[0;34m=\u001b[0m\u001b[0mdf\u001b[0m\u001b[0;34m.\u001b[0m\u001b[0miloc\u001b[0m\u001b[0;34m[\u001b[0m\u001b[0;34m:\u001b[0m\u001b[0;36m10\u001b[0m\u001b[0;34m,\u001b[0m \u001b[0;36m0\u001b[0m\u001b[0;34m]\u001b[0m\u001b[0;34m,\u001b[0m \u001b[0my\u001b[0m\u001b[0;34m=\u001b[0m\u001b[0mdf\u001b[0m\u001b[0;34m.\u001b[0m\u001b[0miloc\u001b[0m\u001b[0;34m[\u001b[0m\u001b[0;34m:\u001b[0m\u001b[0;36m10\u001b[0m\u001b[0;34m,\u001b[0m \u001b[0mdf\u001b[0m\u001b[0;34m[\u001b[0m\u001b[0mEnergy_Kcal\u001b[0m\u001b[0;34m]\u001b[0m\u001b[0;34m]\u001b[0m\u001b[0;34m)\u001b[0m\u001b[0;34m]\u001b[0m\u001b[0;34m\u001b[0m\u001b[0;34m\u001b[0m\u001b[0m\n\u001b[0m\u001b[1;32m      8\u001b[0m })\n",
      "\u001b[0;31mNameError\u001b[0m: name 'Energy_Kcal' is not defined"
     ]
    }
   ],
   "source": [
    "import plotly\n",
    "import plotly.graph_objs as go\n",
    "\n",
    "plotly.offline.init_notebook_mode(connected=True)\n",
    "\n",
    "plotly.offline.iplot({\n",
    "    \"data\": [go.Scatter(x=df.iloc[:10, 0], y=df.iloc[:10, df[Energy_Kcal]])]\n",
    "})"
   ]
  },
  {
   "cell_type": "code",
   "execution_count": 79,
   "metadata": {},
   "outputs": [
    {
     "data": {
      "text/plain": [
       "52"
      ]
     },
     "execution_count": 79,
     "metadata": {},
     "output_type": "execute_result"
    }
   ],
   "source": [
    "len(df.columns)"
   ]
  },
  {
   "cell_type": "code",
   "execution_count": 80,
   "metadata": {},
   "outputs": [
    {
     "data": {
      "application/vnd.plotly.v1+json": {
       "config": {
        "linkText": "Export to plot.ly",
        "plotlyServerURL": "https://plot.ly",
        "showLink": false
       },
       "data": [
        {
         "type": "scatter",
         "uid": "9a8029e7-229b-469d-a30c-045d2f266c21",
         "x": [
          1001,
          1002,
          1003,
          1004,
          1005,
          1006,
          1007,
          1008,
          1009,
          1010
         ],
         "y": [
          15.87,
          16.72,
          0.24,
          42.41,
          41.11,
          48.42,
          51.8,
          39.28,
          37.02,
          37.65
         ]
        }
       ],
       "layout": {}
      },
      "text/html": [
       "<div id=\"af8c9781-3450-4e98-8952-f07f39f8d1ac\" style=\"height: 525px; width: 100%;\" class=\"plotly-graph-div\"></div><script type=\"text/javascript\">require([\"plotly\"], function(Plotly) { window.PLOTLYENV=window.PLOTLYENV || {};window.PLOTLYENV.BASE_URL=\"https://plot.ly\";\n",
       "if (document.getElementById(\"af8c9781-3450-4e98-8952-f07f39f8d1ac\")) {\n",
       "    Plotly.newPlot(\"af8c9781-3450-4e98-8952-f07f39f8d1ac\", [{\"x\": [1001, 1002, 1003, 1004, 1005, 1006, 1007, 1008, 1009, 1010], \"y\": [15.87, 16.72, 0.24, 42.41, 41.11, 48.42, 51.8, 39.28, 37.02, 37.65], \"type\": \"scatter\", \"uid\": \"345f3dcd-3f4a-4e6f-93ff-1b014e711146\"}], {}, {\"showLink\": false, \"linkText\": \"Export to plot.ly\", \"plotlyServerURL\": \"https://plot.ly\"}); \n",
       "}\n",
       "});</script><script type=\"text/javascript\">window.addEventListener(\"resize\", function(){if (document.getElementById(\"af8c9781-3450-4e98-8952-f07f39f8d1ac\")) {window._Plotly.Plots.resize(document.getElementById(\"af8c9781-3450-4e98-8952-f07f39f8d1ac\"));};})</script>"
      ],
      "text/vnd.plotly.v1+html": [
       "<div id=\"af8c9781-3450-4e98-8952-f07f39f8d1ac\" style=\"height: 525px; width: 100%;\" class=\"plotly-graph-div\"></div><script type=\"text/javascript\">require([\"plotly\"], function(Plotly) { window.PLOTLYENV=window.PLOTLYENV || {};window.PLOTLYENV.BASE_URL=\"https://plot.ly\";\n",
       "if (document.getElementById(\"af8c9781-3450-4e98-8952-f07f39f8d1ac\")) {\n",
       "    Plotly.newPlot(\"af8c9781-3450-4e98-8952-f07f39f8d1ac\", [{\"x\": [1001, 1002, 1003, 1004, 1005, 1006, 1007, 1008, 1009, 1010], \"y\": [15.87, 16.72, 0.24, 42.41, 41.11, 48.42, 51.8, 39.28, 37.02, 37.65], \"type\": \"scatter\", \"uid\": \"345f3dcd-3f4a-4e6f-93ff-1b014e711146\"}], {}, {\"showLink\": false, \"linkText\": \"Export to plot.ly\", \"plotlyServerURL\": \"https://plot.ly\"}); \n",
       "}\n",
       "});</script><script type=\"text/javascript\">window.addEventListener(\"resize\", function(){if (document.getElementById(\"af8c9781-3450-4e98-8952-f07f39f8d1ac\")) {window._Plotly.Plots.resize(document.getElementById(\"af8c9781-3450-4e98-8952-f07f39f8d1ac\"));};})</script>"
      ]
     },
     "metadata": {},
     "output_type": "display_data"
    },
    {
     "data": {
      "application/vnd.plotly.v1+json": {
       "config": {
        "linkText": "Export to plot.ly",
        "plotlyServerURL": "https://plot.ly",
        "showLink": false
       },
       "data": [
        {
         "type": "scatter",
         "uid": "49858418-9483-4076-b256-056cc7399e47",
         "x": [
          1001,
          1002,
          1003,
          1004,
          1005,
          1006,
          1007,
          1008,
          1009,
          1010
         ],
         "y": [
          717,
          718,
          876,
          353,
          371,
          334,
          300,
          376,
          404,
          387
         ]
        }
       ],
       "layout": {}
      },
      "text/html": [
       "<div id=\"0cb2c3cd-703f-417c-89ea-04c5ce67fb5f\" style=\"height: 525px; width: 100%;\" class=\"plotly-graph-div\"></div><script type=\"text/javascript\">require([\"plotly\"], function(Plotly) { window.PLOTLYENV=window.PLOTLYENV || {};window.PLOTLYENV.BASE_URL=\"https://plot.ly\";\n",
       "if (document.getElementById(\"0cb2c3cd-703f-417c-89ea-04c5ce67fb5f\")) {\n",
       "    Plotly.newPlot(\"0cb2c3cd-703f-417c-89ea-04c5ce67fb5f\", [{\"x\": [1001, 1002, 1003, 1004, 1005, 1006, 1007, 1008, 1009, 1010], \"y\": [717, 718, 876, 353, 371, 334, 300, 376, 404, 387], \"type\": \"scatter\", \"uid\": \"7c402c47-9faa-43ae-b2d8-3ff260556982\"}], {}, {\"showLink\": false, \"linkText\": \"Export to plot.ly\", \"plotlyServerURL\": \"https://plot.ly\"}); \n",
       "}\n",
       "});</script><script type=\"text/javascript\">window.addEventListener(\"resize\", function(){if (document.getElementById(\"0cb2c3cd-703f-417c-89ea-04c5ce67fb5f\")) {window._Plotly.Plots.resize(document.getElementById(\"0cb2c3cd-703f-417c-89ea-04c5ce67fb5f\"));};})</script>"
      ],
      "text/vnd.plotly.v1+html": [
       "<div id=\"0cb2c3cd-703f-417c-89ea-04c5ce67fb5f\" style=\"height: 525px; width: 100%;\" class=\"plotly-graph-div\"></div><script type=\"text/javascript\">require([\"plotly\"], function(Plotly) { window.PLOTLYENV=window.PLOTLYENV || {};window.PLOTLYENV.BASE_URL=\"https://plot.ly\";\n",
       "if (document.getElementById(\"0cb2c3cd-703f-417c-89ea-04c5ce67fb5f\")) {\n",
       "    Plotly.newPlot(\"0cb2c3cd-703f-417c-89ea-04c5ce67fb5f\", [{\"x\": [1001, 1002, 1003, 1004, 1005, 1006, 1007, 1008, 1009, 1010], \"y\": [717, 718, 876, 353, 371, 334, 300, 376, 404, 387], \"type\": \"scatter\", \"uid\": \"7c402c47-9faa-43ae-b2d8-3ff260556982\"}], {}, {\"showLink\": false, \"linkText\": \"Export to plot.ly\", \"plotlyServerURL\": \"https://plot.ly\"}); \n",
       "}\n",
       "});</script><script type=\"text/javascript\">window.addEventListener(\"resize\", function(){if (document.getElementById(\"0cb2c3cd-703f-417c-89ea-04c5ce67fb5f\")) {window._Plotly.Plots.resize(document.getElementById(\"0cb2c3cd-703f-417c-89ea-04c5ce67fb5f\"));};})</script>"
      ]
     },
     "metadata": {},
     "output_type": "display_data"
    },
    {
     "data": {
      "application/vnd.plotly.v1+json": {
       "config": {
        "linkText": "Export to plot.ly",
        "plotlyServerURL": "https://plot.ly",
        "showLink": false
       },
       "data": [
        {
         "type": "scatter",
         "uid": "760297a8-ae22-474c-a383-e1da30f86999",
         "x": [
          1001,
          1002,
          1003,
          1004,
          1005,
          1006,
          1007,
          1008,
          1009,
          1010
         ],
         "y": [
          0.85,
          0.49,
          0.28,
          21.4,
          23.24,
          20.75,
          19.8,
          25.18,
          22.87,
          23.37
         ]
        }
       ],
       "layout": {}
      },
      "text/html": [
       "<div id=\"dd75eca3-685b-4da3-8270-08847573723f\" style=\"height: 525px; width: 100%;\" class=\"plotly-graph-div\"></div><script type=\"text/javascript\">require([\"plotly\"], function(Plotly) { window.PLOTLYENV=window.PLOTLYENV || {};window.PLOTLYENV.BASE_URL=\"https://plot.ly\";\n",
       "if (document.getElementById(\"dd75eca3-685b-4da3-8270-08847573723f\")) {\n",
       "    Plotly.newPlot(\"dd75eca3-685b-4da3-8270-08847573723f\", [{\"x\": [1001, 1002, 1003, 1004, 1005, 1006, 1007, 1008, 1009, 1010], \"y\": [0.85, 0.49, 0.28, 21.4, 23.24, 20.75, 19.8, 25.18, 22.87, 23.37], \"type\": \"scatter\", \"uid\": \"c2129e4c-f3cf-4eea-9601-319567e7e1ea\"}], {}, {\"showLink\": false, \"linkText\": \"Export to plot.ly\", \"plotlyServerURL\": \"https://plot.ly\"}); \n",
       "}\n",
       "});</script><script type=\"text/javascript\">window.addEventListener(\"resize\", function(){if (document.getElementById(\"dd75eca3-685b-4da3-8270-08847573723f\")) {window._Plotly.Plots.resize(document.getElementById(\"dd75eca3-685b-4da3-8270-08847573723f\"));};})</script>"
      ],
      "text/vnd.plotly.v1+html": [
       "<div id=\"dd75eca3-685b-4da3-8270-08847573723f\" style=\"height: 525px; width: 100%;\" class=\"plotly-graph-div\"></div><script type=\"text/javascript\">require([\"plotly\"], function(Plotly) { window.PLOTLYENV=window.PLOTLYENV || {};window.PLOTLYENV.BASE_URL=\"https://plot.ly\";\n",
       "if (document.getElementById(\"dd75eca3-685b-4da3-8270-08847573723f\")) {\n",
       "    Plotly.newPlot(\"dd75eca3-685b-4da3-8270-08847573723f\", [{\"x\": [1001, 1002, 1003, 1004, 1005, 1006, 1007, 1008, 1009, 1010], \"y\": [0.85, 0.49, 0.28, 21.4, 23.24, 20.75, 19.8, 25.18, 22.87, 23.37], \"type\": \"scatter\", \"uid\": \"c2129e4c-f3cf-4eea-9601-319567e7e1ea\"}], {}, {\"showLink\": false, \"linkText\": \"Export to plot.ly\", \"plotlyServerURL\": \"https://plot.ly\"}); \n",
       "}\n",
       "});</script><script type=\"text/javascript\">window.addEventListener(\"resize\", function(){if (document.getElementById(\"dd75eca3-685b-4da3-8270-08847573723f\")) {window._Plotly.Plots.resize(document.getElementById(\"dd75eca3-685b-4da3-8270-08847573723f\"));};})</script>"
      ]
     },
     "metadata": {},
     "output_type": "display_data"
    },
    {
     "data": {
      "application/vnd.plotly.v1+json": {
       "config": {
        "linkText": "Export to plot.ly",
        "plotlyServerURL": "https://plot.ly",
        "showLink": false
       },
       "data": [
        {
         "type": "scatter",
         "uid": "703c5d5c-6a5e-4a37-9271-7a5e18f5fa47",
         "x": [
          1001,
          1002,
          1003,
          1004,
          1005,
          1006,
          1007,
          1008,
          1009,
          1010
         ],
         "y": [
          81.11,
          78.3,
          99.48,
          28.74,
          29.68,
          27.68,
          24.26,
          29.2,
          33.31,
          30.6
         ]
        }
       ],
       "layout": {}
      },
      "text/html": [
       "<div id=\"e70dedf2-1e61-4626-b776-094f38e9f072\" style=\"height: 525px; width: 100%;\" class=\"plotly-graph-div\"></div><script type=\"text/javascript\">require([\"plotly\"], function(Plotly) { window.PLOTLYENV=window.PLOTLYENV || {};window.PLOTLYENV.BASE_URL=\"https://plot.ly\";\n",
       "if (document.getElementById(\"e70dedf2-1e61-4626-b776-094f38e9f072\")) {\n",
       "    Plotly.newPlot(\"e70dedf2-1e61-4626-b776-094f38e9f072\", [{\"x\": [1001, 1002, 1003, 1004, 1005, 1006, 1007, 1008, 1009, 1010], \"y\": [81.11, 78.3, 99.48, 28.74, 29.68, 27.68, 24.26, 29.2, 33.31, 30.6], \"type\": \"scatter\", \"uid\": \"9575c4cc-f634-4e68-92f2-2ac12c59f2f1\"}], {}, {\"showLink\": false, \"linkText\": \"Export to plot.ly\", \"plotlyServerURL\": \"https://plot.ly\"}); \n",
       "}\n",
       "});</script><script type=\"text/javascript\">window.addEventListener(\"resize\", function(){if (document.getElementById(\"e70dedf2-1e61-4626-b776-094f38e9f072\")) {window._Plotly.Plots.resize(document.getElementById(\"e70dedf2-1e61-4626-b776-094f38e9f072\"));};})</script>"
      ],
      "text/vnd.plotly.v1+html": [
       "<div id=\"e70dedf2-1e61-4626-b776-094f38e9f072\" style=\"height: 525px; width: 100%;\" class=\"plotly-graph-div\"></div><script type=\"text/javascript\">require([\"plotly\"], function(Plotly) { window.PLOTLYENV=window.PLOTLYENV || {};window.PLOTLYENV.BASE_URL=\"https://plot.ly\";\n",
       "if (document.getElementById(\"e70dedf2-1e61-4626-b776-094f38e9f072\")) {\n",
       "    Plotly.newPlot(\"e70dedf2-1e61-4626-b776-094f38e9f072\", [{\"x\": [1001, 1002, 1003, 1004, 1005, 1006, 1007, 1008, 1009, 1010], \"y\": [81.11, 78.3, 99.48, 28.74, 29.68, 27.68, 24.26, 29.2, 33.31, 30.6], \"type\": \"scatter\", \"uid\": \"9575c4cc-f634-4e68-92f2-2ac12c59f2f1\"}], {}, {\"showLink\": false, \"linkText\": \"Export to plot.ly\", \"plotlyServerURL\": \"https://plot.ly\"}); \n",
       "}\n",
       "});</script><script type=\"text/javascript\">window.addEventListener(\"resize\", function(){if (document.getElementById(\"e70dedf2-1e61-4626-b776-094f38e9f072\")) {window._Plotly.Plots.resize(document.getElementById(\"e70dedf2-1e61-4626-b776-094f38e9f072\"));};})</script>"
      ]
     },
     "metadata": {},
     "output_type": "display_data"
    },
    {
     "data": {
      "application/vnd.plotly.v1+json": {
       "config": {
        "linkText": "Export to plot.ly",
        "plotlyServerURL": "https://plot.ly",
        "showLink": false
       },
       "data": [
        {
         "type": "scatter",
         "uid": "e7fc7060-ed73-4136-9302-83068b81b43a",
         "x": [
          1001,
          1002,
          1003,
          1004,
          1005,
          1006,
          1007,
          1008,
          1009,
          1010
         ],
         "y": [
          2.11,
          1.62,
          0,
          5.11,
          3.18,
          2.7,
          3.68,
          3.28,
          3.71,
          3.6
         ]
        }
       ],
       "layout": {}
      },
      "text/html": [
       "<div id=\"38001b3b-72fc-455b-aac8-d23ef10b455e\" style=\"height: 525px; width: 100%;\" class=\"plotly-graph-div\"></div><script type=\"text/javascript\">require([\"plotly\"], function(Plotly) { window.PLOTLYENV=window.PLOTLYENV || {};window.PLOTLYENV.BASE_URL=\"https://plot.ly\";\n",
       "if (document.getElementById(\"38001b3b-72fc-455b-aac8-d23ef10b455e\")) {\n",
       "    Plotly.newPlot(\"38001b3b-72fc-455b-aac8-d23ef10b455e\", [{\"x\": [1001, 1002, 1003, 1004, 1005, 1006, 1007, 1008, 1009, 1010], \"y\": [2.11, 1.62, 0.0, 5.11, 3.18, 2.7, 3.68, 3.28, 3.71, 3.6], \"type\": \"scatter\", \"uid\": \"3c382c2d-ca51-4fb3-ae09-e964da8c9735\"}], {}, {\"showLink\": false, \"linkText\": \"Export to plot.ly\", \"plotlyServerURL\": \"https://plot.ly\"}); \n",
       "}\n",
       "});</script><script type=\"text/javascript\">window.addEventListener(\"resize\", function(){if (document.getElementById(\"38001b3b-72fc-455b-aac8-d23ef10b455e\")) {window._Plotly.Plots.resize(document.getElementById(\"38001b3b-72fc-455b-aac8-d23ef10b455e\"));};})</script>"
      ],
      "text/vnd.plotly.v1+html": [
       "<div id=\"38001b3b-72fc-455b-aac8-d23ef10b455e\" style=\"height: 525px; width: 100%;\" class=\"plotly-graph-div\"></div><script type=\"text/javascript\">require([\"plotly\"], function(Plotly) { window.PLOTLYENV=window.PLOTLYENV || {};window.PLOTLYENV.BASE_URL=\"https://plot.ly\";\n",
       "if (document.getElementById(\"38001b3b-72fc-455b-aac8-d23ef10b455e\")) {\n",
       "    Plotly.newPlot(\"38001b3b-72fc-455b-aac8-d23ef10b455e\", [{\"x\": [1001, 1002, 1003, 1004, 1005, 1006, 1007, 1008, 1009, 1010], \"y\": [2.11, 1.62, 0.0, 5.11, 3.18, 2.7, 3.68, 3.28, 3.71, 3.6], \"type\": \"scatter\", \"uid\": \"3c382c2d-ca51-4fb3-ae09-e964da8c9735\"}], {}, {\"showLink\": false, \"linkText\": \"Export to plot.ly\", \"plotlyServerURL\": \"https://plot.ly\"}); \n",
       "}\n",
       "});</script><script type=\"text/javascript\">window.addEventListener(\"resize\", function(){if (document.getElementById(\"38001b3b-72fc-455b-aac8-d23ef10b455e\")) {window._Plotly.Plots.resize(document.getElementById(\"38001b3b-72fc-455b-aac8-d23ef10b455e\"));};})</script>"
      ]
     },
     "metadata": {},
     "output_type": "display_data"
    },
    {
     "data": {
      "application/vnd.plotly.v1+json": {
       "config": {
        "linkText": "Export to plot.ly",
        "plotlyServerURL": "https://plot.ly",
        "showLink": false
       },
       "data": [
        {
         "type": "scatter",
         "uid": "57fe62c7-3e45-417f-889a-8ceba0e7b47b",
         "x": [
          1001,
          1002,
          1003,
          1004,
          1005,
          1006,
          1007,
          1008,
          1009,
          1010
         ],
         "y": [
          0.06,
          2.87,
          0,
          2.34,
          2.79,
          0.45,
          0.46,
          3.06,
          3.09,
          4.78
         ]
        }
       ],
       "layout": {}
      },
      "text/html": [
       "<div id=\"ef2bde20-ee8e-4bc5-95e3-db65c515e8ba\" style=\"height: 525px; width: 100%;\" class=\"plotly-graph-div\"></div><script type=\"text/javascript\">require([\"plotly\"], function(Plotly) { window.PLOTLYENV=window.PLOTLYENV || {};window.PLOTLYENV.BASE_URL=\"https://plot.ly\";\n",
       "if (document.getElementById(\"ef2bde20-ee8e-4bc5-95e3-db65c515e8ba\")) {\n",
       "    Plotly.newPlot(\"ef2bde20-ee8e-4bc5-95e3-db65c515e8ba\", [{\"x\": [1001, 1002, 1003, 1004, 1005, 1006, 1007, 1008, 1009, 1010], \"y\": [0.06, 2.87, 0.0, 2.34, 2.79, 0.45, 0.46, 3.06, 3.09, 4.78], \"type\": \"scatter\", \"uid\": \"a4d1a2fe-cfaf-48e0-bee0-6b04329db2a2\"}], {}, {\"showLink\": false, \"linkText\": \"Export to plot.ly\", \"plotlyServerURL\": \"https://plot.ly\"}); \n",
       "}\n",
       "});</script><script type=\"text/javascript\">window.addEventListener(\"resize\", function(){if (document.getElementById(\"ef2bde20-ee8e-4bc5-95e3-db65c515e8ba\")) {window._Plotly.Plots.resize(document.getElementById(\"ef2bde20-ee8e-4bc5-95e3-db65c515e8ba\"));};})</script>"
      ],
      "text/vnd.plotly.v1+html": [
       "<div id=\"ef2bde20-ee8e-4bc5-95e3-db65c515e8ba\" style=\"height: 525px; width: 100%;\" class=\"plotly-graph-div\"></div><script type=\"text/javascript\">require([\"plotly\"], function(Plotly) { window.PLOTLYENV=window.PLOTLYENV || {};window.PLOTLYENV.BASE_URL=\"https://plot.ly\";\n",
       "if (document.getElementById(\"ef2bde20-ee8e-4bc5-95e3-db65c515e8ba\")) {\n",
       "    Plotly.newPlot(\"ef2bde20-ee8e-4bc5-95e3-db65c515e8ba\", [{\"x\": [1001, 1002, 1003, 1004, 1005, 1006, 1007, 1008, 1009, 1010], \"y\": [0.06, 2.87, 0.0, 2.34, 2.79, 0.45, 0.46, 3.06, 3.09, 4.78], \"type\": \"scatter\", \"uid\": \"a4d1a2fe-cfaf-48e0-bee0-6b04329db2a2\"}], {}, {\"showLink\": false, \"linkText\": \"Export to plot.ly\", \"plotlyServerURL\": \"https://plot.ly\"}); \n",
       "}\n",
       "});</script><script type=\"text/javascript\">window.addEventListener(\"resize\", function(){if (document.getElementById(\"ef2bde20-ee8e-4bc5-95e3-db65c515e8ba\")) {window._Plotly.Plots.resize(document.getElementById(\"ef2bde20-ee8e-4bc5-95e3-db65c515e8ba\"));};})</script>"
      ]
     },
     "metadata": {},
     "output_type": "display_data"
    },
    {
     "data": {
      "application/vnd.plotly.v1+json": {
       "config": {
        "linkText": "Export to plot.ly",
        "plotlyServerURL": "https://plot.ly",
        "showLink": false
       },
       "data": [
        {
         "type": "scatter",
         "uid": "99bc38ea-61c9-47bd-ac07-cd5ab698caf0",
         "x": [
          1001,
          1002,
          1003,
          1004,
          1005,
          1006,
          1007,
          1008,
          1009,
          1010
         ],
         "y": [
          0,
          0,
          0,
          0,
          0,
          0,
          0,
          0,
          0,
          0
         ]
        }
       ],
       "layout": {}
      },
      "text/html": [
       "<div id=\"8d955f99-2380-4680-a559-0bd6d47f307a\" style=\"height: 525px; width: 100%;\" class=\"plotly-graph-div\"></div><script type=\"text/javascript\">require([\"plotly\"], function(Plotly) { window.PLOTLYENV=window.PLOTLYENV || {};window.PLOTLYENV.BASE_URL=\"https://plot.ly\";\n",
       "if (document.getElementById(\"8d955f99-2380-4680-a559-0bd6d47f307a\")) {\n",
       "    Plotly.newPlot(\"8d955f99-2380-4680-a559-0bd6d47f307a\", [{\"x\": [1001, 1002, 1003, 1004, 1005, 1006, 1007, 1008, 1009, 1010], \"y\": [0.0, 0.0, 0.0, 0.0, 0.0, 0.0, 0.0, 0.0, 0.0, 0.0], \"type\": \"scatter\", \"uid\": \"bb65f928-28eb-42d8-a699-46ed0120ca05\"}], {}, {\"showLink\": false, \"linkText\": \"Export to plot.ly\", \"plotlyServerURL\": \"https://plot.ly\"}); \n",
       "}\n",
       "});</script><script type=\"text/javascript\">window.addEventListener(\"resize\", function(){if (document.getElementById(\"8d955f99-2380-4680-a559-0bd6d47f307a\")) {window._Plotly.Plots.resize(document.getElementById(\"8d955f99-2380-4680-a559-0bd6d47f307a\"));};})</script>"
      ],
      "text/vnd.plotly.v1+html": [
       "<div id=\"8d955f99-2380-4680-a559-0bd6d47f307a\" style=\"height: 525px; width: 100%;\" class=\"plotly-graph-div\"></div><script type=\"text/javascript\">require([\"plotly\"], function(Plotly) { window.PLOTLYENV=window.PLOTLYENV || {};window.PLOTLYENV.BASE_URL=\"https://plot.ly\";\n",
       "if (document.getElementById(\"8d955f99-2380-4680-a559-0bd6d47f307a\")) {\n",
       "    Plotly.newPlot(\"8d955f99-2380-4680-a559-0bd6d47f307a\", [{\"x\": [1001, 1002, 1003, 1004, 1005, 1006, 1007, 1008, 1009, 1010], \"y\": [0.0, 0.0, 0.0, 0.0, 0.0, 0.0, 0.0, 0.0, 0.0, 0.0], \"type\": \"scatter\", \"uid\": \"bb65f928-28eb-42d8-a699-46ed0120ca05\"}], {}, {\"showLink\": false, \"linkText\": \"Export to plot.ly\", \"plotlyServerURL\": \"https://plot.ly\"}); \n",
       "}\n",
       "});</script><script type=\"text/javascript\">window.addEventListener(\"resize\", function(){if (document.getElementById(\"8d955f99-2380-4680-a559-0bd6d47f307a\")) {window._Plotly.Plots.resize(document.getElementById(\"8d955f99-2380-4680-a559-0bd6d47f307a\"));};})</script>"
      ]
     },
     "metadata": {},
     "output_type": "display_data"
    },
    {
     "data": {
      "application/vnd.plotly.v1+json": {
       "config": {
        "linkText": "Export to plot.ly",
        "plotlyServerURL": "https://plot.ly",
        "showLink": false
       },
       "data": [
        {
         "type": "scatter",
         "uid": "27e8e515-343d-4e46-8a7d-183c063342f0",
         "x": [
          1001,
          1002,
          1003,
          1004,
          1005,
          1006,
          1007,
          1008,
          1009,
          1010
         ],
         "y": [
          0.06,
          0.06,
          0,
          0.5,
          0.51,
          0.45,
          0.46,
          null,
          0.48,
          null
         ]
        }
       ],
       "layout": {}
      },
      "text/html": [
       "<div id=\"9bd9a48c-4944-4d2c-b910-263bb3d20d52\" style=\"height: 525px; width: 100%;\" class=\"plotly-graph-div\"></div><script type=\"text/javascript\">require([\"plotly\"], function(Plotly) { window.PLOTLYENV=window.PLOTLYENV || {};window.PLOTLYENV.BASE_URL=\"https://plot.ly\";\n",
       "if (document.getElementById(\"9bd9a48c-4944-4d2c-b910-263bb3d20d52\")) {\n",
       "    Plotly.newPlot(\"9bd9a48c-4944-4d2c-b910-263bb3d20d52\", [{\"x\": [1001, 1002, 1003, 1004, 1005, 1006, 1007, 1008, 1009, 1010], \"y\": [0.06, 0.06, 0.0, 0.5, 0.51, 0.45, 0.46, null, 0.48, null], \"type\": \"scatter\", \"uid\": \"23a2c9ce-b2f6-479a-8abc-7ee62f7bbee6\"}], {}, {\"showLink\": false, \"linkText\": \"Export to plot.ly\", \"plotlyServerURL\": \"https://plot.ly\"}); \n",
       "}\n",
       "});</script><script type=\"text/javascript\">window.addEventListener(\"resize\", function(){if (document.getElementById(\"9bd9a48c-4944-4d2c-b910-263bb3d20d52\")) {window._Plotly.Plots.resize(document.getElementById(\"9bd9a48c-4944-4d2c-b910-263bb3d20d52\"));};})</script>"
      ],
      "text/vnd.plotly.v1+html": [
       "<div id=\"9bd9a48c-4944-4d2c-b910-263bb3d20d52\" style=\"height: 525px; width: 100%;\" class=\"plotly-graph-div\"></div><script type=\"text/javascript\">require([\"plotly\"], function(Plotly) { window.PLOTLYENV=window.PLOTLYENV || {};window.PLOTLYENV.BASE_URL=\"https://plot.ly\";\n",
       "if (document.getElementById(\"9bd9a48c-4944-4d2c-b910-263bb3d20d52\")) {\n",
       "    Plotly.newPlot(\"9bd9a48c-4944-4d2c-b910-263bb3d20d52\", [{\"x\": [1001, 1002, 1003, 1004, 1005, 1006, 1007, 1008, 1009, 1010], \"y\": [0.06, 0.06, 0.0, 0.5, 0.51, 0.45, 0.46, null, 0.48, null], \"type\": \"scatter\", \"uid\": \"23a2c9ce-b2f6-479a-8abc-7ee62f7bbee6\"}], {}, {\"showLink\": false, \"linkText\": \"Export to plot.ly\", \"plotlyServerURL\": \"https://plot.ly\"}); \n",
       "}\n",
       "});</script><script type=\"text/javascript\">window.addEventListener(\"resize\", function(){if (document.getElementById(\"9bd9a48c-4944-4d2c-b910-263bb3d20d52\")) {window._Plotly.Plots.resize(document.getElementById(\"9bd9a48c-4944-4d2c-b910-263bb3d20d52\"));};})</script>"
      ]
     },
     "metadata": {},
     "output_type": "display_data"
    },
    {
     "data": {
      "application/vnd.plotly.v1+json": {
       "config": {
        "linkText": "Export to plot.ly",
        "plotlyServerURL": "https://plot.ly",
        "showLink": false
       },
       "data": [
        {
         "type": "scatter",
         "uid": "21128f9a-af45-4e43-8591-a50192e84df0",
         "x": [
          1001,
          1002,
          1003,
          1004,
          1005,
          1006,
          1007,
          1008,
          1009,
          1010
         ],
         "y": [
          24,
          23,
          4,
          528,
          674,
          184,
          388,
          673,
          710,
          643
         ]
        }
       ],
       "layout": {}
      },
      "text/html": [
       "<div id=\"239af624-e1e3-4f51-8a54-5c9a99bbd4fb\" style=\"height: 525px; width: 100%;\" class=\"plotly-graph-div\"></div><script type=\"text/javascript\">require([\"plotly\"], function(Plotly) { window.PLOTLYENV=window.PLOTLYENV || {};window.PLOTLYENV.BASE_URL=\"https://plot.ly\";\n",
       "if (document.getElementById(\"239af624-e1e3-4f51-8a54-5c9a99bbd4fb\")) {\n",
       "    Plotly.newPlot(\"239af624-e1e3-4f51-8a54-5c9a99bbd4fb\", [{\"x\": [1001, 1002, 1003, 1004, 1005, 1006, 1007, 1008, 1009, 1010], \"y\": [24.0, 23.0, 4.0, 528.0, 674.0, 184.0, 388.0, 673.0, 710.0, 643.0], \"type\": \"scatter\", \"uid\": \"c48e2a22-2eef-46b8-be54-716dfc485ba1\"}], {}, {\"showLink\": false, \"linkText\": \"Export to plot.ly\", \"plotlyServerURL\": \"https://plot.ly\"}); \n",
       "}\n",
       "});</script><script type=\"text/javascript\">window.addEventListener(\"resize\", function(){if (document.getElementById(\"239af624-e1e3-4f51-8a54-5c9a99bbd4fb\")) {window._Plotly.Plots.resize(document.getElementById(\"239af624-e1e3-4f51-8a54-5c9a99bbd4fb\"));};})</script>"
      ],
      "text/vnd.plotly.v1+html": [
       "<div id=\"239af624-e1e3-4f51-8a54-5c9a99bbd4fb\" style=\"height: 525px; width: 100%;\" class=\"plotly-graph-div\"></div><script type=\"text/javascript\">require([\"plotly\"], function(Plotly) { window.PLOTLYENV=window.PLOTLYENV || {};window.PLOTLYENV.BASE_URL=\"https://plot.ly\";\n",
       "if (document.getElementById(\"239af624-e1e3-4f51-8a54-5c9a99bbd4fb\")) {\n",
       "    Plotly.newPlot(\"239af624-e1e3-4f51-8a54-5c9a99bbd4fb\", [{\"x\": [1001, 1002, 1003, 1004, 1005, 1006, 1007, 1008, 1009, 1010], \"y\": [24.0, 23.0, 4.0, 528.0, 674.0, 184.0, 388.0, 673.0, 710.0, 643.0], \"type\": \"scatter\", \"uid\": \"c48e2a22-2eef-46b8-be54-716dfc485ba1\"}], {}, {\"showLink\": false, \"linkText\": \"Export to plot.ly\", \"plotlyServerURL\": \"https://plot.ly\"}); \n",
       "}\n",
       "});</script><script type=\"text/javascript\">window.addEventListener(\"resize\", function(){if (document.getElementById(\"239af624-e1e3-4f51-8a54-5c9a99bbd4fb\")) {window._Plotly.Plots.resize(document.getElementById(\"239af624-e1e3-4f51-8a54-5c9a99bbd4fb\"));};})</script>"
      ]
     },
     "metadata": {},
     "output_type": "display_data"
    },
    {
     "data": {
      "application/vnd.plotly.v1+json": {
       "config": {
        "linkText": "Export to plot.ly",
        "plotlyServerURL": "https://plot.ly",
        "showLink": false
       },
       "data": [
        {
         "type": "scatter",
         "uid": "a8dd06ed-40a1-40ab-8873-71db7cfe9bc5",
         "x": [
          1001,
          1002,
          1003,
          1004,
          1005,
          1006,
          1007,
          1008,
          1009,
          1010
         ],
         "y": [
          0.02,
          0.05,
          0,
          0.31,
          0.43,
          0.5,
          0.33,
          0.64,
          0.14,
          0.21
         ]
        }
       ],
       "layout": {}
      },
      "text/html": [
       "<div id=\"c98594e2-262e-4a1c-9c37-a0b3cbe450c2\" style=\"height: 525px; width: 100%;\" class=\"plotly-graph-div\"></div><script type=\"text/javascript\">require([\"plotly\"], function(Plotly) { window.PLOTLYENV=window.PLOTLYENV || {};window.PLOTLYENV.BASE_URL=\"https://plot.ly\";\n",
       "if (document.getElementById(\"c98594e2-262e-4a1c-9c37-a0b3cbe450c2\")) {\n",
       "    Plotly.newPlot(\"c98594e2-262e-4a1c-9c37-a0b3cbe450c2\", [{\"x\": [1001, 1002, 1003, 1004, 1005, 1006, 1007, 1008, 1009, 1010], \"y\": [0.02, 0.05, 0.0, 0.31, 0.43, 0.5, 0.33, 0.64, 0.14, 0.21], \"type\": \"scatter\", \"uid\": \"7c15983c-8541-485d-8431-83026ca6f7b3\"}], {}, {\"showLink\": false, \"linkText\": \"Export to plot.ly\", \"plotlyServerURL\": \"https://plot.ly\"}); \n",
       "}\n",
       "});</script><script type=\"text/javascript\">window.addEventListener(\"resize\", function(){if (document.getElementById(\"c98594e2-262e-4a1c-9c37-a0b3cbe450c2\")) {window._Plotly.Plots.resize(document.getElementById(\"c98594e2-262e-4a1c-9c37-a0b3cbe450c2\"));};})</script>"
      ],
      "text/vnd.plotly.v1+html": [
       "<div id=\"c98594e2-262e-4a1c-9c37-a0b3cbe450c2\" style=\"height: 525px; width: 100%;\" class=\"plotly-graph-div\"></div><script type=\"text/javascript\">require([\"plotly\"], function(Plotly) { window.PLOTLYENV=window.PLOTLYENV || {};window.PLOTLYENV.BASE_URL=\"https://plot.ly\";\n",
       "if (document.getElementById(\"c98594e2-262e-4a1c-9c37-a0b3cbe450c2\")) {\n",
       "    Plotly.newPlot(\"c98594e2-262e-4a1c-9c37-a0b3cbe450c2\", [{\"x\": [1001, 1002, 1003, 1004, 1005, 1006, 1007, 1008, 1009, 1010], \"y\": [0.02, 0.05, 0.0, 0.31, 0.43, 0.5, 0.33, 0.64, 0.14, 0.21], \"type\": \"scatter\", \"uid\": \"7c15983c-8541-485d-8431-83026ca6f7b3\"}], {}, {\"showLink\": false, \"linkText\": \"Export to plot.ly\", \"plotlyServerURL\": \"https://plot.ly\"}); \n",
       "}\n",
       "});</script><script type=\"text/javascript\">window.addEventListener(\"resize\", function(){if (document.getElementById(\"c98594e2-262e-4a1c-9c37-a0b3cbe450c2\")) {window._Plotly.Plots.resize(document.getElementById(\"c98594e2-262e-4a1c-9c37-a0b3cbe450c2\"));};})</script>"
      ]
     },
     "metadata": {},
     "output_type": "display_data"
    },
    {
     "data": {
      "application/vnd.plotly.v1+json": {
       "config": {
        "linkText": "Export to plot.ly",
        "plotlyServerURL": "https://plot.ly",
        "showLink": false
       },
       "data": [
        {
         "type": "scatter",
         "uid": "fbd1570d-781b-4970-905f-9fb51d5c4349",
         "x": [
          1001,
          1002,
          1003,
          1004,
          1005,
          1006,
          1007,
          1008,
          1009,
          1010
         ],
         "y": [
          2,
          1,
          0,
          23,
          24,
          20,
          20,
          22,
          27,
          21
         ]
        }
       ],
       "layout": {}
      },
      "text/html": [
       "<div id=\"16fba761-b0f2-4a89-b1b5-233647c82a04\" style=\"height: 525px; width: 100%;\" class=\"plotly-graph-div\"></div><script type=\"text/javascript\">require([\"plotly\"], function(Plotly) { window.PLOTLYENV=window.PLOTLYENV || {};window.PLOTLYENV.BASE_URL=\"https://plot.ly\";\n",
       "if (document.getElementById(\"16fba761-b0f2-4a89-b1b5-233647c82a04\")) {\n",
       "    Plotly.newPlot(\"16fba761-b0f2-4a89-b1b5-233647c82a04\", [{\"x\": [1001, 1002, 1003, 1004, 1005, 1006, 1007, 1008, 1009, 1010], \"y\": [2.0, 1.0, 0.0, 23.0, 24.0, 20.0, 20.0, 22.0, 27.0, 21.0], \"type\": \"scatter\", \"uid\": \"e0496f07-cb6f-4aeb-bbec-db05e39c1702\"}], {}, {\"showLink\": false, \"linkText\": \"Export to plot.ly\", \"plotlyServerURL\": \"https://plot.ly\"}); \n",
       "}\n",
       "});</script><script type=\"text/javascript\">window.addEventListener(\"resize\", function(){if (document.getElementById(\"16fba761-b0f2-4a89-b1b5-233647c82a04\")) {window._Plotly.Plots.resize(document.getElementById(\"16fba761-b0f2-4a89-b1b5-233647c82a04\"));};})</script>"
      ],
      "text/vnd.plotly.v1+html": [
       "<div id=\"16fba761-b0f2-4a89-b1b5-233647c82a04\" style=\"height: 525px; width: 100%;\" class=\"plotly-graph-div\"></div><script type=\"text/javascript\">require([\"plotly\"], function(Plotly) { window.PLOTLYENV=window.PLOTLYENV || {};window.PLOTLYENV.BASE_URL=\"https://plot.ly\";\n",
       "if (document.getElementById(\"16fba761-b0f2-4a89-b1b5-233647c82a04\")) {\n",
       "    Plotly.newPlot(\"16fba761-b0f2-4a89-b1b5-233647c82a04\", [{\"x\": [1001, 1002, 1003, 1004, 1005, 1006, 1007, 1008, 1009, 1010], \"y\": [2.0, 1.0, 0.0, 23.0, 24.0, 20.0, 20.0, 22.0, 27.0, 21.0], \"type\": \"scatter\", \"uid\": \"e0496f07-cb6f-4aeb-bbec-db05e39c1702\"}], {}, {\"showLink\": false, \"linkText\": \"Export to plot.ly\", \"plotlyServerURL\": \"https://plot.ly\"}); \n",
       "}\n",
       "});</script><script type=\"text/javascript\">window.addEventListener(\"resize\", function(){if (document.getElementById(\"16fba761-b0f2-4a89-b1b5-233647c82a04\")) {window._Plotly.Plots.resize(document.getElementById(\"16fba761-b0f2-4a89-b1b5-233647c82a04\"));};})</script>"
      ]
     },
     "metadata": {},
     "output_type": "display_data"
    },
    {
     "data": {
      "application/vnd.plotly.v1+json": {
       "config": {
        "linkText": "Export to plot.ly",
        "plotlyServerURL": "https://plot.ly",
        "showLink": false
       },
       "data": [
        {
         "type": "scatter",
         "uid": "2874c4da-d610-4597-82fe-5d36fbd9b885",
         "x": [
          1001,
          1002,
          1003,
          1004,
          1005,
          1006,
          1007,
          1008,
          1009,
          1010
         ],
         "y": [
          24,
          24,
          3,
          387,
          451,
          188,
          347,
          490,
          455,
          464
         ]
        }
       ],
       "layout": {}
      },
      "text/html": [
       "<div id=\"e94adda0-e55a-493b-9e50-1e7141f0412e\" style=\"height: 525px; width: 100%;\" class=\"plotly-graph-div\"></div><script type=\"text/javascript\">require([\"plotly\"], function(Plotly) { window.PLOTLYENV=window.PLOTLYENV || {};window.PLOTLYENV.BASE_URL=\"https://plot.ly\";\n",
       "if (document.getElementById(\"e94adda0-e55a-493b-9e50-1e7141f0412e\")) {\n",
       "    Plotly.newPlot(\"e94adda0-e55a-493b-9e50-1e7141f0412e\", [{\"x\": [1001, 1002, 1003, 1004, 1005, 1006, 1007, 1008, 1009, 1010], \"y\": [24.0, 24.0, 3.0, 387.0, 451.0, 188.0, 347.0, 490.0, 455.0, 464.0], \"type\": \"scatter\", \"uid\": \"2a6174cb-7744-4cf6-8b85-68175f2f06ba\"}], {}, {\"showLink\": false, \"linkText\": \"Export to plot.ly\", \"plotlyServerURL\": \"https://plot.ly\"}); \n",
       "}\n",
       "});</script><script type=\"text/javascript\">window.addEventListener(\"resize\", function(){if (document.getElementById(\"e94adda0-e55a-493b-9e50-1e7141f0412e\")) {window._Plotly.Plots.resize(document.getElementById(\"e94adda0-e55a-493b-9e50-1e7141f0412e\"));};})</script>"
      ],
      "text/vnd.plotly.v1+html": [
       "<div id=\"e94adda0-e55a-493b-9e50-1e7141f0412e\" style=\"height: 525px; width: 100%;\" class=\"plotly-graph-div\"></div><script type=\"text/javascript\">require([\"plotly\"], function(Plotly) { window.PLOTLYENV=window.PLOTLYENV || {};window.PLOTLYENV.BASE_URL=\"https://plot.ly\";\n",
       "if (document.getElementById(\"e94adda0-e55a-493b-9e50-1e7141f0412e\")) {\n",
       "    Plotly.newPlot(\"e94adda0-e55a-493b-9e50-1e7141f0412e\", [{\"x\": [1001, 1002, 1003, 1004, 1005, 1006, 1007, 1008, 1009, 1010], \"y\": [24.0, 24.0, 3.0, 387.0, 451.0, 188.0, 347.0, 490.0, 455.0, 464.0], \"type\": \"scatter\", \"uid\": \"2a6174cb-7744-4cf6-8b85-68175f2f06ba\"}], {}, {\"showLink\": false, \"linkText\": \"Export to plot.ly\", \"plotlyServerURL\": \"https://plot.ly\"}); \n",
       "}\n",
       "});</script><script type=\"text/javascript\">window.addEventListener(\"resize\", function(){if (document.getElementById(\"e94adda0-e55a-493b-9e50-1e7141f0412e\")) {window._Plotly.Plots.resize(document.getElementById(\"e94adda0-e55a-493b-9e50-1e7141f0412e\"));};})</script>"
      ]
     },
     "metadata": {},
     "output_type": "display_data"
    },
    {
     "data": {
      "application/vnd.plotly.v1+json": {
       "config": {
        "linkText": "Export to plot.ly",
        "plotlyServerURL": "https://plot.ly",
        "showLink": false
       },
       "data": [
        {
         "type": "scatter",
         "uid": "4d712896-437f-4da6-a9e4-d7b57319c4b6",
         "x": [
          1001,
          1002,
          1003,
          1004,
          1005,
          1006,
          1007,
          1008,
          1009,
          1010
         ],
         "y": [
          24,
          41,
          5,
          256,
          136,
          152,
          187,
          93,
          76,
          95
         ]
        }
       ],
       "layout": {}
      },
      "text/html": [
       "<div id=\"e3a9b7c6-5525-4fa3-8247-68c85493c9a7\" style=\"height: 525px; width: 100%;\" class=\"plotly-graph-div\"></div><script type=\"text/javascript\">require([\"plotly\"], function(Plotly) { window.PLOTLYENV=window.PLOTLYENV || {};window.PLOTLYENV.BASE_URL=\"https://plot.ly\";\n",
       "if (document.getElementById(\"e3a9b7c6-5525-4fa3-8247-68c85493c9a7\")) {\n",
       "    Plotly.newPlot(\"e3a9b7c6-5525-4fa3-8247-68c85493c9a7\", [{\"x\": [1001, 1002, 1003, 1004, 1005, 1006, 1007, 1008, 1009, 1010], \"y\": [24.0, 41.0, 5.0, 256.0, 136.0, 152.0, 187.0, 93.0, 76.0, 95.0], \"type\": \"scatter\", \"uid\": \"d309c6d3-3f52-46db-87c3-370282c1a700\"}], {}, {\"showLink\": false, \"linkText\": \"Export to plot.ly\", \"plotlyServerURL\": \"https://plot.ly\"}); \n",
       "}\n",
       "});</script><script type=\"text/javascript\">window.addEventListener(\"resize\", function(){if (document.getElementById(\"e3a9b7c6-5525-4fa3-8247-68c85493c9a7\")) {window._Plotly.Plots.resize(document.getElementById(\"e3a9b7c6-5525-4fa3-8247-68c85493c9a7\"));};})</script>"
      ],
      "text/vnd.plotly.v1+html": [
       "<div id=\"e3a9b7c6-5525-4fa3-8247-68c85493c9a7\" style=\"height: 525px; width: 100%;\" class=\"plotly-graph-div\"></div><script type=\"text/javascript\">require([\"plotly\"], function(Plotly) { window.PLOTLYENV=window.PLOTLYENV || {};window.PLOTLYENV.BASE_URL=\"https://plot.ly\";\n",
       "if (document.getElementById(\"e3a9b7c6-5525-4fa3-8247-68c85493c9a7\")) {\n",
       "    Plotly.newPlot(\"e3a9b7c6-5525-4fa3-8247-68c85493c9a7\", [{\"x\": [1001, 1002, 1003, 1004, 1005, 1006, 1007, 1008, 1009, 1010], \"y\": [24.0, 41.0, 5.0, 256.0, 136.0, 152.0, 187.0, 93.0, 76.0, 95.0], \"type\": \"scatter\", \"uid\": \"d309c6d3-3f52-46db-87c3-370282c1a700\"}], {}, {\"showLink\": false, \"linkText\": \"Export to plot.ly\", \"plotlyServerURL\": \"https://plot.ly\"}); \n",
       "}\n",
       "});</script><script type=\"text/javascript\">window.addEventListener(\"resize\", function(){if (document.getElementById(\"e3a9b7c6-5525-4fa3-8247-68c85493c9a7\")) {window._Plotly.Plots.resize(document.getElementById(\"e3a9b7c6-5525-4fa3-8247-68c85493c9a7\"));};})</script>"
      ]
     },
     "metadata": {},
     "output_type": "display_data"
    },
    {
     "data": {
      "application/vnd.plotly.v1+json": {
       "config": {
        "linkText": "Export to plot.ly",
        "plotlyServerURL": "https://plot.ly",
        "showLink": false
       },
       "data": [
        {
         "type": "scatter",
         "uid": "307565ae-8908-47f3-8e80-85e4e13a5026",
         "x": [
          1001,
          1002,
          1003,
          1004,
          1005,
          1006,
          1007,
          1008,
          1009,
          1010
         ],
         "y": [
          643,
          583,
          2,
          1146,
          560,
          629,
          842,
          690,
          653,
          700
         ]
        }
       ],
       "layout": {}
      },
      "text/html": [
       "<div id=\"12b14f64-0470-4a7e-a07c-808fc282841e\" style=\"height: 525px; width: 100%;\" class=\"plotly-graph-div\"></div><script type=\"text/javascript\">require([\"plotly\"], function(Plotly) { window.PLOTLYENV=window.PLOTLYENV || {};window.PLOTLYENV.BASE_URL=\"https://plot.ly\";\n",
       "if (document.getElementById(\"12b14f64-0470-4a7e-a07c-808fc282841e\")) {\n",
       "    Plotly.newPlot(\"12b14f64-0470-4a7e-a07c-808fc282841e\", [{\"x\": [1001, 1002, 1003, 1004, 1005, 1006, 1007, 1008, 1009, 1010], \"y\": [643.0, 583.0, 2.0, 1146.0, 560.0, 629.0, 842.0, 690.0, 653.0, 700.0], \"type\": \"scatter\", \"uid\": \"89a755ec-b580-4d7a-80cf-954c747d8791\"}], {}, {\"showLink\": false, \"linkText\": \"Export to plot.ly\", \"plotlyServerURL\": \"https://plot.ly\"}); \n",
       "}\n",
       "});</script><script type=\"text/javascript\">window.addEventListener(\"resize\", function(){if (document.getElementById(\"12b14f64-0470-4a7e-a07c-808fc282841e\")) {window._Plotly.Plots.resize(document.getElementById(\"12b14f64-0470-4a7e-a07c-808fc282841e\"));};})</script>"
      ],
      "text/vnd.plotly.v1+html": [
       "<div id=\"12b14f64-0470-4a7e-a07c-808fc282841e\" style=\"height: 525px; width: 100%;\" class=\"plotly-graph-div\"></div><script type=\"text/javascript\">require([\"plotly\"], function(Plotly) { window.PLOTLYENV=window.PLOTLYENV || {};window.PLOTLYENV.BASE_URL=\"https://plot.ly\";\n",
       "if (document.getElementById(\"12b14f64-0470-4a7e-a07c-808fc282841e\")) {\n",
       "    Plotly.newPlot(\"12b14f64-0470-4a7e-a07c-808fc282841e\", [{\"x\": [1001, 1002, 1003, 1004, 1005, 1006, 1007, 1008, 1009, 1010], \"y\": [643.0, 583.0, 2.0, 1146.0, 560.0, 629.0, 842.0, 690.0, 653.0, 700.0], \"type\": \"scatter\", \"uid\": \"89a755ec-b580-4d7a-80cf-954c747d8791\"}], {}, {\"showLink\": false, \"linkText\": \"Export to plot.ly\", \"plotlyServerURL\": \"https://plot.ly\"}); \n",
       "}\n",
       "});</script><script type=\"text/javascript\">window.addEventListener(\"resize\", function(){if (document.getElementById(\"12b14f64-0470-4a7e-a07c-808fc282841e\")) {window._Plotly.Plots.resize(document.getElementById(\"12b14f64-0470-4a7e-a07c-808fc282841e\"));};})</script>"
      ]
     },
     "metadata": {},
     "output_type": "display_data"
    },
    {
     "data": {
      "application/vnd.plotly.v1+json": {
       "config": {
        "linkText": "Export to plot.ly",
        "plotlyServerURL": "https://plot.ly",
        "showLink": false
       },
       "data": [
        {
         "type": "scatter",
         "uid": "600feffb-3682-4625-b1b6-d48a37172f87",
         "x": [
          1001,
          1002,
          1003,
          1004,
          1005,
          1006,
          1007,
          1008,
          1009,
          1010
         ],
         "y": [
          0.09,
          0.05,
          0.01,
          2.66,
          2.6,
          2.38,
          2.38,
          2.94,
          3.64,
          2.79
         ]
        }
       ],
       "layout": {}
      },
      "text/html": [
       "<div id=\"be79bcfb-ddf3-410f-b9c5-9e6287873914\" style=\"height: 525px; width: 100%;\" class=\"plotly-graph-div\"></div><script type=\"text/javascript\">require([\"plotly\"], function(Plotly) { window.PLOTLYENV=window.PLOTLYENV || {};window.PLOTLYENV.BASE_URL=\"https://plot.ly\";\n",
       "if (document.getElementById(\"be79bcfb-ddf3-410f-b9c5-9e6287873914\")) {\n",
       "    Plotly.newPlot(\"be79bcfb-ddf3-410f-b9c5-9e6287873914\", [{\"x\": [1001, 1002, 1003, 1004, 1005, 1006, 1007, 1008, 1009, 1010], \"y\": [0.09, 0.05, 0.01, 2.66, 2.6, 2.38, 2.38, 2.94, 3.64, 2.79], \"type\": \"scatter\", \"uid\": \"03c466bb-8872-467c-b9ee-182ab90836d3\"}], {}, {\"showLink\": false, \"linkText\": \"Export to plot.ly\", \"plotlyServerURL\": \"https://plot.ly\"}); \n",
       "}\n",
       "});</script><script type=\"text/javascript\">window.addEventListener(\"resize\", function(){if (document.getElementById(\"be79bcfb-ddf3-410f-b9c5-9e6287873914\")) {window._Plotly.Plots.resize(document.getElementById(\"be79bcfb-ddf3-410f-b9c5-9e6287873914\"));};})</script>"
      ],
      "text/vnd.plotly.v1+html": [
       "<div id=\"be79bcfb-ddf3-410f-b9c5-9e6287873914\" style=\"height: 525px; width: 100%;\" class=\"plotly-graph-div\"></div><script type=\"text/javascript\">require([\"plotly\"], function(Plotly) { window.PLOTLYENV=window.PLOTLYENV || {};window.PLOTLYENV.BASE_URL=\"https://plot.ly\";\n",
       "if (document.getElementById(\"be79bcfb-ddf3-410f-b9c5-9e6287873914\")) {\n",
       "    Plotly.newPlot(\"be79bcfb-ddf3-410f-b9c5-9e6287873914\", [{\"x\": [1001, 1002, 1003, 1004, 1005, 1006, 1007, 1008, 1009, 1010], \"y\": [0.09, 0.05, 0.01, 2.66, 2.6, 2.38, 2.38, 2.94, 3.64, 2.79], \"type\": \"scatter\", \"uid\": \"03c466bb-8872-467c-b9ee-182ab90836d3\"}], {}, {\"showLink\": false, \"linkText\": \"Export to plot.ly\", \"plotlyServerURL\": \"https://plot.ly\"}); \n",
       "}\n",
       "});</script><script type=\"text/javascript\">window.addEventListener(\"resize\", function(){if (document.getElementById(\"be79bcfb-ddf3-410f-b9c5-9e6287873914\")) {window._Plotly.Plots.resize(document.getElementById(\"be79bcfb-ddf3-410f-b9c5-9e6287873914\"));};})</script>"
      ]
     },
     "metadata": {},
     "output_type": "display_data"
    },
    {
     "data": {
      "application/vnd.plotly.v1+json": {
       "config": {
        "linkText": "Export to plot.ly",
        "plotlyServerURL": "https://plot.ly",
        "showLink": false
       },
       "data": [
        {
         "type": "scatter",
         "uid": "028924c9-217e-4657-82fa-c89a69f79ece",
         "x": [
          1001,
          1002,
          1003,
          1004,
          1005,
          1006,
          1007,
          1008,
          1009,
          1010
         ],
         "y": [
          0,
          0.01,
          0.001,
          0.04,
          0.024,
          0.019,
          0.021,
          0.024,
          0.03,
          0.042
         ]
        }
       ],
       "layout": {}
      },
      "text/html": [
       "<div id=\"756b3701-cd88-4f89-a85e-fe59f5e5238a\" style=\"height: 525px; width: 100%;\" class=\"plotly-graph-div\"></div><script type=\"text/javascript\">require([\"plotly\"], function(Plotly) { window.PLOTLYENV=window.PLOTLYENV || {};window.PLOTLYENV.BASE_URL=\"https://plot.ly\";\n",
       "if (document.getElementById(\"756b3701-cd88-4f89-a85e-fe59f5e5238a\")) {\n",
       "    Plotly.newPlot(\"756b3701-cd88-4f89-a85e-fe59f5e5238a\", [{\"x\": [1001, 1002, 1003, 1004, 1005, 1006, 1007, 1008, 1009, 1010], \"y\": [0.0, 0.01, 0.001, 0.04, 0.024, 0.019, 0.021, 0.024, 0.03, 0.042], \"type\": \"scatter\", \"uid\": \"6b409a1a-ff05-4fe1-b10d-55b222b754a1\"}], {}, {\"showLink\": false, \"linkText\": \"Export to plot.ly\", \"plotlyServerURL\": \"https://plot.ly\"}); \n",
       "}\n",
       "});</script><script type=\"text/javascript\">window.addEventListener(\"resize\", function(){if (document.getElementById(\"756b3701-cd88-4f89-a85e-fe59f5e5238a\")) {window._Plotly.Plots.resize(document.getElementById(\"756b3701-cd88-4f89-a85e-fe59f5e5238a\"));};})</script>"
      ],
      "text/vnd.plotly.v1+html": [
       "<div id=\"756b3701-cd88-4f89-a85e-fe59f5e5238a\" style=\"height: 525px; width: 100%;\" class=\"plotly-graph-div\"></div><script type=\"text/javascript\">require([\"plotly\"], function(Plotly) { window.PLOTLYENV=window.PLOTLYENV || {};window.PLOTLYENV.BASE_URL=\"https://plot.ly\";\n",
       "if (document.getElementById(\"756b3701-cd88-4f89-a85e-fe59f5e5238a\")) {\n",
       "    Plotly.newPlot(\"756b3701-cd88-4f89-a85e-fe59f5e5238a\", [{\"x\": [1001, 1002, 1003, 1004, 1005, 1006, 1007, 1008, 1009, 1010], \"y\": [0.0, 0.01, 0.001, 0.04, 0.024, 0.019, 0.021, 0.024, 0.03, 0.042], \"type\": \"scatter\", \"uid\": \"6b409a1a-ff05-4fe1-b10d-55b222b754a1\"}], {}, {\"showLink\": false, \"linkText\": \"Export to plot.ly\", \"plotlyServerURL\": \"https://plot.ly\"}); \n",
       "}\n",
       "});</script><script type=\"text/javascript\">window.addEventListener(\"resize\", function(){if (document.getElementById(\"756b3701-cd88-4f89-a85e-fe59f5e5238a\")) {window._Plotly.Plots.resize(document.getElementById(\"756b3701-cd88-4f89-a85e-fe59f5e5238a\"));};})</script>"
      ]
     },
     "metadata": {},
     "output_type": "display_data"
    },
    {
     "data": {
      "application/vnd.plotly.v1+json": {
       "config": {
        "linkText": "Export to plot.ly",
        "plotlyServerURL": "https://plot.ly",
        "showLink": false
       },
       "data": [
        {
         "type": "scatter",
         "uid": "33ed7395-7b1f-4ec4-8b40-4c553bcbf132",
         "x": [
          1001,
          1002,
          1003,
          1004,
          1005,
          1006,
          1007,
          1008,
          1009,
          1010
         ],
         "y": [
          0,
          0.001,
          0,
          0.009000000000000001,
          0.012,
          0.034,
          0.038,
          0.021,
          0.027000000000000003,
          0.012
         ]
        }
       ],
       "layout": {}
      },
      "text/html": [
       "<div id=\"0b3181ba-d2d3-4a10-9ca4-02ae07054696\" style=\"height: 525px; width: 100%;\" class=\"plotly-graph-div\"></div><script type=\"text/javascript\">require([\"plotly\"], function(Plotly) { window.PLOTLYENV=window.PLOTLYENV || {};window.PLOTLYENV.BASE_URL=\"https://plot.ly\";\n",
       "if (document.getElementById(\"0b3181ba-d2d3-4a10-9ca4-02ae07054696\")) {\n",
       "    Plotly.newPlot(\"0b3181ba-d2d3-4a10-9ca4-02ae07054696\", [{\"x\": [1001, 1002, 1003, 1004, 1005, 1006, 1007, 1008, 1009, 1010], \"y\": [0.0, 0.001, 0.0, 0.009000000000000001, 0.012, 0.034, 0.038, 0.021, 0.027000000000000003, 0.012], \"type\": \"scatter\", \"uid\": \"2ea9b342-c202-464e-9323-95c07703913f\"}], {}, {\"showLink\": false, \"linkText\": \"Export to plot.ly\", \"plotlyServerURL\": \"https://plot.ly\"}); \n",
       "}\n",
       "});</script><script type=\"text/javascript\">window.addEventListener(\"resize\", function(){if (document.getElementById(\"0b3181ba-d2d3-4a10-9ca4-02ae07054696\")) {window._Plotly.Plots.resize(document.getElementById(\"0b3181ba-d2d3-4a10-9ca4-02ae07054696\"));};})</script>"
      ],
      "text/vnd.plotly.v1+html": [
       "<div id=\"0b3181ba-d2d3-4a10-9ca4-02ae07054696\" style=\"height: 525px; width: 100%;\" class=\"plotly-graph-div\"></div><script type=\"text/javascript\">require([\"plotly\"], function(Plotly) { window.PLOTLYENV=window.PLOTLYENV || {};window.PLOTLYENV.BASE_URL=\"https://plot.ly\";\n",
       "if (document.getElementById(\"0b3181ba-d2d3-4a10-9ca4-02ae07054696\")) {\n",
       "    Plotly.newPlot(\"0b3181ba-d2d3-4a10-9ca4-02ae07054696\", [{\"x\": [1001, 1002, 1003, 1004, 1005, 1006, 1007, 1008, 1009, 1010], \"y\": [0.0, 0.001, 0.0, 0.009000000000000001, 0.012, 0.034, 0.038, 0.021, 0.027000000000000003, 0.012], \"type\": \"scatter\", \"uid\": \"2ea9b342-c202-464e-9323-95c07703913f\"}], {}, {\"showLink\": false, \"linkText\": \"Export to plot.ly\", \"plotlyServerURL\": \"https://plot.ly\"}); \n",
       "}\n",
       "});</script><script type=\"text/javascript\">window.addEventListener(\"resize\", function(){if (document.getElementById(\"0b3181ba-d2d3-4a10-9ca4-02ae07054696\")) {window._Plotly.Plots.resize(document.getElementById(\"0b3181ba-d2d3-4a10-9ca4-02ae07054696\"));};})</script>"
      ]
     },
     "metadata": {},
     "output_type": "display_data"
    },
    {
     "data": {
      "application/vnd.plotly.v1+json": {
       "config": {
        "linkText": "Export to plot.ly",
        "plotlyServerURL": "https://plot.ly",
        "showLink": false
       },
       "data": [
        {
         "type": "scatter",
         "uid": "fe00feef-1b5a-4877-9727-2de07947e782",
         "x": [
          1001,
          1002,
          1003,
          1004,
          1005,
          1006,
          1007,
          1008,
          1009,
          1010
         ],
         "y": [
          1,
          0,
          0,
          14.5,
          14.5,
          14.5,
          14.5,
          14.5,
          28.5,
          14.5
         ]
        }
       ],
       "layout": {}
      },
      "text/html": [
       "<div id=\"13f3f211-cba8-4928-b149-8095f289217f\" style=\"height: 525px; width: 100%;\" class=\"plotly-graph-div\"></div><script type=\"text/javascript\">require([\"plotly\"], function(Plotly) { window.PLOTLYENV=window.PLOTLYENV || {};window.PLOTLYENV.BASE_URL=\"https://plot.ly\";\n",
       "if (document.getElementById(\"13f3f211-cba8-4928-b149-8095f289217f\")) {\n",
       "    Plotly.newPlot(\"13f3f211-cba8-4928-b149-8095f289217f\", [{\"x\": [1001, 1002, 1003, 1004, 1005, 1006, 1007, 1008, 1009, 1010], \"y\": [1.0, 0.0, 0.0, 14.5, 14.5, 14.5, 14.5, 14.5, 28.5, 14.5], \"type\": \"scatter\", \"uid\": \"ff8d3062-71b6-4b8e-ad18-7380a1c72676\"}], {}, {\"showLink\": false, \"linkText\": \"Export to plot.ly\", \"plotlyServerURL\": \"https://plot.ly\"}); \n",
       "}\n",
       "});</script><script type=\"text/javascript\">window.addEventListener(\"resize\", function(){if (document.getElementById(\"13f3f211-cba8-4928-b149-8095f289217f\")) {window._Plotly.Plots.resize(document.getElementById(\"13f3f211-cba8-4928-b149-8095f289217f\"));};})</script>"
      ],
      "text/vnd.plotly.v1+html": [
       "<div id=\"13f3f211-cba8-4928-b149-8095f289217f\" style=\"height: 525px; width: 100%;\" class=\"plotly-graph-div\"></div><script type=\"text/javascript\">require([\"plotly\"], function(Plotly) { window.PLOTLYENV=window.PLOTLYENV || {};window.PLOTLYENV.BASE_URL=\"https://plot.ly\";\n",
       "if (document.getElementById(\"13f3f211-cba8-4928-b149-8095f289217f\")) {\n",
       "    Plotly.newPlot(\"13f3f211-cba8-4928-b149-8095f289217f\", [{\"x\": [1001, 1002, 1003, 1004, 1005, 1006, 1007, 1008, 1009, 1010], \"y\": [1.0, 0.0, 0.0, 14.5, 14.5, 14.5, 14.5, 14.5, 28.5, 14.5], \"type\": \"scatter\", \"uid\": \"ff8d3062-71b6-4b8e-ad18-7380a1c72676\"}], {}, {\"showLink\": false, \"linkText\": \"Export to plot.ly\", \"plotlyServerURL\": \"https://plot.ly\"}); \n",
       "}\n",
       "});</script><script type=\"text/javascript\">window.addEventListener(\"resize\", function(){if (document.getElementById(\"13f3f211-cba8-4928-b149-8095f289217f\")) {window._Plotly.Plots.resize(document.getElementById(\"13f3f211-cba8-4928-b149-8095f289217f\"));};})</script>"
      ]
     },
     "metadata": {},
     "output_type": "display_data"
    },
    {
     "data": {
      "application/vnd.plotly.v1+json": {
       "config": {
        "linkText": "Export to plot.ly",
        "plotlyServerURL": "https://plot.ly",
        "showLink": false
       },
       "data": [
        {
         "type": "scatter",
         "uid": "92398e69-7f5b-44c3-b172-e7d058f92d32",
         "x": [
          1001,
          1002,
          1003,
          1004,
          1005,
          1006,
          1007,
          1008,
          1009,
          1010
         ],
         "y": [
          0,
          0,
          0,
          0,
          0,
          0,
          0,
          0,
          0,
          0
         ]
        }
       ],
       "layout": {}
      },
      "text/html": [
       "<div id=\"a9c7f967-9835-4352-bc74-1db9e5490c65\" style=\"height: 525px; width: 100%;\" class=\"plotly-graph-div\"></div><script type=\"text/javascript\">require([\"plotly\"], function(Plotly) { window.PLOTLYENV=window.PLOTLYENV || {};window.PLOTLYENV.BASE_URL=\"https://plot.ly\";\n",
       "if (document.getElementById(\"a9c7f967-9835-4352-bc74-1db9e5490c65\")) {\n",
       "    Plotly.newPlot(\"a9c7f967-9835-4352-bc74-1db9e5490c65\", [{\"x\": [1001, 1002, 1003, 1004, 1005, 1006, 1007, 1008, 1009, 1010], \"y\": [0.0, 0.0, 0.0, 0.0, 0.0, 0.0, 0.0, 0.0, 0.0, 0.0], \"type\": \"scatter\", \"uid\": \"1ddec476-7047-4212-a112-0487eba8ca90\"}], {}, {\"showLink\": false, \"linkText\": \"Export to plot.ly\", \"plotlyServerURL\": \"https://plot.ly\"}); \n",
       "}\n",
       "});</script><script type=\"text/javascript\">window.addEventListener(\"resize\", function(){if (document.getElementById(\"a9c7f967-9835-4352-bc74-1db9e5490c65\")) {window._Plotly.Plots.resize(document.getElementById(\"a9c7f967-9835-4352-bc74-1db9e5490c65\"));};})</script>"
      ],
      "text/vnd.plotly.v1+html": [
       "<div id=\"a9c7f967-9835-4352-bc74-1db9e5490c65\" style=\"height: 525px; width: 100%;\" class=\"plotly-graph-div\"></div><script type=\"text/javascript\">require([\"plotly\"], function(Plotly) { window.PLOTLYENV=window.PLOTLYENV || {};window.PLOTLYENV.BASE_URL=\"https://plot.ly\";\n",
       "if (document.getElementById(\"a9c7f967-9835-4352-bc74-1db9e5490c65\")) {\n",
       "    Plotly.newPlot(\"a9c7f967-9835-4352-bc74-1db9e5490c65\", [{\"x\": [1001, 1002, 1003, 1004, 1005, 1006, 1007, 1008, 1009, 1010], \"y\": [0.0, 0.0, 0.0, 0.0, 0.0, 0.0, 0.0, 0.0, 0.0, 0.0], \"type\": \"scatter\", \"uid\": \"1ddec476-7047-4212-a112-0487eba8ca90\"}], {}, {\"showLink\": false, \"linkText\": \"Export to plot.ly\", \"plotlyServerURL\": \"https://plot.ly\"}); \n",
       "}\n",
       "});</script><script type=\"text/javascript\">window.addEventListener(\"resize\", function(){if (document.getElementById(\"a9c7f967-9835-4352-bc74-1db9e5490c65\")) {window._Plotly.Plots.resize(document.getElementById(\"a9c7f967-9835-4352-bc74-1db9e5490c65\"));};})</script>"
      ]
     },
     "metadata": {},
     "output_type": "display_data"
    },
    {
     "data": {
      "application/vnd.plotly.v1+json": {
       "config": {
        "linkText": "Export to plot.ly",
        "plotlyServerURL": "https://plot.ly",
        "showLink": false
       },
       "data": [
        {
         "type": "scatter",
         "uid": "936d02aa-65ee-42c5-827e-bd4ec474b681",
         "x": [
          1001,
          1002,
          1003,
          1004,
          1005,
          1006,
          1007,
          1008,
          1009,
          1010
         ],
         "y": [
          0.005,
          0.006999999999999999,
          0.001,
          0.028999999999999998,
          0.013999999999999999,
          0.07,
          0.027999999999999997,
          0.031,
          0.028999999999999998,
          0.046
         ]
        }
       ],
       "layout": {}
      },
      "text/html": [
       "<div id=\"28ca4472-492e-4684-be4c-0d98ad06272f\" style=\"height: 525px; width: 100%;\" class=\"plotly-graph-div\"></div><script type=\"text/javascript\">require([\"plotly\"], function(Plotly) { window.PLOTLYENV=window.PLOTLYENV || {};window.PLOTLYENV.BASE_URL=\"https://plot.ly\";\n",
       "if (document.getElementById(\"28ca4472-492e-4684-be4c-0d98ad06272f\")) {\n",
       "    Plotly.newPlot(\"28ca4472-492e-4684-be4c-0d98ad06272f\", [{\"x\": [1001, 1002, 1003, 1004, 1005, 1006, 1007, 1008, 1009, 1010], \"y\": [0.005, 0.006999999999999999, 0.001, 0.028999999999999998, 0.013999999999999999, 0.07, 0.027999999999999997, 0.031, 0.028999999999999998, 0.046], \"type\": \"scatter\", \"uid\": \"ba6e766a-1a72-4120-a8df-cc2ac429bd1a\"}], {}, {\"showLink\": false, \"linkText\": \"Export to plot.ly\", \"plotlyServerURL\": \"https://plot.ly\"}); \n",
       "}\n",
       "});</script><script type=\"text/javascript\">window.addEventListener(\"resize\", function(){if (document.getElementById(\"28ca4472-492e-4684-be4c-0d98ad06272f\")) {window._Plotly.Plots.resize(document.getElementById(\"28ca4472-492e-4684-be4c-0d98ad06272f\"));};})</script>"
      ],
      "text/vnd.plotly.v1+html": [
       "<div id=\"28ca4472-492e-4684-be4c-0d98ad06272f\" style=\"height: 525px; width: 100%;\" class=\"plotly-graph-div\"></div><script type=\"text/javascript\">require([\"plotly\"], function(Plotly) { window.PLOTLYENV=window.PLOTLYENV || {};window.PLOTLYENV.BASE_URL=\"https://plot.ly\";\n",
       "if (document.getElementById(\"28ca4472-492e-4684-be4c-0d98ad06272f\")) {\n",
       "    Plotly.newPlot(\"28ca4472-492e-4684-be4c-0d98ad06272f\", [{\"x\": [1001, 1002, 1003, 1004, 1005, 1006, 1007, 1008, 1009, 1010], \"y\": [0.005, 0.006999999999999999, 0.001, 0.028999999999999998, 0.013999999999999999, 0.07, 0.027999999999999997, 0.031, 0.028999999999999998, 0.046], \"type\": \"scatter\", \"uid\": \"ba6e766a-1a72-4120-a8df-cc2ac429bd1a\"}], {}, {\"showLink\": false, \"linkText\": \"Export to plot.ly\", \"plotlyServerURL\": \"https://plot.ly\"}); \n",
       "}\n",
       "});</script><script type=\"text/javascript\">window.addEventListener(\"resize\", function(){if (document.getElementById(\"28ca4472-492e-4684-be4c-0d98ad06272f\")) {window._Plotly.Plots.resize(document.getElementById(\"28ca4472-492e-4684-be4c-0d98ad06272f\"));};})</script>"
      ]
     },
     "metadata": {},
     "output_type": "display_data"
    },
    {
     "data": {
      "application/vnd.plotly.v1+json": {
       "config": {
        "linkText": "Export to plot.ly",
        "plotlyServerURL": "https://plot.ly",
        "showLink": false
       },
       "data": [
        {
         "type": "scatter",
         "uid": "3f5707a5-9a8d-4e9e-b473-9474d74fa074",
         "x": [
          1001,
          1002,
          1003,
          1004,
          1005,
          1006,
          1007,
          1008,
          1009,
          1010
         ],
         "y": [
          0.034,
          0.064,
          0.005,
          0.382,
          0.35100000000000003,
          0.52,
          0.488,
          0.45,
          0.428,
          0.293
         ]
        }
       ],
       "layout": {}
      },
      "text/html": [
       "<div id=\"67d1d477-ba76-43d8-9c45-0b732bc410b8\" style=\"height: 525px; width: 100%;\" class=\"plotly-graph-div\"></div><script type=\"text/javascript\">require([\"plotly\"], function(Plotly) { window.PLOTLYENV=window.PLOTLYENV || {};window.PLOTLYENV.BASE_URL=\"https://plot.ly\";\n",
       "if (document.getElementById(\"67d1d477-ba76-43d8-9c45-0b732bc410b8\")) {\n",
       "    Plotly.newPlot(\"67d1d477-ba76-43d8-9c45-0b732bc410b8\", [{\"x\": [1001, 1002, 1003, 1004, 1005, 1006, 1007, 1008, 1009, 1010], \"y\": [0.034, 0.064, 0.005, 0.382, 0.35100000000000003, 0.52, 0.488, 0.45, 0.428, 0.293], \"type\": \"scatter\", \"uid\": \"8197b4be-96c3-4a5d-bc2b-c3d327d1b71d\"}], {}, {\"showLink\": false, \"linkText\": \"Export to plot.ly\", \"plotlyServerURL\": \"https://plot.ly\"}); \n",
       "}\n",
       "});</script><script type=\"text/javascript\">window.addEventListener(\"resize\", function(){if (document.getElementById(\"67d1d477-ba76-43d8-9c45-0b732bc410b8\")) {window._Plotly.Plots.resize(document.getElementById(\"67d1d477-ba76-43d8-9c45-0b732bc410b8\"));};})</script>"
      ],
      "text/vnd.plotly.v1+html": [
       "<div id=\"67d1d477-ba76-43d8-9c45-0b732bc410b8\" style=\"height: 525px; width: 100%;\" class=\"plotly-graph-div\"></div><script type=\"text/javascript\">require([\"plotly\"], function(Plotly) { window.PLOTLYENV=window.PLOTLYENV || {};window.PLOTLYENV.BASE_URL=\"https://plot.ly\";\n",
       "if (document.getElementById(\"67d1d477-ba76-43d8-9c45-0b732bc410b8\")) {\n",
       "    Plotly.newPlot(\"67d1d477-ba76-43d8-9c45-0b732bc410b8\", [{\"x\": [1001, 1002, 1003, 1004, 1005, 1006, 1007, 1008, 1009, 1010], \"y\": [0.034, 0.064, 0.005, 0.382, 0.35100000000000003, 0.52, 0.488, 0.45, 0.428, 0.293], \"type\": \"scatter\", \"uid\": \"8197b4be-96c3-4a5d-bc2b-c3d327d1b71d\"}], {}, {\"showLink\": false, \"linkText\": \"Export to plot.ly\", \"plotlyServerURL\": \"https://plot.ly\"}); \n",
       "}\n",
       "});</script><script type=\"text/javascript\">window.addEventListener(\"resize\", function(){if (document.getElementById(\"67d1d477-ba76-43d8-9c45-0b732bc410b8\")) {window._Plotly.Plots.resize(document.getElementById(\"67d1d477-ba76-43d8-9c45-0b732bc410b8\"));};})</script>"
      ]
     },
     "metadata": {},
     "output_type": "display_data"
    },
    {
     "data": {
      "application/vnd.plotly.v1+json": {
       "config": {
        "linkText": "Export to plot.ly",
        "plotlyServerURL": "https://plot.ly",
        "showLink": false
       },
       "data": [
        {
         "type": "scatter",
         "uid": "1aaa305b-5221-4898-86ec-741dd56ac64a",
         "x": [
          1001,
          1002,
          1003,
          1004,
          1005,
          1006,
          1007,
          1008,
          1009,
          1010
         ],
         "y": [
          0.042,
          0.022000000000000002,
          0.003,
          1.016,
          0.11800000000000001,
          0.38,
          0.63,
          0.18,
          0.059000000000000004,
          0.08
         ]
        }
       ],
       "layout": {}
      },
      "text/html": [
       "<div id=\"69fd4d59-c731-4dcc-80de-b2c1a4738448\" style=\"height: 525px; width: 100%;\" class=\"plotly-graph-div\"></div><script type=\"text/javascript\">require([\"plotly\"], function(Plotly) { window.PLOTLYENV=window.PLOTLYENV || {};window.PLOTLYENV.BASE_URL=\"https://plot.ly\";\n",
       "if (document.getElementById(\"69fd4d59-c731-4dcc-80de-b2c1a4738448\")) {\n",
       "    Plotly.newPlot(\"69fd4d59-c731-4dcc-80de-b2c1a4738448\", [{\"x\": [1001, 1002, 1003, 1004, 1005, 1006, 1007, 1008, 1009, 1010], \"y\": [0.042, 0.022000000000000002, 0.003, 1.016, 0.11800000000000001, 0.38, 0.63, 0.18, 0.059000000000000004, 0.08], \"type\": \"scatter\", \"uid\": \"c6c920e1-a3cd-4d67-9f96-d34990686752\"}], {}, {\"showLink\": false, \"linkText\": \"Export to plot.ly\", \"plotlyServerURL\": \"https://plot.ly\"}); \n",
       "}\n",
       "});</script><script type=\"text/javascript\">window.addEventListener(\"resize\", function(){if (document.getElementById(\"69fd4d59-c731-4dcc-80de-b2c1a4738448\")) {window._Plotly.Plots.resize(document.getElementById(\"69fd4d59-c731-4dcc-80de-b2c1a4738448\"));};})</script>"
      ],
      "text/vnd.plotly.v1+html": [
       "<div id=\"69fd4d59-c731-4dcc-80de-b2c1a4738448\" style=\"height: 525px; width: 100%;\" class=\"plotly-graph-div\"></div><script type=\"text/javascript\">require([\"plotly\"], function(Plotly) { window.PLOTLYENV=window.PLOTLYENV || {};window.PLOTLYENV.BASE_URL=\"https://plot.ly\";\n",
       "if (document.getElementById(\"69fd4d59-c731-4dcc-80de-b2c1a4738448\")) {\n",
       "    Plotly.newPlot(\"69fd4d59-c731-4dcc-80de-b2c1a4738448\", [{\"x\": [1001, 1002, 1003, 1004, 1005, 1006, 1007, 1008, 1009, 1010], \"y\": [0.042, 0.022000000000000002, 0.003, 1.016, 0.11800000000000001, 0.38, 0.63, 0.18, 0.059000000000000004, 0.08], \"type\": \"scatter\", \"uid\": \"c6c920e1-a3cd-4d67-9f96-d34990686752\"}], {}, {\"showLink\": false, \"linkText\": \"Export to plot.ly\", \"plotlyServerURL\": \"https://plot.ly\"}); \n",
       "}\n",
       "});</script><script type=\"text/javascript\">window.addEventListener(\"resize\", function(){if (document.getElementById(\"69fd4d59-c731-4dcc-80de-b2c1a4738448\")) {window._Plotly.Plots.resize(document.getElementById(\"69fd4d59-c731-4dcc-80de-b2c1a4738448\"));};})</script>"
      ]
     },
     "metadata": {},
     "output_type": "display_data"
    },
    {
     "data": {
      "application/vnd.plotly.v1+json": {
       "config": {
        "linkText": "Export to plot.ly",
        "plotlyServerURL": "https://plot.ly",
        "showLink": false
       },
       "data": [
        {
         "type": "scatter",
         "uid": "b3a22cfa-58da-48b4-91eb-f3e625373ed1",
         "x": [
          1001,
          1002,
          1003,
          1004,
          1005,
          1006,
          1007,
          1008,
          1009,
          1010
         ],
         "y": [
          0.11,
          0.09699999999999999,
          0.01,
          1.729,
          0.28800000000000003,
          0.69,
          1.364,
          0.19,
          0.41,
          0.413
         ]
        }
       ],
       "layout": {}
      },
      "text/html": [
       "<div id=\"fbe897a8-8507-4aa2-ade7-aa85550ee8cb\" style=\"height: 525px; width: 100%;\" class=\"plotly-graph-div\"></div><script type=\"text/javascript\">require([\"plotly\"], function(Plotly) { window.PLOTLYENV=window.PLOTLYENV || {};window.PLOTLYENV.BASE_URL=\"https://plot.ly\";\n",
       "if (document.getElementById(\"fbe897a8-8507-4aa2-ade7-aa85550ee8cb\")) {\n",
       "    Plotly.newPlot(\"fbe897a8-8507-4aa2-ade7-aa85550ee8cb\", [{\"x\": [1001, 1002, 1003, 1004, 1005, 1006, 1007, 1008, 1009, 1010], \"y\": [0.11, 0.09699999999999999, 0.01, 1.729, 0.28800000000000003, 0.69, 1.364, 0.19, 0.41, 0.413], \"type\": \"scatter\", \"uid\": \"e81b3407-cd0c-4546-8e15-5d654f4fb481\"}], {}, {\"showLink\": false, \"linkText\": \"Export to plot.ly\", \"plotlyServerURL\": \"https://plot.ly\"}); \n",
       "}\n",
       "});</script><script type=\"text/javascript\">window.addEventListener(\"resize\", function(){if (document.getElementById(\"fbe897a8-8507-4aa2-ade7-aa85550ee8cb\")) {window._Plotly.Plots.resize(document.getElementById(\"fbe897a8-8507-4aa2-ade7-aa85550ee8cb\"));};})</script>"
      ],
      "text/vnd.plotly.v1+html": [
       "<div id=\"fbe897a8-8507-4aa2-ade7-aa85550ee8cb\" style=\"height: 525px; width: 100%;\" class=\"plotly-graph-div\"></div><script type=\"text/javascript\">require([\"plotly\"], function(Plotly) { window.PLOTLYENV=window.PLOTLYENV || {};window.PLOTLYENV.BASE_URL=\"https://plot.ly\";\n",
       "if (document.getElementById(\"fbe897a8-8507-4aa2-ade7-aa85550ee8cb\")) {\n",
       "    Plotly.newPlot(\"fbe897a8-8507-4aa2-ade7-aa85550ee8cb\", [{\"x\": [1001, 1002, 1003, 1004, 1005, 1006, 1007, 1008, 1009, 1010], \"y\": [0.11, 0.09699999999999999, 0.01, 1.729, 0.28800000000000003, 0.69, 1.364, 0.19, 0.41, 0.413], \"type\": \"scatter\", \"uid\": \"e81b3407-cd0c-4546-8e15-5d654f4fb481\"}], {}, {\"showLink\": false, \"linkText\": \"Export to plot.ly\", \"plotlyServerURL\": \"https://plot.ly\"}); \n",
       "}\n",
       "});</script><script type=\"text/javascript\">window.addEventListener(\"resize\", function(){if (document.getElementById(\"fbe897a8-8507-4aa2-ade7-aa85550ee8cb\")) {window._Plotly.Plots.resize(document.getElementById(\"fbe897a8-8507-4aa2-ade7-aa85550ee8cb\"));};})</script>"
      ]
     },
     "metadata": {},
     "output_type": "display_data"
    },
    {
     "data": {
      "application/vnd.plotly.v1+json": {
       "config": {
        "linkText": "Export to plot.ly",
        "plotlyServerURL": "https://plot.ly",
        "showLink": false
       },
       "data": [
        {
         "type": "scatter",
         "uid": "aea173dd-e9f6-46ea-a5cf-9383a9adac58",
         "x": [
          1001,
          1002,
          1003,
          1004,
          1005,
          1006,
          1007,
          1008,
          1009,
          1010
         ],
         "y": [
          0.003,
          0.008,
          0.001,
          0.166,
          0.065,
          0.235,
          0.22699999999999998,
          0.07400000000000001,
          0.066,
          0.07400000000000001
         ]
        }
       ],
       "layout": {}
      },
      "text/html": [
       "<div id=\"f340e457-1959-4649-96ba-f88bd18ec7c4\" style=\"height: 525px; width: 100%;\" class=\"plotly-graph-div\"></div><script type=\"text/javascript\">require([\"plotly\"], function(Plotly) { window.PLOTLYENV=window.PLOTLYENV || {};window.PLOTLYENV.BASE_URL=\"https://plot.ly\";\n",
       "if (document.getElementById(\"f340e457-1959-4649-96ba-f88bd18ec7c4\")) {\n",
       "    Plotly.newPlot(\"f340e457-1959-4649-96ba-f88bd18ec7c4\", [{\"x\": [1001, 1002, 1003, 1004, 1005, 1006, 1007, 1008, 1009, 1010], \"y\": [0.003, 0.008, 0.001, 0.166, 0.065, 0.235, 0.22699999999999998, 0.07400000000000001, 0.066, 0.07400000000000001], \"type\": \"scatter\", \"uid\": \"423433c6-fba4-44e3-94eb-7c96ad64301f\"}], {}, {\"showLink\": false, \"linkText\": \"Export to plot.ly\", \"plotlyServerURL\": \"https://plot.ly\"}); \n",
       "}\n",
       "});</script><script type=\"text/javascript\">window.addEventListener(\"resize\", function(){if (document.getElementById(\"f340e457-1959-4649-96ba-f88bd18ec7c4\")) {window._Plotly.Plots.resize(document.getElementById(\"f340e457-1959-4649-96ba-f88bd18ec7c4\"));};})</script>"
      ],
      "text/vnd.plotly.v1+html": [
       "<div id=\"f340e457-1959-4649-96ba-f88bd18ec7c4\" style=\"height: 525px; width: 100%;\" class=\"plotly-graph-div\"></div><script type=\"text/javascript\">require([\"plotly\"], function(Plotly) { window.PLOTLYENV=window.PLOTLYENV || {};window.PLOTLYENV.BASE_URL=\"https://plot.ly\";\n",
       "if (document.getElementById(\"f340e457-1959-4649-96ba-f88bd18ec7c4\")) {\n",
       "    Plotly.newPlot(\"f340e457-1959-4649-96ba-f88bd18ec7c4\", [{\"x\": [1001, 1002, 1003, 1004, 1005, 1006, 1007, 1008, 1009, 1010], \"y\": [0.003, 0.008, 0.001, 0.166, 0.065, 0.235, 0.22699999999999998, 0.07400000000000001, 0.066, 0.07400000000000001], \"type\": \"scatter\", \"uid\": \"423433c6-fba4-44e3-94eb-7c96ad64301f\"}], {}, {\"showLink\": false, \"linkText\": \"Export to plot.ly\", \"plotlyServerURL\": \"https://plot.ly\"}); \n",
       "}\n",
       "});</script><script type=\"text/javascript\">window.addEventListener(\"resize\", function(){if (document.getElementById(\"f340e457-1959-4649-96ba-f88bd18ec7c4\")) {window._Plotly.Plots.resize(document.getElementById(\"f340e457-1959-4649-96ba-f88bd18ec7c4\"));};})</script>"
      ]
     },
     "metadata": {},
     "output_type": "display_data"
    },
    {
     "data": {
      "application/vnd.plotly.v1+json": {
       "config": {
        "linkText": "Export to plot.ly",
        "plotlyServerURL": "https://plot.ly",
        "showLink": false
       },
       "data": [
        {
         "type": "scatter",
         "uid": "c3d2fed1-ec03-4b94-aa83-3461b1bdb397",
         "x": [
          1001,
          1002,
          1003,
          1004,
          1005,
          1006,
          1007,
          1008,
          1009,
          1010
         ],
         "y": [
          3,
          4,
          0,
          36,
          20,
          65,
          62,
          18,
          27,
          18
         ]
        }
       ],
       "layout": {}
      },
      "text/html": [
       "<div id=\"26307776-0ef4-4094-931e-52094dadbeec\" style=\"height: 525px; width: 100%;\" class=\"plotly-graph-div\"></div><script type=\"text/javascript\">require([\"plotly\"], function(Plotly) { window.PLOTLYENV=window.PLOTLYENV || {};window.PLOTLYENV.BASE_URL=\"https://plot.ly\";\n",
       "if (document.getElementById(\"26307776-0ef4-4094-931e-52094dadbeec\")) {\n",
       "    Plotly.newPlot(\"26307776-0ef4-4094-931e-52094dadbeec\", [{\"x\": [1001, 1002, 1003, 1004, 1005, 1006, 1007, 1008, 1009, 1010], \"y\": [3.0, 4.0, 0.0, 36.0, 20.0, 65.0, 62.0, 18.0, 27.0, 18.0], \"type\": \"scatter\", \"uid\": \"121c1366-0c62-4345-8f5e-6e536707974b\"}], {}, {\"showLink\": false, \"linkText\": \"Export to plot.ly\", \"plotlyServerURL\": \"https://plot.ly\"}); \n",
       "}\n",
       "});</script><script type=\"text/javascript\">window.addEventListener(\"resize\", function(){if (document.getElementById(\"26307776-0ef4-4094-931e-52094dadbeec\")) {window._Plotly.Plots.resize(document.getElementById(\"26307776-0ef4-4094-931e-52094dadbeec\"));};})</script>"
      ],
      "text/vnd.plotly.v1+html": [
       "<div id=\"26307776-0ef4-4094-931e-52094dadbeec\" style=\"height: 525px; width: 100%;\" class=\"plotly-graph-div\"></div><script type=\"text/javascript\">require([\"plotly\"], function(Plotly) { window.PLOTLYENV=window.PLOTLYENV || {};window.PLOTLYENV.BASE_URL=\"https://plot.ly\";\n",
       "if (document.getElementById(\"26307776-0ef4-4094-931e-52094dadbeec\")) {\n",
       "    Plotly.newPlot(\"26307776-0ef4-4094-931e-52094dadbeec\", [{\"x\": [1001, 1002, 1003, 1004, 1005, 1006, 1007, 1008, 1009, 1010], \"y\": [3.0, 4.0, 0.0, 36.0, 20.0, 65.0, 62.0, 18.0, 27.0, 18.0], \"type\": \"scatter\", \"uid\": \"121c1366-0c62-4345-8f5e-6e536707974b\"}], {}, {\"showLink\": false, \"linkText\": \"Export to plot.ly\", \"plotlyServerURL\": \"https://plot.ly\"}); \n",
       "}\n",
       "});</script><script type=\"text/javascript\">window.addEventListener(\"resize\", function(){if (document.getElementById(\"26307776-0ef4-4094-931e-52094dadbeec\")) {window._Plotly.Plots.resize(document.getElementById(\"26307776-0ef4-4094-931e-52094dadbeec\"));};})</script>"
      ]
     },
     "metadata": {},
     "output_type": "display_data"
    },
    {
     "data": {
      "application/vnd.plotly.v1+json": {
       "config": {
        "linkText": "Export to plot.ly",
        "plotlyServerURL": "https://plot.ly",
        "showLink": false
       },
       "data": [
        {
         "type": "scatter",
         "uid": "a18d3829-c6dd-4641-a88b-55daa52fe3ca",
         "x": [
          1001,
          1002,
          1003,
          1004,
          1005,
          1006,
          1007,
          1008,
          1009,
          1010
         ],
         "y": [
          0,
          0,
          0,
          0,
          0,
          0,
          0,
          0,
          0,
          0
         ]
        }
       ],
       "layout": {}
      },
      "text/html": [
       "<div id=\"892e9302-a9e2-435e-9927-dbe507b5e327\" style=\"height: 525px; width: 100%;\" class=\"plotly-graph-div\"></div><script type=\"text/javascript\">require([\"plotly\"], function(Plotly) { window.PLOTLYENV=window.PLOTLYENV || {};window.PLOTLYENV.BASE_URL=\"https://plot.ly\";\n",
       "if (document.getElementById(\"892e9302-a9e2-435e-9927-dbe507b5e327\")) {\n",
       "    Plotly.newPlot(\"892e9302-a9e2-435e-9927-dbe507b5e327\", [{\"x\": [1001, 1002, 1003, 1004, 1005, 1006, 1007, 1008, 1009, 1010], \"y\": [0.0, 0.0, 0.0, 0.0, 0.0, 0.0, 0.0, 0.0, 0.0, 0.0], \"type\": \"scatter\", \"uid\": \"ed61b9ea-4fff-4824-a7b2-d9222ebb2256\"}], {}, {\"showLink\": false, \"linkText\": \"Export to plot.ly\", \"plotlyServerURL\": \"https://plot.ly\"}); \n",
       "}\n",
       "});</script><script type=\"text/javascript\">window.addEventListener(\"resize\", function(){if (document.getElementById(\"892e9302-a9e2-435e-9927-dbe507b5e327\")) {window._Plotly.Plots.resize(document.getElementById(\"892e9302-a9e2-435e-9927-dbe507b5e327\"));};})</script>"
      ],
      "text/vnd.plotly.v1+html": [
       "<div id=\"892e9302-a9e2-435e-9927-dbe507b5e327\" style=\"height: 525px; width: 100%;\" class=\"plotly-graph-div\"></div><script type=\"text/javascript\">require([\"plotly\"], function(Plotly) { window.PLOTLYENV=window.PLOTLYENV || {};window.PLOTLYENV.BASE_URL=\"https://plot.ly\";\n",
       "if (document.getElementById(\"892e9302-a9e2-435e-9927-dbe507b5e327\")) {\n",
       "    Plotly.newPlot(\"892e9302-a9e2-435e-9927-dbe507b5e327\", [{\"x\": [1001, 1002, 1003, 1004, 1005, 1006, 1007, 1008, 1009, 1010], \"y\": [0.0, 0.0, 0.0, 0.0, 0.0, 0.0, 0.0, 0.0, 0.0, 0.0], \"type\": \"scatter\", \"uid\": \"ed61b9ea-4fff-4824-a7b2-d9222ebb2256\"}], {}, {\"showLink\": false, \"linkText\": \"Export to plot.ly\", \"plotlyServerURL\": \"https://plot.ly\"}); \n",
       "}\n",
       "});</script><script type=\"text/javascript\">window.addEventListener(\"resize\", function(){if (document.getElementById(\"892e9302-a9e2-435e-9927-dbe507b5e327\")) {window._Plotly.Plots.resize(document.getElementById(\"892e9302-a9e2-435e-9927-dbe507b5e327\"));};})</script>"
      ]
     },
     "metadata": {},
     "output_type": "display_data"
    },
    {
     "data": {
      "application/vnd.plotly.v1+json": {
       "config": {
        "linkText": "Export to plot.ly",
        "plotlyServerURL": "https://plot.ly",
        "showLink": false
       },
       "data": [
        {
         "type": "scatter",
         "uid": "186eb754-e5a3-47dc-a77f-c3bcc4be1cbb",
         "x": [
          1001,
          1002,
          1003,
          1004,
          1005,
          1006,
          1007,
          1008,
          1009,
          1010
         ],
         "y": [
          3,
          4,
          0,
          36,
          20,
          65,
          62,
          18,
          27,
          18
         ]
        }
       ],
       "layout": {}
      },
      "text/html": [
       "<div id=\"c935a5f2-8167-4ecd-88a3-f1c3a3a9d414\" style=\"height: 525px; width: 100%;\" class=\"plotly-graph-div\"></div><script type=\"text/javascript\">require([\"plotly\"], function(Plotly) { window.PLOTLYENV=window.PLOTLYENV || {};window.PLOTLYENV.BASE_URL=\"https://plot.ly\";\n",
       "if (document.getElementById(\"c935a5f2-8167-4ecd-88a3-f1c3a3a9d414\")) {\n",
       "    Plotly.newPlot(\"c935a5f2-8167-4ecd-88a3-f1c3a3a9d414\", [{\"x\": [1001, 1002, 1003, 1004, 1005, 1006, 1007, 1008, 1009, 1010], \"y\": [3.0, 4.0, 0.0, 36.0, 20.0, 65.0, 62.0, 18.0, 27.0, 18.0], \"type\": \"scatter\", \"uid\": \"bb9a6f51-12e6-42c2-956d-240f5e3db536\"}], {}, {\"showLink\": false, \"linkText\": \"Export to plot.ly\", \"plotlyServerURL\": \"https://plot.ly\"}); \n",
       "}\n",
       "});</script><script type=\"text/javascript\">window.addEventListener(\"resize\", function(){if (document.getElementById(\"c935a5f2-8167-4ecd-88a3-f1c3a3a9d414\")) {window._Plotly.Plots.resize(document.getElementById(\"c935a5f2-8167-4ecd-88a3-f1c3a3a9d414\"));};})</script>"
      ],
      "text/vnd.plotly.v1+html": [
       "<div id=\"c935a5f2-8167-4ecd-88a3-f1c3a3a9d414\" style=\"height: 525px; width: 100%;\" class=\"plotly-graph-div\"></div><script type=\"text/javascript\">require([\"plotly\"], function(Plotly) { window.PLOTLYENV=window.PLOTLYENV || {};window.PLOTLYENV.BASE_URL=\"https://plot.ly\";\n",
       "if (document.getElementById(\"c935a5f2-8167-4ecd-88a3-f1c3a3a9d414\")) {\n",
       "    Plotly.newPlot(\"c935a5f2-8167-4ecd-88a3-f1c3a3a9d414\", [{\"x\": [1001, 1002, 1003, 1004, 1005, 1006, 1007, 1008, 1009, 1010], \"y\": [3.0, 4.0, 0.0, 36.0, 20.0, 65.0, 62.0, 18.0, 27.0, 18.0], \"type\": \"scatter\", \"uid\": \"bb9a6f51-12e6-42c2-956d-240f5e3db536\"}], {}, {\"showLink\": false, \"linkText\": \"Export to plot.ly\", \"plotlyServerURL\": \"https://plot.ly\"}); \n",
       "}\n",
       "});</script><script type=\"text/javascript\">window.addEventListener(\"resize\", function(){if (document.getElementById(\"c935a5f2-8167-4ecd-88a3-f1c3a3a9d414\")) {window._Plotly.Plots.resize(document.getElementById(\"c935a5f2-8167-4ecd-88a3-f1c3a3a9d414\"));};})</script>"
      ]
     },
     "metadata": {},
     "output_type": "display_data"
    },
    {
     "data": {
      "application/vnd.plotly.v1+json": {
       "config": {
        "linkText": "Export to plot.ly",
        "plotlyServerURL": "https://plot.ly",
        "showLink": false
       },
       "data": [
        {
         "type": "scatter",
         "uid": "a27ecb14-67c2-4981-a12d-fde8fcfa0602",
         "x": [
          1001,
          1002,
          1003,
          1004,
          1005,
          1006,
          1007,
          1008,
          1009,
          1010
         ],
         "y": [
          3,
          4,
          0,
          36,
          20,
          65,
          62,
          18,
          27,
          18
         ]
        }
       ],
       "layout": {}
      },
      "text/html": [
       "<div id=\"4fe1786d-bf15-4487-8340-035df8095b43\" style=\"height: 525px; width: 100%;\" class=\"plotly-graph-div\"></div><script type=\"text/javascript\">require([\"plotly\"], function(Plotly) { window.PLOTLYENV=window.PLOTLYENV || {};window.PLOTLYENV.BASE_URL=\"https://plot.ly\";\n",
       "if (document.getElementById(\"4fe1786d-bf15-4487-8340-035df8095b43\")) {\n",
       "    Plotly.newPlot(\"4fe1786d-bf15-4487-8340-035df8095b43\", [{\"x\": [1001, 1002, 1003, 1004, 1005, 1006, 1007, 1008, 1009, 1010], \"y\": [3.0, 4.0, 0.0, 36.0, 20.0, 65.0, 62.0, 18.0, 27.0, 18.0], \"type\": \"scatter\", \"uid\": \"110dec49-b35a-42d2-ba50-c62101cc982e\"}], {}, {\"showLink\": false, \"linkText\": \"Export to plot.ly\", \"plotlyServerURL\": \"https://plot.ly\"}); \n",
       "}\n",
       "});</script><script type=\"text/javascript\">window.addEventListener(\"resize\", function(){if (document.getElementById(\"4fe1786d-bf15-4487-8340-035df8095b43\")) {window._Plotly.Plots.resize(document.getElementById(\"4fe1786d-bf15-4487-8340-035df8095b43\"));};})</script>"
      ],
      "text/vnd.plotly.v1+html": [
       "<div id=\"4fe1786d-bf15-4487-8340-035df8095b43\" style=\"height: 525px; width: 100%;\" class=\"plotly-graph-div\"></div><script type=\"text/javascript\">require([\"plotly\"], function(Plotly) { window.PLOTLYENV=window.PLOTLYENV || {};window.PLOTLYENV.BASE_URL=\"https://plot.ly\";\n",
       "if (document.getElementById(\"4fe1786d-bf15-4487-8340-035df8095b43\")) {\n",
       "    Plotly.newPlot(\"4fe1786d-bf15-4487-8340-035df8095b43\", [{\"x\": [1001, 1002, 1003, 1004, 1005, 1006, 1007, 1008, 1009, 1010], \"y\": [3.0, 4.0, 0.0, 36.0, 20.0, 65.0, 62.0, 18.0, 27.0, 18.0], \"type\": \"scatter\", \"uid\": \"110dec49-b35a-42d2-ba50-c62101cc982e\"}], {}, {\"showLink\": false, \"linkText\": \"Export to plot.ly\", \"plotlyServerURL\": \"https://plot.ly\"}); \n",
       "}\n",
       "});</script><script type=\"text/javascript\">window.addEventListener(\"resize\", function(){if (document.getElementById(\"4fe1786d-bf15-4487-8340-035df8095b43\")) {window._Plotly.Plots.resize(document.getElementById(\"4fe1786d-bf15-4487-8340-035df8095b43\"));};})</script>"
      ]
     },
     "metadata": {},
     "output_type": "display_data"
    },
    {
     "data": {
      "application/vnd.plotly.v1+json": {
       "config": {
        "linkText": "Export to plot.ly",
        "plotlyServerURL": "https://plot.ly",
        "showLink": false
       },
       "data": [
        {
         "type": "scatter",
         "uid": "d103f70d-31fb-4554-b044-398516d91048",
         "x": [
          1001,
          1002,
          1003,
          1004,
          1005,
          1006,
          1007,
          1008,
          1009,
          1010
         ],
         "y": [
          18.8,
          18.8,
          22.3,
          15.4,
          15.4,
          15.4,
          15.4,
          null,
          16.5,
          null
         ]
        }
       ],
       "layout": {}
      },
      "text/html": [
       "<div id=\"7d83d3b2-29fa-4f9e-92f0-c9b969d8c1fd\" style=\"height: 525px; width: 100%;\" class=\"plotly-graph-div\"></div><script type=\"text/javascript\">require([\"plotly\"], function(Plotly) { window.PLOTLYENV=window.PLOTLYENV || {};window.PLOTLYENV.BASE_URL=\"https://plot.ly\";\n",
       "if (document.getElementById(\"7d83d3b2-29fa-4f9e-92f0-c9b969d8c1fd\")) {\n",
       "    Plotly.newPlot(\"7d83d3b2-29fa-4f9e-92f0-c9b969d8c1fd\", [{\"x\": [1001, 1002, 1003, 1004, 1005, 1006, 1007, 1008, 1009, 1010], \"y\": [18.8, 18.8, 22.3, 15.4, 15.4, 15.4, 15.4, null, 16.5, null], \"type\": \"scatter\", \"uid\": \"f9a33cbb-7c46-4ef9-8497-e988acb3c91d\"}], {}, {\"showLink\": false, \"linkText\": \"Export to plot.ly\", \"plotlyServerURL\": \"https://plot.ly\"}); \n",
       "}\n",
       "});</script><script type=\"text/javascript\">window.addEventListener(\"resize\", function(){if (document.getElementById(\"7d83d3b2-29fa-4f9e-92f0-c9b969d8c1fd\")) {window._Plotly.Plots.resize(document.getElementById(\"7d83d3b2-29fa-4f9e-92f0-c9b969d8c1fd\"));};})</script>"
      ],
      "text/vnd.plotly.v1+html": [
       "<div id=\"7d83d3b2-29fa-4f9e-92f0-c9b969d8c1fd\" style=\"height: 525px; width: 100%;\" class=\"plotly-graph-div\"></div><script type=\"text/javascript\">require([\"plotly\"], function(Plotly) { window.PLOTLYENV=window.PLOTLYENV || {};window.PLOTLYENV.BASE_URL=\"https://plot.ly\";\n",
       "if (document.getElementById(\"7d83d3b2-29fa-4f9e-92f0-c9b969d8c1fd\")) {\n",
       "    Plotly.newPlot(\"7d83d3b2-29fa-4f9e-92f0-c9b969d8c1fd\", [{\"x\": [1001, 1002, 1003, 1004, 1005, 1006, 1007, 1008, 1009, 1010], \"y\": [18.8, 18.8, 22.3, 15.4, 15.4, 15.4, 15.4, null, 16.5, null], \"type\": \"scatter\", \"uid\": \"f9a33cbb-7c46-4ef9-8497-e988acb3c91d\"}], {}, {\"showLink\": false, \"linkText\": \"Export to plot.ly\", \"plotlyServerURL\": \"https://plot.ly\"}); \n",
       "}\n",
       "});</script><script type=\"text/javascript\">window.addEventListener(\"resize\", function(){if (document.getElementById(\"7d83d3b2-29fa-4f9e-92f0-c9b969d8c1fd\")) {window._Plotly.Plots.resize(document.getElementById(\"7d83d3b2-29fa-4f9e-92f0-c9b969d8c1fd\"));};})</script>"
      ]
     },
     "metadata": {},
     "output_type": "display_data"
    },
    {
     "data": {
      "application/vnd.plotly.v1+json": {
       "config": {
        "linkText": "Export to plot.ly",
        "plotlyServerURL": "https://plot.ly",
        "showLink": false
       },
       "data": [
        {
         "type": "scatter",
         "uid": "dd4ab662-bca5-4da3-8e29-f09921152236",
         "x": [
          1001,
          1002,
          1003,
          1004,
          1005,
          1006,
          1007,
          1008,
          1009,
          1010
         ],
         "y": [
          0.17,
          0.07,
          0.01,
          1.22,
          1.26,
          1.65,
          1.3,
          0.27,
          1.1,
          0.83
         ]
        }
       ],
       "layout": {}
      },
      "text/html": [
       "<div id=\"ed03eedb-b0f4-4477-acb0-5c3f5eb37d16\" style=\"height: 525px; width: 100%;\" class=\"plotly-graph-div\"></div><script type=\"text/javascript\">require([\"plotly\"], function(Plotly) { window.PLOTLYENV=window.PLOTLYENV || {};window.PLOTLYENV.BASE_URL=\"https://plot.ly\";\n",
       "if (document.getElementById(\"ed03eedb-b0f4-4477-acb0-5c3f5eb37d16\")) {\n",
       "    Plotly.newPlot(\"ed03eedb-b0f4-4477-acb0-5c3f5eb37d16\", [{\"x\": [1001, 1002, 1003, 1004, 1005, 1006, 1007, 1008, 1009, 1010], \"y\": [0.17, 0.07, 0.01, 1.22, 1.26, 1.65, 1.3, 0.27, 1.1, 0.83], \"type\": \"scatter\", \"uid\": \"9a782513-8ba9-4e90-8a31-bfa71d9a5f46\"}], {}, {\"showLink\": false, \"linkText\": \"Export to plot.ly\", \"plotlyServerURL\": \"https://plot.ly\"}); \n",
       "}\n",
       "});</script><script type=\"text/javascript\">window.addEventListener(\"resize\", function(){if (document.getElementById(\"ed03eedb-b0f4-4477-acb0-5c3f5eb37d16\")) {window._Plotly.Plots.resize(document.getElementById(\"ed03eedb-b0f4-4477-acb0-5c3f5eb37d16\"));};})</script>"
      ],
      "text/vnd.plotly.v1+html": [
       "<div id=\"ed03eedb-b0f4-4477-acb0-5c3f5eb37d16\" style=\"height: 525px; width: 100%;\" class=\"plotly-graph-div\"></div><script type=\"text/javascript\">require([\"plotly\"], function(Plotly) { window.PLOTLYENV=window.PLOTLYENV || {};window.PLOTLYENV.BASE_URL=\"https://plot.ly\";\n",
       "if (document.getElementById(\"ed03eedb-b0f4-4477-acb0-5c3f5eb37d16\")) {\n",
       "    Plotly.newPlot(\"ed03eedb-b0f4-4477-acb0-5c3f5eb37d16\", [{\"x\": [1001, 1002, 1003, 1004, 1005, 1006, 1007, 1008, 1009, 1010], \"y\": [0.17, 0.07, 0.01, 1.22, 1.26, 1.65, 1.3, 0.27, 1.1, 0.83], \"type\": \"scatter\", \"uid\": \"9a782513-8ba9-4e90-8a31-bfa71d9a5f46\"}], {}, {\"showLink\": false, \"linkText\": \"Export to plot.ly\", \"plotlyServerURL\": \"https://plot.ly\"}); \n",
       "}\n",
       "});</script><script type=\"text/javascript\">window.addEventListener(\"resize\", function(){if (document.getElementById(\"ed03eedb-b0f4-4477-acb0-5c3f5eb37d16\")) {window._Plotly.Plots.resize(document.getElementById(\"ed03eedb-b0f4-4477-acb0-5c3f5eb37d16\"));};})</script>"
      ]
     },
     "metadata": {},
     "output_type": "display_data"
    },
    {
     "data": {
      "application/vnd.plotly.v1+json": {
       "config": {
        "linkText": "Export to plot.ly",
        "plotlyServerURL": "https://plot.ly",
        "showLink": false
       },
       "data": [
        {
         "type": "scatter",
         "uid": "075641c3-5d3a-44f6-8e9b-b22577dd6453",
         "x": [
          1001,
          1002,
          1003,
          1004,
          1005,
          1006,
          1007,
          1008,
          1009,
          1010
         ],
         "y": [
          2499,
          2468,
          3069,
          721,
          1080,
          592,
          820,
          1054,
          1242,
          985
         ]
        }
       ],
       "layout": {}
      },
      "text/html": [
       "<div id=\"fc2a95c3-fbba-4ea3-9cfb-35d2477269af\" style=\"height: 525px; width: 100%;\" class=\"plotly-graph-div\"></div><script type=\"text/javascript\">require([\"plotly\"], function(Plotly) { window.PLOTLYENV=window.PLOTLYENV || {};window.PLOTLYENV.BASE_URL=\"https://plot.ly\";\n",
       "if (document.getElementById(\"fc2a95c3-fbba-4ea3-9cfb-35d2477269af\")) {\n",
       "    Plotly.newPlot(\"fc2a95c3-fbba-4ea3-9cfb-35d2477269af\", [{\"x\": [1001, 1002, 1003, 1004, 1005, 1006, 1007, 1008, 1009, 1010], \"y\": [2499.0, 2468.0, 3069.0, 721.0, 1080.0, 592.0, 820.0, 1054.0, 1242.0, 985.0], \"type\": \"scatter\", \"uid\": \"157931c7-a745-41f4-9400-550941f1cbb9\"}], {}, {\"showLink\": false, \"linkText\": \"Export to plot.ly\", \"plotlyServerURL\": \"https://plot.ly\"}); \n",
       "}\n",
       "});</script><script type=\"text/javascript\">window.addEventListener(\"resize\", function(){if (document.getElementById(\"fc2a95c3-fbba-4ea3-9cfb-35d2477269af\")) {window._Plotly.Plots.resize(document.getElementById(\"fc2a95c3-fbba-4ea3-9cfb-35d2477269af\"));};})</script>"
      ],
      "text/vnd.plotly.v1+html": [
       "<div id=\"fc2a95c3-fbba-4ea3-9cfb-35d2477269af\" style=\"height: 525px; width: 100%;\" class=\"plotly-graph-div\"></div><script type=\"text/javascript\">require([\"plotly\"], function(Plotly) { window.PLOTLYENV=window.PLOTLYENV || {};window.PLOTLYENV.BASE_URL=\"https://plot.ly\";\n",
       "if (document.getElementById(\"fc2a95c3-fbba-4ea3-9cfb-35d2477269af\")) {\n",
       "    Plotly.newPlot(\"fc2a95c3-fbba-4ea3-9cfb-35d2477269af\", [{\"x\": [1001, 1002, 1003, 1004, 1005, 1006, 1007, 1008, 1009, 1010], \"y\": [2499.0, 2468.0, 3069.0, 721.0, 1080.0, 592.0, 820.0, 1054.0, 1242.0, 985.0], \"type\": \"scatter\", \"uid\": \"157931c7-a745-41f4-9400-550941f1cbb9\"}], {}, {\"showLink\": false, \"linkText\": \"Export to plot.ly\", \"plotlyServerURL\": \"https://plot.ly\"}); \n",
       "}\n",
       "});</script><script type=\"text/javascript\">window.addEventListener(\"resize\", function(){if (document.getElementById(\"fc2a95c3-fbba-4ea3-9cfb-35d2477269af\")) {window._Plotly.Plots.resize(document.getElementById(\"fc2a95c3-fbba-4ea3-9cfb-35d2477269af\"));};})</script>"
      ]
     },
     "metadata": {},
     "output_type": "display_data"
    },
    {
     "data": {
      "application/vnd.plotly.v1+json": {
       "config": {
        "linkText": "Export to plot.ly",
        "plotlyServerURL": "https://plot.ly",
        "showLink": false
       },
       "data": [
        {
         "type": "scatter",
         "uid": "6f84ebfd-3306-4936-a41d-f13f3f571636",
         "x": [
          1001,
          1002,
          1003,
          1004,
          1005,
          1006,
          1007,
          1008,
          1009,
          1010
         ],
         "y": [
          684,
          683,
          840,
          198,
          292,
          174,
          241,
          271,
          330,
          233
         ]
        }
       ],
       "layout": {}
      },
      "text/html": [
       "<div id=\"9a932730-68e4-4c55-949e-20b2f32dba56\" style=\"height: 525px; width: 100%;\" class=\"plotly-graph-div\"></div><script type=\"text/javascript\">require([\"plotly\"], function(Plotly) { window.PLOTLYENV=window.PLOTLYENV || {};window.PLOTLYENV.BASE_URL=\"https://plot.ly\";\n",
       "if (document.getElementById(\"9a932730-68e4-4c55-949e-20b2f32dba56\")) {\n",
       "    Plotly.newPlot(\"9a932730-68e4-4c55-949e-20b2f32dba56\", [{\"x\": [1001, 1002, 1003, 1004, 1005, 1006, 1007, 1008, 1009, 1010], \"y\": [684.0, 683.0, 840.0, 198.0, 292.0, 174.0, 241.0, 271.0, 330.0, 233.0], \"type\": \"scatter\", \"uid\": \"b8f97769-6db2-4de2-903c-61ec4e43d952\"}], {}, {\"showLink\": false, \"linkText\": \"Export to plot.ly\", \"plotlyServerURL\": \"https://plot.ly\"}); \n",
       "}\n",
       "});</script><script type=\"text/javascript\">window.addEventListener(\"resize\", function(){if (document.getElementById(\"9a932730-68e4-4c55-949e-20b2f32dba56\")) {window._Plotly.Plots.resize(document.getElementById(\"9a932730-68e4-4c55-949e-20b2f32dba56\"));};})</script>"
      ],
      "text/vnd.plotly.v1+html": [
       "<div id=\"9a932730-68e4-4c55-949e-20b2f32dba56\" style=\"height: 525px; width: 100%;\" class=\"plotly-graph-div\"></div><script type=\"text/javascript\">require([\"plotly\"], function(Plotly) { window.PLOTLYENV=window.PLOTLYENV || {};window.PLOTLYENV.BASE_URL=\"https://plot.ly\";\n",
       "if (document.getElementById(\"9a932730-68e4-4c55-949e-20b2f32dba56\")) {\n",
       "    Plotly.newPlot(\"9a932730-68e4-4c55-949e-20b2f32dba56\", [{\"x\": [1001, 1002, 1003, 1004, 1005, 1006, 1007, 1008, 1009, 1010], \"y\": [684.0, 683.0, 840.0, 198.0, 292.0, 174.0, 241.0, 271.0, 330.0, 233.0], \"type\": \"scatter\", \"uid\": \"b8f97769-6db2-4de2-903c-61ec4e43d952\"}], {}, {\"showLink\": false, \"linkText\": \"Export to plot.ly\", \"plotlyServerURL\": \"https://plot.ly\"}); \n",
       "}\n",
       "});</script><script type=\"text/javascript\">window.addEventListener(\"resize\", function(){if (document.getElementById(\"9a932730-68e4-4c55-949e-20b2f32dba56\")) {window._Plotly.Plots.resize(document.getElementById(\"9a932730-68e4-4c55-949e-20b2f32dba56\"));};})</script>"
      ]
     },
     "metadata": {},
     "output_type": "display_data"
    },
    {
     "data": {
      "application/vnd.plotly.v1+json": {
       "config": {
        "linkText": "Export to plot.ly",
        "plotlyServerURL": "https://plot.ly",
        "showLink": false
       },
       "data": [
        {
         "type": "scatter",
         "uid": "ae76ae36-e1ca-4ce2-958d-0ab23688f4dd",
         "x": [
          1001,
          1002,
          1003,
          1004,
          1005,
          1006,
          1007,
          1008,
          1009,
          1010
         ],
         "y": [
          671,
          671,
          824,
          192,
          286,
          173,
          240,
          262,
          330,
          220
         ]
        }
       ],
       "layout": {}
      },
      "text/html": [
       "<div id=\"b07a7d55-4a86-49ca-8da3-90157eb36570\" style=\"height: 525px; width: 100%;\" class=\"plotly-graph-div\"></div><script type=\"text/javascript\">require([\"plotly\"], function(Plotly) { window.PLOTLYENV=window.PLOTLYENV || {};window.PLOTLYENV.BASE_URL=\"https://plot.ly\";\n",
       "if (document.getElementById(\"b07a7d55-4a86-49ca-8da3-90157eb36570\")) {\n",
       "    Plotly.newPlot(\"b07a7d55-4a86-49ca-8da3-90157eb36570\", [{\"x\": [1001, 1002, 1003, 1004, 1005, 1006, 1007, 1008, 1009, 1010], \"y\": [671.0, 671.0, 824.0, 192.0, 286.0, 173.0, 240.0, 262.0, 330.0, 220.0], \"type\": \"scatter\", \"uid\": \"56525b7b-a41a-4758-8a0b-72b2c7ea3296\"}], {}, {\"showLink\": false, \"linkText\": \"Export to plot.ly\", \"plotlyServerURL\": \"https://plot.ly\"}); \n",
       "}\n",
       "});</script><script type=\"text/javascript\">window.addEventListener(\"resize\", function(){if (document.getElementById(\"b07a7d55-4a86-49ca-8da3-90157eb36570\")) {window._Plotly.Plots.resize(document.getElementById(\"b07a7d55-4a86-49ca-8da3-90157eb36570\"));};})</script>"
      ],
      "text/vnd.plotly.v1+html": [
       "<div id=\"b07a7d55-4a86-49ca-8da3-90157eb36570\" style=\"height: 525px; width: 100%;\" class=\"plotly-graph-div\"></div><script type=\"text/javascript\">require([\"plotly\"], function(Plotly) { window.PLOTLYENV=window.PLOTLYENV || {};window.PLOTLYENV.BASE_URL=\"https://plot.ly\";\n",
       "if (document.getElementById(\"b07a7d55-4a86-49ca-8da3-90157eb36570\")) {\n",
       "    Plotly.newPlot(\"b07a7d55-4a86-49ca-8da3-90157eb36570\", [{\"x\": [1001, 1002, 1003, 1004, 1005, 1006, 1007, 1008, 1009, 1010], \"y\": [671.0, 671.0, 824.0, 192.0, 286.0, 173.0, 240.0, 262.0, 330.0, 220.0], \"type\": \"scatter\", \"uid\": \"56525b7b-a41a-4758-8a0b-72b2c7ea3296\"}], {}, {\"showLink\": false, \"linkText\": \"Export to plot.ly\", \"plotlyServerURL\": \"https://plot.ly\"}); \n",
       "}\n",
       "});</script><script type=\"text/javascript\">window.addEventListener(\"resize\", function(){if (document.getElementById(\"b07a7d55-4a86-49ca-8da3-90157eb36570\")) {window._Plotly.Plots.resize(document.getElementById(\"b07a7d55-4a86-49ca-8da3-90157eb36570\"));};})</script>"
      ]
     },
     "metadata": {},
     "output_type": "display_data"
    },
    {
     "data": {
      "application/vnd.plotly.v1+json": {
       "config": {
        "linkText": "Export to plot.ly",
        "plotlyServerURL": "https://plot.ly",
        "showLink": false
       },
       "data": [
        {
         "type": "scatter",
         "uid": "7be66479-3afd-4e19-8fd1-547bde3aeb2b",
         "x": [
          1001,
          1002,
          1003,
          1004,
          1005,
          1006,
          1007,
          1008,
          1009,
          1010
         ],
         "y": [
          0,
          1,
          0,
          0,
          0,
          0,
          0,
          null,
          0,
          null
         ]
        }
       ],
       "layout": {}
      },
      "text/html": [
       "<div id=\"8f938d0b-4185-4268-9933-89e78152c619\" style=\"height: 525px; width: 100%;\" class=\"plotly-graph-div\"></div><script type=\"text/javascript\">require([\"plotly\"], function(Plotly) { window.PLOTLYENV=window.PLOTLYENV || {};window.PLOTLYENV.BASE_URL=\"https://plot.ly\";\n",
       "if (document.getElementById(\"8f938d0b-4185-4268-9933-89e78152c619\")) {\n",
       "    Plotly.newPlot(\"8f938d0b-4185-4268-9933-89e78152c619\", [{\"x\": [1001, 1002, 1003, 1004, 1005, 1006, 1007, 1008, 1009, 1010], \"y\": [0.0, 1.0, 0.0, 0.0, 0.0, 0.0, 0.0, null, 0.0, null], \"type\": \"scatter\", \"uid\": \"168fec06-6691-4e1d-bad6-5ea3c71042d7\"}], {}, {\"showLink\": false, \"linkText\": \"Export to plot.ly\", \"plotlyServerURL\": \"https://plot.ly\"}); \n",
       "}\n",
       "});</script><script type=\"text/javascript\">window.addEventListener(\"resize\", function(){if (document.getElementById(\"8f938d0b-4185-4268-9933-89e78152c619\")) {window._Plotly.Plots.resize(document.getElementById(\"8f938d0b-4185-4268-9933-89e78152c619\"));};})</script>"
      ],
      "text/vnd.plotly.v1+html": [
       "<div id=\"8f938d0b-4185-4268-9933-89e78152c619\" style=\"height: 525px; width: 100%;\" class=\"plotly-graph-div\"></div><script type=\"text/javascript\">require([\"plotly\"], function(Plotly) { window.PLOTLYENV=window.PLOTLYENV || {};window.PLOTLYENV.BASE_URL=\"https://plot.ly\";\n",
       "if (document.getElementById(\"8f938d0b-4185-4268-9933-89e78152c619\")) {\n",
       "    Plotly.newPlot(\"8f938d0b-4185-4268-9933-89e78152c619\", [{\"x\": [1001, 1002, 1003, 1004, 1005, 1006, 1007, 1008, 1009, 1010], \"y\": [0.0, 1.0, 0.0, 0.0, 0.0, 0.0, 0.0, null, 0.0, null], \"type\": \"scatter\", \"uid\": \"168fec06-6691-4e1d-bad6-5ea3c71042d7\"}], {}, {\"showLink\": false, \"linkText\": \"Export to plot.ly\", \"plotlyServerURL\": \"https://plot.ly\"}); \n",
       "}\n",
       "});</script><script type=\"text/javascript\">window.addEventListener(\"resize\", function(){if (document.getElementById(\"8f938d0b-4185-4268-9933-89e78152c619\")) {window._Plotly.Plots.resize(document.getElementById(\"8f938d0b-4185-4268-9933-89e78152c619\"));};})</script>"
      ]
     },
     "metadata": {},
     "output_type": "display_data"
    },
    {
     "data": {
      "application/vnd.plotly.v1+json": {
       "config": {
        "linkText": "Export to plot.ly",
        "plotlyServerURL": "https://plot.ly",
        "showLink": false
       },
       "data": [
        {
         "type": "scatter",
         "uid": "781af8cd-d700-4ffe-ad18-a53b67231386",
         "x": [
          1001,
          1002,
          1003,
          1004,
          1005,
          1006,
          1007,
          1008,
          1009,
          1010
         ],
         "y": [
          158,
          135,
          193,
          74,
          76,
          9,
          12,
          null,
          85,
          null
         ]
        }
       ],
       "layout": {}
      },
      "text/html": [
       "<div id=\"3c7b7406-9abf-4ae9-8c6d-0725071213c6\" style=\"height: 525px; width: 100%;\" class=\"plotly-graph-div\"></div><script type=\"text/javascript\">require([\"plotly\"], function(Plotly) { window.PLOTLYENV=window.PLOTLYENV || {};window.PLOTLYENV.BASE_URL=\"https://plot.ly\";\n",
       "if (document.getElementById(\"3c7b7406-9abf-4ae9-8c6d-0725071213c6\")) {\n",
       "    Plotly.newPlot(\"3c7b7406-9abf-4ae9-8c6d-0725071213c6\", [{\"x\": [1001, 1002, 1003, 1004, 1005, 1006, 1007, 1008, 1009, 1010], \"y\": [158.0, 135.0, 193.0, 74.0, 76.0, 9.0, 12.0, null, 85.0, null], \"type\": \"scatter\", \"uid\": \"552d2544-9e29-4cdc-bc47-f78585e188d1\"}], {}, {\"showLink\": false, \"linkText\": \"Export to plot.ly\", \"plotlyServerURL\": \"https://plot.ly\"}); \n",
       "}\n",
       "});</script><script type=\"text/javascript\">window.addEventListener(\"resize\", function(){if (document.getElementById(\"3c7b7406-9abf-4ae9-8c6d-0725071213c6\")) {window._Plotly.Plots.resize(document.getElementById(\"3c7b7406-9abf-4ae9-8c6d-0725071213c6\"));};})</script>"
      ],
      "text/vnd.plotly.v1+html": [
       "<div id=\"3c7b7406-9abf-4ae9-8c6d-0725071213c6\" style=\"height: 525px; width: 100%;\" class=\"plotly-graph-div\"></div><script type=\"text/javascript\">require([\"plotly\"], function(Plotly) { window.PLOTLYENV=window.PLOTLYENV || {};window.PLOTLYENV.BASE_URL=\"https://plot.ly\";\n",
       "if (document.getElementById(\"3c7b7406-9abf-4ae9-8c6d-0725071213c6\")) {\n",
       "    Plotly.newPlot(\"3c7b7406-9abf-4ae9-8c6d-0725071213c6\", [{\"x\": [1001, 1002, 1003, 1004, 1005, 1006, 1007, 1008, 1009, 1010], \"y\": [158.0, 135.0, 193.0, 74.0, 76.0, 9.0, 12.0, null, 85.0, null], \"type\": \"scatter\", \"uid\": \"552d2544-9e29-4cdc-bc47-f78585e188d1\"}], {}, {\"showLink\": false, \"linkText\": \"Export to plot.ly\", \"plotlyServerURL\": \"https://plot.ly\"}); \n",
       "}\n",
       "});</script><script type=\"text/javascript\">window.addEventListener(\"resize\", function(){if (document.getElementById(\"3c7b7406-9abf-4ae9-8c6d-0725071213c6\")) {window._Plotly.Plots.resize(document.getElementById(\"3c7b7406-9abf-4ae9-8c6d-0725071213c6\"));};})</script>"
      ]
     },
     "metadata": {},
     "output_type": "display_data"
    },
    {
     "data": {
      "application/vnd.plotly.v1+json": {
       "config": {
        "linkText": "Export to plot.ly",
        "plotlyServerURL": "https://plot.ly",
        "showLink": false
       },
       "data": [
        {
         "type": "scatter",
         "uid": "5fc5642d-01b1-48ef-8a0a-3e17f3e480e8",
         "x": [
          1001,
          1002,
          1003,
          1004,
          1005,
          1006,
          1007,
          1008,
          1009,
          1010
         ],
         "y": [
          0,
          6,
          0,
          0,
          0,
          0,
          0,
          null,
          0,
          null
         ]
        }
       ],
       "layout": {}
      },
      "text/html": [
       "<div id=\"298c4298-c13c-4ef4-8d89-a4c6b1b8e126\" style=\"height: 525px; width: 100%;\" class=\"plotly-graph-div\"></div><script type=\"text/javascript\">require([\"plotly\"], function(Plotly) { window.PLOTLYENV=window.PLOTLYENV || {};window.PLOTLYENV.BASE_URL=\"https://plot.ly\";\n",
       "if (document.getElementById(\"298c4298-c13c-4ef4-8d89-a4c6b1b8e126\")) {\n",
       "    Plotly.newPlot(\"298c4298-c13c-4ef4-8d89-a4c6b1b8e126\", [{\"x\": [1001, 1002, 1003, 1004, 1005, 1006, 1007, 1008, 1009, 1010], \"y\": [0.0, 6.0, 0.0, 0.0, 0.0, 0.0, 0.0, null, 0.0, null], \"type\": \"scatter\", \"uid\": \"d30ee280-3d1e-4f6b-ad2c-4545e4f91811\"}], {}, {\"showLink\": false, \"linkText\": \"Export to plot.ly\", \"plotlyServerURL\": \"https://plot.ly\"}); \n",
       "}\n",
       "});</script><script type=\"text/javascript\">window.addEventListener(\"resize\", function(){if (document.getElementById(\"298c4298-c13c-4ef4-8d89-a4c6b1b8e126\")) {window._Plotly.Plots.resize(document.getElementById(\"298c4298-c13c-4ef4-8d89-a4c6b1b8e126\"));};})</script>"
      ],
      "text/vnd.plotly.v1+html": [
       "<div id=\"298c4298-c13c-4ef4-8d89-a4c6b1b8e126\" style=\"height: 525px; width: 100%;\" class=\"plotly-graph-div\"></div><script type=\"text/javascript\">require([\"plotly\"], function(Plotly) { window.PLOTLYENV=window.PLOTLYENV || {};window.PLOTLYENV.BASE_URL=\"https://plot.ly\";\n",
       "if (document.getElementById(\"298c4298-c13c-4ef4-8d89-a4c6b1b8e126\")) {\n",
       "    Plotly.newPlot(\"298c4298-c13c-4ef4-8d89-a4c6b1b8e126\", [{\"x\": [1001, 1002, 1003, 1004, 1005, 1006, 1007, 1008, 1009, 1010], \"y\": [0.0, 6.0, 0.0, 0.0, 0.0, 0.0, 0.0, null, 0.0, null], \"type\": \"scatter\", \"uid\": \"d30ee280-3d1e-4f6b-ad2c-4545e4f91811\"}], {}, {\"showLink\": false, \"linkText\": \"Export to plot.ly\", \"plotlyServerURL\": \"https://plot.ly\"}); \n",
       "}\n",
       "});</script><script type=\"text/javascript\">window.addEventListener(\"resize\", function(){if (document.getElementById(\"298c4298-c13c-4ef4-8d89-a4c6b1b8e126\")) {window._Plotly.Plots.resize(document.getElementById(\"298c4298-c13c-4ef4-8d89-a4c6b1b8e126\"));};})</script>"
      ]
     },
     "metadata": {},
     "output_type": "display_data"
    },
    {
     "data": {
      "application/vnd.plotly.v1+json": {
       "config": {
        "linkText": "Export to plot.ly",
        "plotlyServerURL": "https://plot.ly",
        "showLink": false
       },
       "data": [
        {
         "type": "scatter",
         "uid": "df7cb29d-8b47-4c7b-898e-f10dae7ea4df",
         "x": [
          1001,
          1002,
          1003,
          1004,
          1005,
          1006,
          1007,
          1008,
          1009,
          1010
         ],
         "y": [
          0,
          0,
          0,
          0,
          0,
          0,
          0,
          null,
          0,
          null
         ]
        }
       ],
       "layout": {}
      },
      "text/html": [
       "<div id=\"edd2be61-75b0-4f81-9747-6ecde5061c4b\" style=\"height: 525px; width: 100%;\" class=\"plotly-graph-div\"></div><script type=\"text/javascript\">require([\"plotly\"], function(Plotly) { window.PLOTLYENV=window.PLOTLYENV || {};window.PLOTLYENV.BASE_URL=\"https://plot.ly\";\n",
       "if (document.getElementById(\"edd2be61-75b0-4f81-9747-6ecde5061c4b\")) {\n",
       "    Plotly.newPlot(\"edd2be61-75b0-4f81-9747-6ecde5061c4b\", [{\"x\": [1001, 1002, 1003, 1004, 1005, 1006, 1007, 1008, 1009, 1010], \"y\": [0.0, 0.0, 0.0, 0.0, 0.0, 0.0, 0.0, null, 0.0, null], \"type\": \"scatter\", \"uid\": \"7129e7b6-8dfb-4a3f-b21a-0be4808c14dd\"}], {}, {\"showLink\": false, \"linkText\": \"Export to plot.ly\", \"plotlyServerURL\": \"https://plot.ly\"}); \n",
       "}\n",
       "});</script><script type=\"text/javascript\">window.addEventListener(\"resize\", function(){if (document.getElementById(\"edd2be61-75b0-4f81-9747-6ecde5061c4b\")) {window._Plotly.Plots.resize(document.getElementById(\"edd2be61-75b0-4f81-9747-6ecde5061c4b\"));};})</script>"
      ],
      "text/vnd.plotly.v1+html": [
       "<div id=\"edd2be61-75b0-4f81-9747-6ecde5061c4b\" style=\"height: 525px; width: 100%;\" class=\"plotly-graph-div\"></div><script type=\"text/javascript\">require([\"plotly\"], function(Plotly) { window.PLOTLYENV=window.PLOTLYENV || {};window.PLOTLYENV.BASE_URL=\"https://plot.ly\";\n",
       "if (document.getElementById(\"edd2be61-75b0-4f81-9747-6ecde5061c4b\")) {\n",
       "    Plotly.newPlot(\"edd2be61-75b0-4f81-9747-6ecde5061c4b\", [{\"x\": [1001, 1002, 1003, 1004, 1005, 1006, 1007, 1008, 1009, 1010], \"y\": [0.0, 0.0, 0.0, 0.0, 0.0, 0.0, 0.0, null, 0.0, null], \"type\": \"scatter\", \"uid\": \"7129e7b6-8dfb-4a3f-b21a-0be4808c14dd\"}], {}, {\"showLink\": false, \"linkText\": \"Export to plot.ly\", \"plotlyServerURL\": \"https://plot.ly\"}); \n",
       "}\n",
       "});</script><script type=\"text/javascript\">window.addEventListener(\"resize\", function(){if (document.getElementById(\"edd2be61-75b0-4f81-9747-6ecde5061c4b\")) {window._Plotly.Plots.resize(document.getElementById(\"edd2be61-75b0-4f81-9747-6ecde5061c4b\"));};})</script>"
      ]
     },
     "metadata": {},
     "output_type": "display_data"
    },
    {
     "data": {
      "application/vnd.plotly.v1+json": {
       "config": {
        "linkText": "Export to plot.ly",
        "plotlyServerURL": "https://plot.ly",
        "showLink": false
       },
       "data": [
        {
         "type": "scatter",
         "uid": "a6695bcb-341f-4434-b788-fbef52766aee",
         "x": [
          1001,
          1002,
          1003,
          1004,
          1005,
          1006,
          1007,
          1008,
          1009,
          1010
         ],
         "y": [
          0,
          13,
          0,
          0,
          0,
          0,
          0,
          null,
          0,
          null
         ]
        }
       ],
       "layout": {}
      },
      "text/html": [
       "<div id=\"a15ee97d-7fb4-416e-8940-75b39b565ace\" style=\"height: 525px; width: 100%;\" class=\"plotly-graph-div\"></div><script type=\"text/javascript\">require([\"plotly\"], function(Plotly) { window.PLOTLYENV=window.PLOTLYENV || {};window.PLOTLYENV.BASE_URL=\"https://plot.ly\";\n",
       "if (document.getElementById(\"a15ee97d-7fb4-416e-8940-75b39b565ace\")) {\n",
       "    Plotly.newPlot(\"a15ee97d-7fb4-416e-8940-75b39b565ace\", [{\"x\": [1001, 1002, 1003, 1004, 1005, 1006, 1007, 1008, 1009, 1010], \"y\": [0.0, 13.0, 0.0, 0.0, 0.0, 0.0, 0.0, null, 0.0, null], \"type\": \"scatter\", \"uid\": \"4194179d-c473-456c-84d2-fc2319de4063\"}], {}, {\"showLink\": false, \"linkText\": \"Export to plot.ly\", \"plotlyServerURL\": \"https://plot.ly\"}); \n",
       "}\n",
       "});</script><script type=\"text/javascript\">window.addEventListener(\"resize\", function(){if (document.getElementById(\"a15ee97d-7fb4-416e-8940-75b39b565ace\")) {window._Plotly.Plots.resize(document.getElementById(\"a15ee97d-7fb4-416e-8940-75b39b565ace\"));};})</script>"
      ],
      "text/vnd.plotly.v1+html": [
       "<div id=\"a15ee97d-7fb4-416e-8940-75b39b565ace\" style=\"height: 525px; width: 100%;\" class=\"plotly-graph-div\"></div><script type=\"text/javascript\">require([\"plotly\"], function(Plotly) { window.PLOTLYENV=window.PLOTLYENV || {};window.PLOTLYENV.BASE_URL=\"https://plot.ly\";\n",
       "if (document.getElementById(\"a15ee97d-7fb4-416e-8940-75b39b565ace\")) {\n",
       "    Plotly.newPlot(\"a15ee97d-7fb4-416e-8940-75b39b565ace\", [{\"x\": [1001, 1002, 1003, 1004, 1005, 1006, 1007, 1008, 1009, 1010], \"y\": [0.0, 13.0, 0.0, 0.0, 0.0, 0.0, 0.0, null, 0.0, null], \"type\": \"scatter\", \"uid\": \"4194179d-c473-456c-84d2-fc2319de4063\"}], {}, {\"showLink\": false, \"linkText\": \"Export to plot.ly\", \"plotlyServerURL\": \"https://plot.ly\"}); \n",
       "}\n",
       "});</script><script type=\"text/javascript\">window.addEventListener(\"resize\", function(){if (document.getElementById(\"a15ee97d-7fb4-416e-8940-75b39b565ace\")) {window._Plotly.Plots.resize(document.getElementById(\"a15ee97d-7fb4-416e-8940-75b39b565ace\"));};})</script>"
      ]
     },
     "metadata": {},
     "output_type": "display_data"
    },
    {
     "data": {
      "application/vnd.plotly.v1+json": {
       "config": {
        "linkText": "Export to plot.ly",
        "plotlyServerURL": "https://plot.ly",
        "showLink": false
       },
       "data": [
        {
         "type": "scatter",
         "uid": "d76f50ca-1b7d-4769-a75d-9db2addf1f49",
         "x": [
          1001,
          1002,
          1003,
          1004,
          1005,
          1006,
          1007,
          1008,
          1009,
          1010
         ],
         "y": [
          2.32,
          1.37,
          2.8,
          0.25,
          0.26,
          0.24,
          0.21,
          null,
          0.71,
          null
         ]
        }
       ],
       "layout": {}
      },
      "text/html": [
       "<div id=\"d43b8eae-33a8-4248-9d8a-ef97c721c3f1\" style=\"height: 525px; width: 100%;\" class=\"plotly-graph-div\"></div><script type=\"text/javascript\">require([\"plotly\"], function(Plotly) { window.PLOTLYENV=window.PLOTLYENV || {};window.PLOTLYENV.BASE_URL=\"https://plot.ly\";\n",
       "if (document.getElementById(\"d43b8eae-33a8-4248-9d8a-ef97c721c3f1\")) {\n",
       "    Plotly.newPlot(\"d43b8eae-33a8-4248-9d8a-ef97c721c3f1\", [{\"x\": [1001, 1002, 1003, 1004, 1005, 1006, 1007, 1008, 1009, 1010], \"y\": [2.32, 1.37, 2.8, 0.25, 0.26, 0.24, 0.21, null, 0.71, null], \"type\": \"scatter\", \"uid\": \"4afb1abe-3a26-4e84-a467-89d474c6f239\"}], {}, {\"showLink\": false, \"linkText\": \"Export to plot.ly\", \"plotlyServerURL\": \"https://plot.ly\"}); \n",
       "}\n",
       "});</script><script type=\"text/javascript\">window.addEventListener(\"resize\", function(){if (document.getElementById(\"d43b8eae-33a8-4248-9d8a-ef97c721c3f1\")) {window._Plotly.Plots.resize(document.getElementById(\"d43b8eae-33a8-4248-9d8a-ef97c721c3f1\"));};})</script>"
      ],
      "text/vnd.plotly.v1+html": [
       "<div id=\"d43b8eae-33a8-4248-9d8a-ef97c721c3f1\" style=\"height: 525px; width: 100%;\" class=\"plotly-graph-div\"></div><script type=\"text/javascript\">require([\"plotly\"], function(Plotly) { window.PLOTLYENV=window.PLOTLYENV || {};window.PLOTLYENV.BASE_URL=\"https://plot.ly\";\n",
       "if (document.getElementById(\"d43b8eae-33a8-4248-9d8a-ef97c721c3f1\")) {\n",
       "    Plotly.newPlot(\"d43b8eae-33a8-4248-9d8a-ef97c721c3f1\", [{\"x\": [1001, 1002, 1003, 1004, 1005, 1006, 1007, 1008, 1009, 1010], \"y\": [2.32, 1.37, 2.8, 0.25, 0.26, 0.24, 0.21, null, 0.71, null], \"type\": \"scatter\", \"uid\": \"4afb1abe-3a26-4e84-a467-89d474c6f239\"}], {}, {\"showLink\": false, \"linkText\": \"Export to plot.ly\", \"plotlyServerURL\": \"https://plot.ly\"}); \n",
       "}\n",
       "});</script><script type=\"text/javascript\">window.addEventListener(\"resize\", function(){if (document.getElementById(\"d43b8eae-33a8-4248-9d8a-ef97c721c3f1\")) {window._Plotly.Plots.resize(document.getElementById(\"d43b8eae-33a8-4248-9d8a-ef97c721c3f1\"));};})</script>"
      ]
     },
     "metadata": {},
     "output_type": "display_data"
    },
    {
     "data": {
      "application/vnd.plotly.v1+json": {
       "config": {
        "linkText": "Export to plot.ly",
        "plotlyServerURL": "https://plot.ly",
        "showLink": false
       },
       "data": [
        {
         "type": "scatter",
         "uid": "5bdebc6d-95ea-460f-a456-c6b8fa79d6b2",
         "x": [
          1001,
          1002,
          1003,
          1004,
          1005,
          1006,
          1007,
          1008,
          1009,
          1010
         ],
         "y": [
          0,
          0,
          0,
          0.5,
          0.5,
          0.5,
          0.4,
          null,
          0.6,
          null
         ]
        }
       ],
       "layout": {}
      },
      "text/html": [
       "<div id=\"ec807a21-55f4-4202-9736-a108b578e836\" style=\"height: 525px; width: 100%;\" class=\"plotly-graph-div\"></div><script type=\"text/javascript\">require([\"plotly\"], function(Plotly) { window.PLOTLYENV=window.PLOTLYENV || {};window.PLOTLYENV.BASE_URL=\"https://plot.ly\";\n",
       "if (document.getElementById(\"ec807a21-55f4-4202-9736-a108b578e836\")) {\n",
       "    Plotly.newPlot(\"ec807a21-55f4-4202-9736-a108b578e836\", [{\"x\": [1001, 1002, 1003, 1004, 1005, 1006, 1007, 1008, 1009, 1010], \"y\": [0.0, 0.0, 0.0, 0.5, 0.5, 0.5, 0.4, null, 0.6, null], \"type\": \"scatter\", \"uid\": \"195f8fa6-f1f0-454f-b6e8-a2a148dbc358\"}], {}, {\"showLink\": false, \"linkText\": \"Export to plot.ly\", \"plotlyServerURL\": \"https://plot.ly\"}); \n",
       "}\n",
       "});</script><script type=\"text/javascript\">window.addEventListener(\"resize\", function(){if (document.getElementById(\"ec807a21-55f4-4202-9736-a108b578e836\")) {window._Plotly.Plots.resize(document.getElementById(\"ec807a21-55f4-4202-9736-a108b578e836\"));};})</script>"
      ],
      "text/vnd.plotly.v1+html": [
       "<div id=\"ec807a21-55f4-4202-9736-a108b578e836\" style=\"height: 525px; width: 100%;\" class=\"plotly-graph-div\"></div><script type=\"text/javascript\">require([\"plotly\"], function(Plotly) { window.PLOTLYENV=window.PLOTLYENV || {};window.PLOTLYENV.BASE_URL=\"https://plot.ly\";\n",
       "if (document.getElementById(\"ec807a21-55f4-4202-9736-a108b578e836\")) {\n",
       "    Plotly.newPlot(\"ec807a21-55f4-4202-9736-a108b578e836\", [{\"x\": [1001, 1002, 1003, 1004, 1005, 1006, 1007, 1008, 1009, 1010], \"y\": [0.0, 0.0, 0.0, 0.5, 0.5, 0.5, 0.4, null, 0.6, null], \"type\": \"scatter\", \"uid\": \"195f8fa6-f1f0-454f-b6e8-a2a148dbc358\"}], {}, {\"showLink\": false, \"linkText\": \"Export to plot.ly\", \"plotlyServerURL\": \"https://plot.ly\"}); \n",
       "}\n",
       "});</script><script type=\"text/javascript\">window.addEventListener(\"resize\", function(){if (document.getElementById(\"ec807a21-55f4-4202-9736-a108b578e836\")) {window._Plotly.Plots.resize(document.getElementById(\"ec807a21-55f4-4202-9736-a108b578e836\"));};})</script>"
      ]
     },
     "metadata": {},
     "output_type": "display_data"
    },
    {
     "data": {
      "application/vnd.plotly.v1+json": {
       "config": {
        "linkText": "Export to plot.ly",
        "plotlyServerURL": "https://plot.ly",
        "showLink": false
       },
       "data": [
        {
         "type": "scatter",
         "uid": "ef5cda2c-0227-4bd7-899b-c903033da9d6",
         "x": [
          1001,
          1002,
          1003,
          1004,
          1005,
          1006,
          1007,
          1008,
          1009,
          1010
         ],
         "y": [
          0,
          0,
          0,
          21,
          22,
          20,
          18,
          null,
          24,
          null
         ]
        }
       ],
       "layout": {}
      },
      "text/html": [
       "<div id=\"eadf9253-0f20-4d5c-b897-910f35014054\" style=\"height: 525px; width: 100%;\" class=\"plotly-graph-div\"></div><script type=\"text/javascript\">require([\"plotly\"], function(Plotly) { window.PLOTLYENV=window.PLOTLYENV || {};window.PLOTLYENV.BASE_URL=\"https://plot.ly\";\n",
       "if (document.getElementById(\"eadf9253-0f20-4d5c-b897-910f35014054\")) {\n",
       "    Plotly.newPlot(\"eadf9253-0f20-4d5c-b897-910f35014054\", [{\"x\": [1001, 1002, 1003, 1004, 1005, 1006, 1007, 1008, 1009, 1010], \"y\": [0.0, 0.0, 0.0, 21.0, 22.0, 20.0, 18.0, null, 24.0, null], \"type\": \"scatter\", \"uid\": \"d80ba1e1-9c27-4b8f-ae8c-fbcde5b52e0d\"}], {}, {\"showLink\": false, \"linkText\": \"Export to plot.ly\", \"plotlyServerURL\": \"https://plot.ly\"}); \n",
       "}\n",
       "});</script><script type=\"text/javascript\">window.addEventListener(\"resize\", function(){if (document.getElementById(\"eadf9253-0f20-4d5c-b897-910f35014054\")) {window._Plotly.Plots.resize(document.getElementById(\"eadf9253-0f20-4d5c-b897-910f35014054\"));};})</script>"
      ],
      "text/vnd.plotly.v1+html": [
       "<div id=\"eadf9253-0f20-4d5c-b897-910f35014054\" style=\"height: 525px; width: 100%;\" class=\"plotly-graph-div\"></div><script type=\"text/javascript\">require([\"plotly\"], function(Plotly) { window.PLOTLYENV=window.PLOTLYENV || {};window.PLOTLYENV.BASE_URL=\"https://plot.ly\";\n",
       "if (document.getElementById(\"eadf9253-0f20-4d5c-b897-910f35014054\")) {\n",
       "    Plotly.newPlot(\"eadf9253-0f20-4d5c-b897-910f35014054\", [{\"x\": [1001, 1002, 1003, 1004, 1005, 1006, 1007, 1008, 1009, 1010], \"y\": [0.0, 0.0, 0.0, 21.0, 22.0, 20.0, 18.0, null, 24.0, null], \"type\": \"scatter\", \"uid\": \"d80ba1e1-9c27-4b8f-ae8c-fbcde5b52e0d\"}], {}, {\"showLink\": false, \"linkText\": \"Export to plot.ly\", \"plotlyServerURL\": \"https://plot.ly\"}); \n",
       "}\n",
       "});</script><script type=\"text/javascript\">window.addEventListener(\"resize\", function(){if (document.getElementById(\"eadf9253-0f20-4d5c-b897-910f35014054\")) {window._Plotly.Plots.resize(document.getElementById(\"eadf9253-0f20-4d5c-b897-910f35014054\"));};})</script>"
      ]
     },
     "metadata": {},
     "output_type": "display_data"
    },
    {
     "data": {
      "application/vnd.plotly.v1+json": {
       "config": {
        "linkText": "Export to plot.ly",
        "plotlyServerURL": "https://plot.ly",
        "showLink": false
       },
       "data": [
        {
         "type": "scatter",
         "uid": "42884d95-a335-4c54-98a6-2fb7569b8497",
         "x": [
          1001,
          1002,
          1003,
          1004,
          1005,
          1006,
          1007,
          1008,
          1009,
          1010
         ],
         "y": [
          7,
          4.6,
          8.6,
          2.4,
          2.5,
          2.3,
          2,
          null,
          2.4,
          null
         ]
        }
       ],
       "layout": {}
      },
      "text/html": [
       "<div id=\"35342daa-7bb9-4c57-9ec2-b5a598b9bd9f\" style=\"height: 525px; width: 100%;\" class=\"plotly-graph-div\"></div><script type=\"text/javascript\">require([\"plotly\"], function(Plotly) { window.PLOTLYENV=window.PLOTLYENV || {};window.PLOTLYENV.BASE_URL=\"https://plot.ly\";\n",
       "if (document.getElementById(\"35342daa-7bb9-4c57-9ec2-b5a598b9bd9f\")) {\n",
       "    Plotly.newPlot(\"35342daa-7bb9-4c57-9ec2-b5a598b9bd9f\", [{\"x\": [1001, 1002, 1003, 1004, 1005, 1006, 1007, 1008, 1009, 1010], \"y\": [7.0, 4.6, 8.6, 2.4, 2.5, 2.3, 2.0, null, 2.4, null], \"type\": \"scatter\", \"uid\": \"caf96dda-6fa6-40e1-b28f-b919ad97ea76\"}], {}, {\"showLink\": false, \"linkText\": \"Export to plot.ly\", \"plotlyServerURL\": \"https://plot.ly\"}); \n",
       "}\n",
       "});</script><script type=\"text/javascript\">window.addEventListener(\"resize\", function(){if (document.getElementById(\"35342daa-7bb9-4c57-9ec2-b5a598b9bd9f\")) {window._Plotly.Plots.resize(document.getElementById(\"35342daa-7bb9-4c57-9ec2-b5a598b9bd9f\"));};})</script>"
      ],
      "text/vnd.plotly.v1+html": [
       "<div id=\"35342daa-7bb9-4c57-9ec2-b5a598b9bd9f\" style=\"height: 525px; width: 100%;\" class=\"plotly-graph-div\"></div><script type=\"text/javascript\">require([\"plotly\"], function(Plotly) { window.PLOTLYENV=window.PLOTLYENV || {};window.PLOTLYENV.BASE_URL=\"https://plot.ly\";\n",
       "if (document.getElementById(\"35342daa-7bb9-4c57-9ec2-b5a598b9bd9f\")) {\n",
       "    Plotly.newPlot(\"35342daa-7bb9-4c57-9ec2-b5a598b9bd9f\", [{\"x\": [1001, 1002, 1003, 1004, 1005, 1006, 1007, 1008, 1009, 1010], \"y\": [7.0, 4.6, 8.6, 2.4, 2.5, 2.3, 2.0, null, 2.4, null], \"type\": \"scatter\", \"uid\": \"caf96dda-6fa6-40e1-b28f-b919ad97ea76\"}], {}, {\"showLink\": false, \"linkText\": \"Export to plot.ly\", \"plotlyServerURL\": \"https://plot.ly\"}); \n",
       "}\n",
       "});</script><script type=\"text/javascript\">window.addEventListener(\"resize\", function(){if (document.getElementById(\"35342daa-7bb9-4c57-9ec2-b5a598b9bd9f\")) {window._Plotly.Plots.resize(document.getElementById(\"35342daa-7bb9-4c57-9ec2-b5a598b9bd9f\"));};})</script>"
      ]
     },
     "metadata": {},
     "output_type": "display_data"
    },
    {
     "data": {
      "application/vnd.plotly.v1+json": {
       "config": {
        "linkText": "Export to plot.ly",
        "plotlyServerURL": "https://plot.ly",
        "showLink": false
       },
       "data": [
        {
         "type": "scatter",
         "uid": "e247b996-1e0e-4c81-b4e4-55b23e7fca73",
         "x": [
          1001,
          1002,
          1003,
          1004,
          1005,
          1006,
          1007,
          1008,
          1009,
          1010
         ],
         "y": [
          51.368,
          45.39,
          61.924,
          18.669,
          18.764,
          17.41,
          15.259,
          18.584,
          18.867,
          19.475
         ]
        }
       ],
       "layout": {}
      },
      "text/html": [
       "<div id=\"6e898d90-b2a4-478a-b8c5-377ae115da95\" style=\"height: 525px; width: 100%;\" class=\"plotly-graph-div\"></div><script type=\"text/javascript\">require([\"plotly\"], function(Plotly) { window.PLOTLYENV=window.PLOTLYENV || {};window.PLOTLYENV.BASE_URL=\"https://plot.ly\";\n",
       "if (document.getElementById(\"6e898d90-b2a4-478a-b8c5-377ae115da95\")) {\n",
       "    Plotly.newPlot(\"6e898d90-b2a4-478a-b8c5-377ae115da95\", [{\"x\": [1001, 1002, 1003, 1004, 1005, 1006, 1007, 1008, 1009, 1010], \"y\": [51.368, 45.39, 61.924, 18.669, 18.764, 17.41, 15.259, 18.584, 18.867, 19.475], \"type\": \"scatter\", \"uid\": \"3ebd1611-cc49-4a38-8f88-b92397d8a369\"}], {}, {\"showLink\": false, \"linkText\": \"Export to plot.ly\", \"plotlyServerURL\": \"https://plot.ly\"}); \n",
       "}\n",
       "});</script><script type=\"text/javascript\">window.addEventListener(\"resize\", function(){if (document.getElementById(\"6e898d90-b2a4-478a-b8c5-377ae115da95\")) {window._Plotly.Plots.resize(document.getElementById(\"6e898d90-b2a4-478a-b8c5-377ae115da95\"));};})</script>"
      ],
      "text/vnd.plotly.v1+html": [
       "<div id=\"6e898d90-b2a4-478a-b8c5-377ae115da95\" style=\"height: 525px; width: 100%;\" class=\"plotly-graph-div\"></div><script type=\"text/javascript\">require([\"plotly\"], function(Plotly) { window.PLOTLYENV=window.PLOTLYENV || {};window.PLOTLYENV.BASE_URL=\"https://plot.ly\";\n",
       "if (document.getElementById(\"6e898d90-b2a4-478a-b8c5-377ae115da95\")) {\n",
       "    Plotly.newPlot(\"6e898d90-b2a4-478a-b8c5-377ae115da95\", [{\"x\": [1001, 1002, 1003, 1004, 1005, 1006, 1007, 1008, 1009, 1010], \"y\": [51.368, 45.39, 61.924, 18.669, 18.764, 17.41, 15.259, 18.584, 18.867, 19.475], \"type\": \"scatter\", \"uid\": \"3ebd1611-cc49-4a38-8f88-b92397d8a369\"}], {}, {\"showLink\": false, \"linkText\": \"Export to plot.ly\", \"plotlyServerURL\": \"https://plot.ly\"}); \n",
       "}\n",
       "});</script><script type=\"text/javascript\">window.addEventListener(\"resize\", function(){if (document.getElementById(\"6e898d90-b2a4-478a-b8c5-377ae115da95\")) {window._Plotly.Plots.resize(document.getElementById(\"6e898d90-b2a4-478a-b8c5-377ae115da95\"));};})</script>"
      ]
     },
     "metadata": {},
     "output_type": "display_data"
    },
    {
     "data": {
      "application/vnd.plotly.v1+json": {
       "config": {
        "linkText": "Export to plot.ly",
        "plotlyServerURL": "https://plot.ly",
        "showLink": false
       },
       "data": [
        {
         "type": "scatter",
         "uid": "dd7b642f-8a8b-4c65-b0aa-2f6361d3489a",
         "x": [
          1001,
          1002,
          1003,
          1004,
          1005,
          1006,
          1007,
          1008,
          1009,
          1010
         ],
         "y": [
          21.021,
          19.874000000000002,
          28.732,
          7.778,
          8.597999999999999,
          8.013,
          7.023,
          8.275,
          9.246,
          8.671
         ]
        }
       ],
       "layout": {}
      },
      "text/html": [
       "<div id=\"c0093313-889b-493d-996a-8e29d9f6a34a\" style=\"height: 525px; width: 100%;\" class=\"plotly-graph-div\"></div><script type=\"text/javascript\">require([\"plotly\"], function(Plotly) { window.PLOTLYENV=window.PLOTLYENV || {};window.PLOTLYENV.BASE_URL=\"https://plot.ly\";\n",
       "if (document.getElementById(\"c0093313-889b-493d-996a-8e29d9f6a34a\")) {\n",
       "    Plotly.newPlot(\"c0093313-889b-493d-996a-8e29d9f6a34a\", [{\"x\": [1001, 1002, 1003, 1004, 1005, 1006, 1007, 1008, 1009, 1010], \"y\": [21.021, 19.874000000000002, 28.732, 7.778, 8.597999999999999, 8.013, 7.023, 8.275, 9.246, 8.671], \"type\": \"scatter\", \"uid\": \"2f31a2d4-3da6-4482-b857-dc4f798313d1\"}], {}, {\"showLink\": false, \"linkText\": \"Export to plot.ly\", \"plotlyServerURL\": \"https://plot.ly\"}); \n",
       "}\n",
       "});</script><script type=\"text/javascript\">window.addEventListener(\"resize\", function(){if (document.getElementById(\"c0093313-889b-493d-996a-8e29d9f6a34a\")) {window._Plotly.Plots.resize(document.getElementById(\"c0093313-889b-493d-996a-8e29d9f6a34a\"));};})</script>"
      ],
      "text/vnd.plotly.v1+html": [
       "<div id=\"c0093313-889b-493d-996a-8e29d9f6a34a\" style=\"height: 525px; width: 100%;\" class=\"plotly-graph-div\"></div><script type=\"text/javascript\">require([\"plotly\"], function(Plotly) { window.PLOTLYENV=window.PLOTLYENV || {};window.PLOTLYENV.BASE_URL=\"https://plot.ly\";\n",
       "if (document.getElementById(\"c0093313-889b-493d-996a-8e29d9f6a34a\")) {\n",
       "    Plotly.newPlot(\"c0093313-889b-493d-996a-8e29d9f6a34a\", [{\"x\": [1001, 1002, 1003, 1004, 1005, 1006, 1007, 1008, 1009, 1010], \"y\": [21.021, 19.874000000000002, 28.732, 7.778, 8.597999999999999, 8.013, 7.023, 8.275, 9.246, 8.671], \"type\": \"scatter\", \"uid\": \"2f31a2d4-3da6-4482-b857-dc4f798313d1\"}], {}, {\"showLink\": false, \"linkText\": \"Export to plot.ly\", \"plotlyServerURL\": \"https://plot.ly\"}); \n",
       "}\n",
       "});</script><script type=\"text/javascript\">window.addEventListener(\"resize\", function(){if (document.getElementById(\"c0093313-889b-493d-996a-8e29d9f6a34a\")) {window._Plotly.Plots.resize(document.getElementById(\"c0093313-889b-493d-996a-8e29d9f6a34a\"));};})</script>"
      ]
     },
     "metadata": {},
     "output_type": "display_data"
    },
    {
     "data": {
      "application/vnd.plotly.v1+json": {
       "config": {
        "linkText": "Export to plot.ly",
        "plotlyServerURL": "https://plot.ly",
        "showLink": false
       },
       "data": [
        {
         "type": "scatter",
         "uid": "1fa7fb41-6265-4891-a1d8-1c5a55ae23f0",
         "x": [
          1001,
          1002,
          1003,
          1004,
          1005,
          1006,
          1007,
          1008,
          1009,
          1010
         ],
         "y": [
          3.043,
          3.3310000000000004,
          3.694,
          0.8,
          0.784,
          0.826,
          0.7240000000000001,
          0.83,
          1.421,
          0.87
         ]
        }
       ],
       "layout": {}
      },
      "text/html": [
       "<div id=\"01fb59ce-8199-49ca-add4-9256329c3fec\" style=\"height: 525px; width: 100%;\" class=\"plotly-graph-div\"></div><script type=\"text/javascript\">require([\"plotly\"], function(Plotly) { window.PLOTLYENV=window.PLOTLYENV || {};window.PLOTLYENV.BASE_URL=\"https://plot.ly\";\n",
       "if (document.getElementById(\"01fb59ce-8199-49ca-add4-9256329c3fec\")) {\n",
       "    Plotly.newPlot(\"01fb59ce-8199-49ca-add4-9256329c3fec\", [{\"x\": [1001, 1002, 1003, 1004, 1005, 1006, 1007, 1008, 1009, 1010], \"y\": [3.043, 3.3310000000000004, 3.694, 0.8, 0.784, 0.826, 0.7240000000000001, 0.83, 1.421, 0.87], \"type\": \"scatter\", \"uid\": \"402b1be2-e05e-4c1c-98bd-225e7ddc32cc\"}], {}, {\"showLink\": false, \"linkText\": \"Export to plot.ly\", \"plotlyServerURL\": \"https://plot.ly\"}); \n",
       "}\n",
       "});</script><script type=\"text/javascript\">window.addEventListener(\"resize\", function(){if (document.getElementById(\"01fb59ce-8199-49ca-add4-9256329c3fec\")) {window._Plotly.Plots.resize(document.getElementById(\"01fb59ce-8199-49ca-add4-9256329c3fec\"));};})</script>"
      ],
      "text/vnd.plotly.v1+html": [
       "<div id=\"01fb59ce-8199-49ca-add4-9256329c3fec\" style=\"height: 525px; width: 100%;\" class=\"plotly-graph-div\"></div><script type=\"text/javascript\">require([\"plotly\"], function(Plotly) { window.PLOTLYENV=window.PLOTLYENV || {};window.PLOTLYENV.BASE_URL=\"https://plot.ly\";\n",
       "if (document.getElementById(\"01fb59ce-8199-49ca-add4-9256329c3fec\")) {\n",
       "    Plotly.newPlot(\"01fb59ce-8199-49ca-add4-9256329c3fec\", [{\"x\": [1001, 1002, 1003, 1004, 1005, 1006, 1007, 1008, 1009, 1010], \"y\": [3.043, 3.3310000000000004, 3.694, 0.8, 0.784, 0.826, 0.7240000000000001, 0.83, 1.421, 0.87], \"type\": \"scatter\", \"uid\": \"402b1be2-e05e-4c1c-98bd-225e7ddc32cc\"}], {}, {\"showLink\": false, \"linkText\": \"Export to plot.ly\", \"plotlyServerURL\": \"https://plot.ly\"}); \n",
       "}\n",
       "});</script><script type=\"text/javascript\">window.addEventListener(\"resize\", function(){if (document.getElementById(\"01fb59ce-8199-49ca-add4-9256329c3fec\")) {window._Plotly.Plots.resize(document.getElementById(\"01fb59ce-8199-49ca-add4-9256329c3fec\"));};})</script>"
      ]
     },
     "metadata": {},
     "output_type": "display_data"
    }
   ],
   "source": [
    "for i in range(2, 47, 1):\n",
    "#     print(column)\n",
    "    plotly.offline.iplot({\n",
    "    \"data\": [go.Scatter(x=df.iloc[:10, 0], y=df.iloc[:10, i])]\n",
    "})"
   ]
  },
  {
   "cell_type": "code",
   "execution_count": 87,
   "metadata": {},
   "outputs": [
    {
     "data": {
      "text/html": [
       "<script type=\"text/javascript\">window.PlotlyConfig = {MathJaxConfig: 'local'};</script><script type=\"text/javascript\">if (window.MathJax) {MathJax.Hub.Config({SVG: {font: \"STIX-Web\"}});}</script><script>requirejs.config({paths: { 'plotly': ['https://cdn.plot.ly/plotly-latest.min']},});if(!window._Plotly) {require(['plotly'],function(plotly) {window._Plotly=plotly;});}</script>"
      ],
      "text/vnd.plotly.v1+html": [
       "<script type=\"text/javascript\">window.PlotlyConfig = {MathJaxConfig: 'local'};</script><script type=\"text/javascript\">if (window.MathJax) {MathJax.Hub.Config({SVG: {font: \"STIX-Web\"}});}</script><script>requirejs.config({paths: { 'plotly': ['https://cdn.plot.ly/plotly-latest.min']},});if(!window._Plotly) {require(['plotly'],function(plotly) {window._Plotly=plotly;});}</script>"
      ]
     },
     "metadata": {},
     "output_type": "display_data"
    },
    {
     "name": "stdout",
     "output_type": "stream",
     "text": [
      "High five! You successfully sent some data to your account on plotly. View your plot in your browser at https://plot.ly/~AkhzarFarhan/0 or inside your plot.ly account where it is named 'stacked-subplots-shared-x-axis'\n"
     ]
    },
    {
     "data": {
      "text/html": [
       "<iframe id=\"igraph\" scrolling=\"no\" style=\"border:none;\" seamless=\"seamless\" src=\"https://plot.ly/~AkhzarFarhan/0.embed\" height=\"525px\" width=\"100%\"></iframe>"
      ],
      "text/plain": [
       "<plotly.tools.PlotlyDisplay object>"
      ]
     },
     "execution_count": 87,
     "metadata": {},
     "output_type": "execute_result"
    }
   ],
   "source": [
    "import plotly.plotly as py\n",
    "import plotly.graph_objs as go\n",
    "\n",
    "plotly.offline.init_notebook_mode(connected=True)\n",
    "\n",
    "trace1 = go.Scatter(\n",
    "    x=df.iloc[:, 0],\n",
    "    y=df.iloc[:, 2]\n",
    ")\n",
    "trace2 = go.Scatter(\n",
    "    x=df.iloc[:, 0],\n",
    "    y=df.iloc[:, 3],\n",
    "    yaxis='y2'\n",
    ")\n",
    "trace3 = go.Scatter(\n",
    "    x=df.iloc[:, 0],\n",
    "    y=df.iloc[:, 4],\n",
    "    yaxis='y3'\n",
    ")\n",
    "data = []\n",
    "for i in range()\n",
    "layout = go.Layout(\n",
    "    yaxis=dict(\n",
    "        domain=[0, 0.33]\n",
    "    ),\n",
    "    legend=dict(\n",
    "        traceorder='reversed'\n",
    "    ),\n",
    "    yaxis2=dict(\n",
    "        domain=[0.33, 0.66]\n",
    "    ),\n",
    "    yaxis3=dict(\n",
    "        domain=[0.66, 1]\n",
    "    )\n",
    ")\n",
    "py.iplot(fig, filename='stacked-subplots-shared-x-axis')"
   ]
  },
  {
   "cell_type": "code",
   "execution_count": null,
   "metadata": {},
   "outputs": [],
   "source": []
  }
 ],
 "metadata": {
  "kernelspec": {
   "display_name": "Python 3",
   "language": "python",
   "name": "python3"
  },
  "language_info": {
   "codemirror_mode": {
    "name": "ipython",
    "version": 3
   },
   "file_extension": ".py",
   "mimetype": "text/x-python",
   "name": "python",
   "nbconvert_exporter": "python",
   "pygments_lexer": "ipython3",
   "version": "3.6.7"
  }
 },
 "nbformat": 4,
 "nbformat_minor": 2
}
