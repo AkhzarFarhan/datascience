{
 "cells": [
  {
   "cell_type": "code",
   "execution_count": 1,
   "metadata": {},
   "outputs": [],
   "source": [
    "import pandas as pd\n",
    "from sklearn.naive_bayes import GaussianNB\n",
    "import numpy as np"
   ]
  },
  {
   "cell_type": "code",
   "execution_count": 2,
   "metadata": {},
   "outputs": [],
   "source": [
    "train_csv = pd.read_csv('train.csv')\n",
    "X = pd.DataFrame(train_csv).drop('total_sales', axis=1)\n",
    "y = pd.DataFrame(train_csv)['total_sales']"
   ]
  },
  {
   "cell_type": "code",
   "execution_count": 3,
   "metadata": {},
   "outputs": [
    {
     "data": {
      "text/html": [
       "<div>\n",
       "<style scoped>\n",
       "    .dataframe tbody tr th:only-of-type {\n",
       "        vertical-align: middle;\n",
       "    }\n",
       "\n",
       "    .dataframe tbody tr th {\n",
       "        vertical-align: top;\n",
       "    }\n",
       "\n",
       "    .dataframe thead th {\n",
       "        text-align: right;\n",
       "    }\n",
       "</style>\n",
       "<table border=\"1\" class=\"dataframe\">\n",
       "  <thead>\n",
       "    <tr style=\"text-align: right;\">\n",
       "      <th></th>\n",
       "      <th>outlet_no</th>\n",
       "      <th>business_type</th>\n",
       "      <th>city</th>\n",
       "      <th>state</th>\n",
       "      <th>zip</th>\n",
       "      <th>store_location</th>\n",
       "      <th>avg_age</th>\n",
       "      <th>blue_collar</th>\n",
       "      <th>white_collar</th>\n",
       "      <th>female</th>\n",
       "      <th>...</th>\n",
       "      <th>total_household_size</th>\n",
       "      <th>total_household_income</th>\n",
       "      <th>time_zone</th>\n",
       "      <th>latitude</th>\n",
       "      <th>longitude</th>\n",
       "      <th>location_employee_code</th>\n",
       "      <th>employee_size</th>\n",
       "      <th>credit_score</th>\n",
       "      <th>credit_score_range</th>\n",
       "      <th>actual_credit_score</th>\n",
       "    </tr>\n",
       "  </thead>\n",
       "  <tbody>\n",
       "    <tr>\n",
       "      <th>0</th>\n",
       "      <td>247</td>\n",
       "      <td>1</td>\n",
       "      <td>LIMA</td>\n",
       "      <td>OH</td>\n",
       "      <td>45804</td>\n",
       "      <td>TRAVEL/TRANSPORTATION/HOSPITALITY</td>\n",
       "      <td>44.01</td>\n",
       "      <td>43.68</td>\n",
       "      <td>35.41</td>\n",
       "      <td>53.37</td>\n",
       "      <td>...</td>\n",
       "      <td>2.24</td>\n",
       "      <td>63860000</td>\n",
       "      <td>EST</td>\n",
       "      <td>40.704283</td>\n",
       "      <td>-84.147047</td>\n",
       "      <td>E</td>\n",
       "      <td>70</td>\n",
       "      <td>B</td>\n",
       "      <td>80 TO 84</td>\n",
       "      <td>80</td>\n",
       "    </tr>\n",
       "    <tr>\n",
       "      <th>1</th>\n",
       "      <td>253</td>\n",
       "      <td>4</td>\n",
       "      <td>VACAVILLE</td>\n",
       "      <td>CA</td>\n",
       "      <td>95687</td>\n",
       "      <td>AT-WORK</td>\n",
       "      <td>38.36</td>\n",
       "      <td>41.31</td>\n",
       "      <td>26.48</td>\n",
       "      <td>54.00</td>\n",
       "      <td>...</td>\n",
       "      <td>2.54</td>\n",
       "      <td>92764000</td>\n",
       "      <td>PST</td>\n",
       "      <td>38.354860</td>\n",
       "      <td>-121.950360</td>\n",
       "      <td>D</td>\n",
       "      <td>35</td>\n",
       "      <td>A</td>\n",
       "      <td>90 TO 94</td>\n",
       "      <td>91</td>\n",
       "    </tr>\n",
       "    <tr>\n",
       "      <th>2</th>\n",
       "      <td>265</td>\n",
       "      <td>4</td>\n",
       "      <td>CINCINNATI</td>\n",
       "      <td>OH</td>\n",
       "      <td>45219</td>\n",
       "      <td>EDUCATIONAL</td>\n",
       "      <td>28.81</td>\n",
       "      <td>17.22</td>\n",
       "      <td>43.06</td>\n",
       "      <td>45.56</td>\n",
       "      <td>...</td>\n",
       "      <td>1.90</td>\n",
       "      <td>51027000</td>\n",
       "      <td>EST</td>\n",
       "      <td>39.136100</td>\n",
       "      <td>-84.504288</td>\n",
       "      <td>C</td>\n",
       "      <td>13</td>\n",
       "      <td>A+</td>\n",
       "      <td>95 TO 100</td>\n",
       "      <td>97</td>\n",
       "    </tr>\n",
       "    <tr>\n",
       "      <th>3</th>\n",
       "      <td>267</td>\n",
       "      <td>1</td>\n",
       "      <td>GLASGOW</td>\n",
       "      <td>KY</td>\n",
       "      <td>42141</td>\n",
       "      <td>AT-WORK</td>\n",
       "      <td>42.89</td>\n",
       "      <td>38.49</td>\n",
       "      <td>44.00</td>\n",
       "      <td>52.41</td>\n",
       "      <td>...</td>\n",
       "      <td>2.24</td>\n",
       "      <td>47119000</td>\n",
       "      <td>CST</td>\n",
       "      <td>37.010838</td>\n",
       "      <td>-85.903418</td>\n",
       "      <td>A</td>\n",
       "      <td>3</td>\n",
       "      <td>B+</td>\n",
       "      <td>85 TO 89</td>\n",
       "      <td>86</td>\n",
       "    </tr>\n",
       "    <tr>\n",
       "      <th>4</th>\n",
       "      <td>276</td>\n",
       "      <td>1</td>\n",
       "      <td>BOWLING GREEN</td>\n",
       "      <td>KY</td>\n",
       "      <td>42101</td>\n",
       "      <td>EATING &amp; DRINKING</td>\n",
       "      <td>38.82</td>\n",
       "      <td>60.82</td>\n",
       "      <td>26.24</td>\n",
       "      <td>54.18</td>\n",
       "      <td>...</td>\n",
       "      <td>1.93</td>\n",
       "      <td>47941000</td>\n",
       "      <td>CST</td>\n",
       "      <td>36.964703</td>\n",
       "      <td>-86.436535</td>\n",
       "      <td>A</td>\n",
       "      <td>3</td>\n",
       "      <td>P</td>\n",
       "      <td>PROFESSIONAL INDIVIDUAL</td>\n",
       "      <td>78</td>\n",
       "    </tr>\n",
       "  </tbody>\n",
       "</table>\n",
       "<p>5 rows × 21 columns</p>\n",
       "</div>"
      ],
      "text/plain": [
       "   outlet_no  business_type           city state    zip  \\\n",
       "0        247              1           LIMA    OH  45804   \n",
       "1        253              4      VACAVILLE    CA  95687   \n",
       "2        265              4     CINCINNATI    OH  45219   \n",
       "3        267              1        GLASGOW    KY  42141   \n",
       "4        276              1  BOWLING GREEN    KY  42101   \n",
       "\n",
       "                      store_location  avg_age  blue_collar  white_collar  \\\n",
       "0  TRAVEL/TRANSPORTATION/HOSPITALITY    44.01        43.68         35.41   \n",
       "1                            AT-WORK    38.36        41.31         26.48   \n",
       "2                        EDUCATIONAL    28.81        17.22         43.06   \n",
       "3                            AT-WORK    42.89        38.49         44.00   \n",
       "4                  EATING & DRINKING    38.82        60.82         26.24   \n",
       "\n",
       "   female         ...          total_household_size   total_household_income  \\\n",
       "0   53.37         ...                           2.24                63860000   \n",
       "1   54.00         ...                           2.54                92764000   \n",
       "2   45.56         ...                           1.90                51027000   \n",
       "3   52.41         ...                           2.24                47119000   \n",
       "4   54.18         ...                           1.93                47941000   \n",
       "\n",
       "   time_zone   latitude   longitude  location_employee_code employee_size  \\\n",
       "0        EST  40.704283  -84.147047                       E            70   \n",
       "1        PST  38.354860 -121.950360                       D            35   \n",
       "2        EST  39.136100  -84.504288                       C            13   \n",
       "3        CST  37.010838  -85.903418                       A             3   \n",
       "4        CST  36.964703  -86.436535                       A             3   \n",
       "\n",
       "   credit_score       credit_score_range actual_credit_score  \n",
       "0             B                 80 TO 84                  80  \n",
       "1             A                 90 TO 94                  91  \n",
       "2            A+                95 TO 100                  97  \n",
       "3            B+                 85 TO 89                  86  \n",
       "4             P  PROFESSIONAL INDIVIDUAL                  78  \n",
       "\n",
       "[5 rows x 21 columns]"
      ]
     },
     "execution_count": 3,
     "metadata": {},
     "output_type": "execute_result"
    }
   ],
   "source": [
    "X.head()"
   ]
  },
  {
   "cell_type": "code",
   "execution_count": 4,
   "metadata": {},
   "outputs": [
    {
     "data": {
      "text/plain": [
       "0    4070\n",
       "1    4323\n",
       "2    2163\n",
       "3     528\n",
       "4     528\n",
       "Name: total_sales, dtype: int64"
      ]
     },
     "execution_count": 4,
     "metadata": {},
     "output_type": "execute_result"
    }
   ],
   "source": [
    "y.head()"
   ]
  },
  {
   "cell_type": "code",
   "execution_count": 5,
   "metadata": {},
   "outputs": [],
   "source": [
    "X_encoded = pd.get_dummies(X)"
   ]
  },
  {
   "cell_type": "code",
   "execution_count": 6,
   "metadata": {},
   "outputs": [],
   "source": [
    "test_csv = pd.read_csv('test.csv')\n",
    "test = pd.DataFrame(test_csv)\n",
    "test_encoded = pd.get_dummies(test)"
   ]
  },
  {
   "cell_type": "code",
   "execution_count": 7,
   "metadata": {},
   "outputs": [],
   "source": [
    "final_X, final_test = X_encoded.align(test_encoded, join='left', axis=1)"
   ]
  },
  {
   "cell_type": "code",
   "execution_count": 8,
   "metadata": {},
   "outputs": [],
   "source": [
    "model = GaussianNB()"
   ]
  },
  {
   "cell_type": "code",
   "execution_count": 9,
   "metadata": {},
   "outputs": [
    {
     "data": {
      "text/plain": [
       "GaussianNB(priors=None, var_smoothing=1e-09)"
      ]
     },
     "execution_count": 9,
     "metadata": {},
     "output_type": "execute_result"
    }
   ],
   "source": [
    "model.fit(final_X, y)"
   ]
  },
  {
   "cell_type": "code",
   "execution_count": 10,
   "metadata": {},
   "outputs": [
    {
     "data": {
      "text/plain": [
       "True"
      ]
     },
     "execution_count": 10,
     "metadata": {},
     "output_type": "execute_result"
    }
   ],
   "source": [
    "np.any(np.isnan(final_test))"
   ]
  },
  {
   "cell_type": "code",
   "execution_count": 11,
   "metadata": {},
   "outputs": [],
   "source": [
    "final_test = final_test.fillna(0)"
   ]
  },
  {
   "cell_type": "code",
   "execution_count": 12,
   "metadata": {},
   "outputs": [],
   "source": [
    "arr = model.predict(final_test)"
   ]
  },
  {
   "cell_type": "code",
   "execution_count": 13,
   "metadata": {},
   "outputs": [],
   "source": [
    "indices = np.arange(1001, 1256)"
   ]
  },
  {
   "cell_type": "code",
   "execution_count": 14,
   "metadata": {},
   "outputs": [
    {
     "data": {
      "text/html": [
       "<div>\n",
       "<style scoped>\n",
       "    .dataframe tbody tr th:only-of-type {\n",
       "        vertical-align: middle;\n",
       "    }\n",
       "\n",
       "    .dataframe tbody tr th {\n",
       "        vertical-align: top;\n",
       "    }\n",
       "\n",
       "    .dataframe thead th {\n",
       "        text-align: right;\n",
       "    }\n",
       "</style>\n",
       "<table border=\"1\" class=\"dataframe\">\n",
       "  <thead>\n",
       "    <tr style=\"text-align: right;\">\n",
       "      <th></th>\n",
       "      <th>outlet_no</th>\n",
       "      <th>total_sales_actual</th>\n",
       "    </tr>\n",
       "  </thead>\n",
       "  <tbody>\n",
       "    <tr>\n",
       "      <th>0</th>\n",
       "      <td>1001</td>\n",
       "      <td>548</td>\n",
       "    </tr>\n",
       "    <tr>\n",
       "      <th>1</th>\n",
       "      <td>1002</td>\n",
       "      <td>548</td>\n",
       "    </tr>\n",
       "    <tr>\n",
       "      <th>2</th>\n",
       "      <td>1003</td>\n",
       "      <td>513</td>\n",
       "    </tr>\n",
       "    <tr>\n",
       "      <th>3</th>\n",
       "      <td>1004</td>\n",
       "      <td>548</td>\n",
       "    </tr>\n",
       "    <tr>\n",
       "      <th>4</th>\n",
       "      <td>1005</td>\n",
       "      <td>513</td>\n",
       "    </tr>\n",
       "  </tbody>\n",
       "</table>\n",
       "</div>"
      ],
      "text/plain": [
       "   outlet_no  total_sales_actual\n",
       "0       1001                 548\n",
       "1       1002                 548\n",
       "2       1003                 513\n",
       "3       1004                 548\n",
       "4       1005                 513"
      ]
     },
     "execution_count": 14,
     "metadata": {},
     "output_type": "execute_result"
    }
   ],
   "source": [
    "put = pd.DataFrame({'outlet_no':indices, 'total_sales_actual':arr})\n",
    "put.head()"
   ]
  },
  {
   "cell_type": "code",
   "execution_count": 15,
   "metadata": {},
   "outputs": [],
   "source": [
    "put.to_csv('sample.csv', mode='a', index=False)"
   ]
  },
  {
   "cell_type": "code",
   "execution_count": null,
   "metadata": {},
   "outputs": [],
   "source": []
  }
 ],
 "metadata": {
  "kernelspec": {
   "display_name": "Python 3",
   "language": "python",
   "name": "python3"
  },
  "language_info": {
   "codemirror_mode": {
    "name": "ipython",
    "version": 3
   },
   "file_extension": ".py",
   "mimetype": "text/x-python",
   "name": "python",
   "nbconvert_exporter": "python",
   "pygments_lexer": "ipython3",
   "version": "3.6.7"
  }
 },
 "nbformat": 4,
 "nbformat_minor": 2
}
